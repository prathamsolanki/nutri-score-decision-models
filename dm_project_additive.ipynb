{
  "nbformat": 4,
  "nbformat_minor": 0,
  "metadata": {
    "kernelspec": {
      "display_name": "dm_venv",
      "language": "python",
      "name": "dm_venv"
    },
    "language_info": {
      "codemirror_mode": {
        "name": "ipython",
        "version": 3
      },
      "file_extension": ".py",
      "mimetype": "text/x-python",
      "name": "python",
      "nbconvert_exporter": "python",
      "pygments_lexer": "ipython3",
      "version": "3.7.1"
    },
    "colab": {
      "name": "dm_project_additive.ipynb",
      "provenance": [],
      "collapsed_sections": []
    }
  },
  "cells": [
    {
      "cell_type": "code",
      "metadata": {
        "id": "p1HCEtOyXZtD",
        "colab_type": "code",
        "colab": {
          "base_uri": "https://localhost:8080/",
          "height": 53
        },
        "outputId": "42fd91f5-8dab-4096-8054-27b904278e1e"
      },
      "source": [
        "!pip install pulp\n",
        "from pulp import *\n",
        "import pandas as pd\n",
        "import sys\n",
        "import matplotlib.pyplot as plt\n",
        "import numpy as np\n",
        "from sklearn.model_selection import train_test_split\n",
        "from sklearn.metrics import confusion_matrix"
      ],
      "execution_count": 76,
      "outputs": [
        {
          "output_type": "stream",
          "text": [
            "Requirement already satisfied: pulp in /usr/local/lib/python3.6/dist-packages (2.0)\n",
            "Requirement already satisfied: pyparsing>=2.0.1 in /usr/local/lib/python3.6/dist-packages (from pulp) (2.4.6)\n"
          ],
          "name": "stdout"
        }
      ]
    },
    {
      "cell_type": "code",
      "metadata": {
        "id": "8gOG5FGwXZtM",
        "colab_type": "code",
        "colab": {}
      },
      "source": [
        "#!{sys.executable} -m pip install xlrd"
      ],
      "execution_count": 0,
      "outputs": []
    },
    {
      "cell_type": "markdown",
      "metadata": {
        "id": "APb3RUyeXZtR",
        "colab_type": "text"
      },
      "source": [
        "# Importing the dataset"
      ]
    },
    {
      "cell_type": "code",
      "metadata": {
        "id": "f5bsWUahXZtT",
        "colab_type": "code",
        "outputId": "a66743ec-0840-45e2-ec32-400a77e5e5e8",
        "colab": {
          "base_uri": "https://localhost:8080/",
          "height": 108
        }
      },
      "source": [
        "df = pd.read_excel(\"openfoodfacts_simplified_database.xlsx\")\n",
        "df = df[~df['nutrition_grade_fr'].isna()]\n",
        "df['nutrition_grade_fr'].describe()"
      ],
      "execution_count": 78,
      "outputs": [
        {
          "output_type": "execute_result",
          "data": {
            "text/plain": [
              "count     5925\n",
              "unique       5\n",
              "top          d\n",
              "freq      1599\n",
              "Name: nutrition_grade_fr, dtype: object"
            ]
          },
          "metadata": {
            "tags": []
          },
          "execution_count": 78
        }
      ]
    },
    {
      "cell_type": "code",
      "metadata": {
        "id": "H-xUA-96XZte",
        "colab_type": "code",
        "outputId": "92178bd7-8d99-4400-8c42-5b71641755b1",
        "colab": {
          "base_uri": "https://localhost:8080/",
          "height": 206
        }
      },
      "source": [
        "cols = ['energy_100g', 'saturated-fat_100g', 'sugars_100g', 'fiber_100g', 'proteins_100g', 'sodium_100g', 'nutrition_grade_fr']\n",
        "df = df[cols]\n",
        "df.columns = ['energy', 'saturated_fat', 'sugars', 'fiber', 'proteins', 'salt', 'nutriscore']\n",
        "df.head()"
      ],
      "execution_count": 79,
      "outputs": [
        {
          "output_type": "execute_result",
          "data": {
            "text/html": [
              "<div>\n",
              "<style scoped>\n",
              "    .dataframe tbody tr th:only-of-type {\n",
              "        vertical-align: middle;\n",
              "    }\n",
              "\n",
              "    .dataframe tbody tr th {\n",
              "        vertical-align: top;\n",
              "    }\n",
              "\n",
              "    .dataframe thead th {\n",
              "        text-align: right;\n",
              "    }\n",
              "</style>\n",
              "<table border=\"1\" class=\"dataframe\">\n",
              "  <thead>\n",
              "    <tr style=\"text-align: right;\">\n",
              "      <th></th>\n",
              "      <th>energy</th>\n",
              "      <th>saturated_fat</th>\n",
              "      <th>sugars</th>\n",
              "      <th>fiber</th>\n",
              "      <th>proteins</th>\n",
              "      <th>salt</th>\n",
              "      <th>nutriscore</th>\n",
              "    </tr>\n",
              "  </thead>\n",
              "  <tbody>\n",
              "    <tr>\n",
              "      <th>0</th>\n",
              "      <td>590.0</td>\n",
              "      <td>0.5</td>\n",
              "      <td>5.5</td>\n",
              "      <td>1.8</td>\n",
              "      <td>6.2</td>\n",
              "      <td>0.236</td>\n",
              "      <td>b</td>\n",
              "    </tr>\n",
              "    <tr>\n",
              "      <th>3</th>\n",
              "      <td>1477.0</td>\n",
              "      <td>1.5</td>\n",
              "      <td>10.0</td>\n",
              "      <td>9.9</td>\n",
              "      <td>5.4</td>\n",
              "      <td>2.200</td>\n",
              "      <td>b</td>\n",
              "    </tr>\n",
              "    <tr>\n",
              "      <th>4</th>\n",
              "      <td>176.0</td>\n",
              "      <td>0.0</td>\n",
              "      <td>9.7</td>\n",
              "      <td>0.0</td>\n",
              "      <td>0.5</td>\n",
              "      <td>0.000</td>\n",
              "      <td>c</td>\n",
              "    </tr>\n",
              "    <tr>\n",
              "      <th>8</th>\n",
              "      <td>1022.0</td>\n",
              "      <td>1.9</td>\n",
              "      <td>0.5</td>\n",
              "      <td>1.4</td>\n",
              "      <td>12.0</td>\n",
              "      <td>0.332</td>\n",
              "      <td>b</td>\n",
              "    </tr>\n",
              "    <tr>\n",
              "      <th>9</th>\n",
              "      <td>196.0</td>\n",
              "      <td>0.0</td>\n",
              "      <td>11.0</td>\n",
              "      <td>0.5</td>\n",
              "      <td>0.7</td>\n",
              "      <td>0.040</td>\n",
              "      <td>c</td>\n",
              "    </tr>\n",
              "  </tbody>\n",
              "</table>\n",
              "</div>"
            ],
            "text/plain": [
              "   energy  saturated_fat  sugars  fiber  proteins   salt nutriscore\n",
              "0   590.0            0.5     5.5    1.8       6.2  0.236          b\n",
              "3  1477.0            1.5    10.0    9.9       5.4  2.200          b\n",
              "4   176.0            0.0     9.7    0.0       0.5  0.000          c\n",
              "8  1022.0            1.9     0.5    1.4      12.0  0.332          b\n",
              "9   196.0            0.0    11.0    0.5       0.7  0.040          c"
            ]
          },
          "metadata": {
            "tags": []
          },
          "execution_count": 79
        }
      ]
    },
    {
      "cell_type": "code",
      "metadata": {
        "id": "uP_lRee0XZtg",
        "colab_type": "code",
        "colab": {}
      },
      "source": [
        "df = df[~df['energy'].isna()]\n",
        "df = df[~df['saturated_fat'].isna()]\n",
        "df = df[~df['sugars'].isna()]\n",
        "df = df[~df['fiber'].isna()]\n",
        "df = df[~df['proteins'].isna()]\n",
        "df = df[~df['salt'].isna()]"
      ],
      "execution_count": 0,
      "outputs": []
    },
    {
      "cell_type": "code",
      "metadata": {
        "id": "G4mNyD8WLWW6",
        "colab_type": "code",
        "outputId": "21009e24-938e-41cb-df78-889c766f5e28",
        "colab": {
          "base_uri": "https://localhost:8080/",
          "height": 283
        }
      },
      "source": [
        "df['nutriscore'].hist()"
      ],
      "execution_count": 81,
      "outputs": [
        {
          "output_type": "execute_result",
          "data": {
            "text/plain": [
              "<matplotlib.axes._subplots.AxesSubplot at 0x7f9d59c21470>"
            ]
          },
          "metadata": {
            "tags": []
          },
          "execution_count": 81
        },
        {
          "output_type": "display_data",
          "data": {
            "image/png": "[encoded data removed]",
            "text/plain": [
              "<Figure size 432x288 with 1 Axes>"
            ]
          },
          "metadata": {
            "tags": []
          }
        }
      ]
    },
    {
      "cell_type": "code",
      "metadata": {
        "id": "S5i9Q8c7XZth",
        "colab_type": "code",
        "colab": {}
      },
      "source": [
        "def create_buckets(df, criterion, precision, eps):\n",
        "    num_buckets = int((df[criterion].max() + eps - df[criterion].min()) / precision)\n",
        "    max_value = df[criterion].max() + eps\n",
        "    min_value = df[criterion].min()\n",
        "    real_precision = (max_value - min_value) / num_buckets\n",
        "    \n",
        "    buckets = []\n",
        "    left_thresh = min_value\n",
        "    for i in range(num_buckets):\n",
        "        buckets.append((left_thresh, left_thresh+real_precision))\n",
        "        left_thresh = left_thresh+real_precision\n",
        "\n",
        "    return buckets"
      ],
      "execution_count": 0,
      "outputs": []
    },
    {
      "cell_type": "code",
      "metadata": {
        "id": "wVjU0NqoXZtj",
        "colab_type": "code",
        "colab": {}
      },
      "source": [
        "buckets = {}"
      ],
      "execution_count": 0,
      "outputs": []
    },
    {
      "cell_type": "code",
      "metadata": {
        "id": "DmQ5BNfNXZtk",
        "colab_type": "code",
        "outputId": "4eee906f-8f15-45df-d9ef-ac19bff2a5c7",
        "colab": {
          "base_uri": "https://localhost:8080/",
          "height": 301
        }
      },
      "source": [
        "bins = int((df['energy'].max() - df['energy'].min()) / 200)\n",
        "print(bins)\n",
        "df['energy'].plot.hist(bins=bins)"
      ],
      "execution_count": 84,
      "outputs": [
        {
          "output_type": "stream",
          "text": [
            "37\n"
          ],
          "name": "stdout"
        },
        {
          "output_type": "execute_result",
          "data": {
            "text/plain": [
              "<matplotlib.axes._subplots.AxesSubplot at 0x7f9d58fde2b0>"
            ]
          },
          "metadata": {
            "tags": []
          },
          "execution_count": 84
        },
        {
          "output_type": "display_data",
          "data": {
            "image/png": "[encoded data removed]",
            "text/plain": [
              "<Figure size 432x288 with 1 Axes>"
            ]
          },
          "metadata": {
            "tags": []
          }
        }
      ]
    },
    {
      "cell_type": "code",
      "metadata": {
        "id": "AaoItQiHXZtm",
        "colab_type": "code",
        "outputId": "83c14fcb-0c2f-4b4e-dfa7-57af77870620",
        "colab": {
          "base_uri": "https://localhost:8080/",
          "height": 301
        }
      },
      "source": [
        "bins = int((df['saturated_fat'].max() - df['saturated_fat'].min()) / 2)\n",
        "print(bins)\n",
        "df['saturated_fat'].plot.hist(bins=bins)"
      ],
      "execution_count": 85,
      "outputs": [
        {
          "output_type": "stream",
          "text": [
            "50\n"
          ],
          "name": "stdout"
        },
        {
          "output_type": "execute_result",
          "data": {
            "text/plain": [
              "<matplotlib.axes._subplots.AxesSubplot at 0x7f9d58686470>"
            ]
          },
          "metadata": {
            "tags": []
          },
          "execution_count": 85
        },
        {
          "output_type": "display_data",
          "data": {
            "image/png": "[encoded data removed]",
            "text/plain": [
              "<Figure size 432x288 with 1 Axes>"
            ]
          },
          "metadata": {
            "tags": []
          }
        }
      ]
    },
    {
      "cell_type": "code",
      "metadata": {
        "id": "Dsma3HcrXZtn",
        "colab_type": "code",
        "outputId": "181ef7df-6ac5-45b1-b4b6-afe6337581b4",
        "colab": {
          "base_uri": "https://localhost:8080/",
          "height": 301
        }
      },
      "source": [
        "bins = int((df['sugars'].max() - df['sugars'].min()) / 4)\n",
        "print(bins)\n",
        "df['sugars'].plot.hist(bins=bins)"
      ],
      "execution_count": 86,
      "outputs": [
        {
          "output_type": "stream",
          "text": [
            "25\n"
          ],
          "name": "stdout"
        },
        {
          "output_type": "execute_result",
          "data": {
            "text/plain": [
              "<matplotlib.axes._subplots.AxesSubplot at 0x7f9d588849e8>"
            ]
          },
          "metadata": {
            "tags": []
          },
          "execution_count": 86
        },
        {
          "output_type": "display_data",
          "data": {
            "image/png": "[encoded data removed]",
            "text/plain": [
              "<Figure size 432x288 with 1 Axes>"
            ]
          },
          "metadata": {
            "tags": []
          }
        }
      ]
    },
    {
      "cell_type": "code",
      "metadata": {
        "id": "406WTOuYXZtp",
        "colab_type": "code",
        "outputId": "b42a752f-fe75-40a4-d3e7-a9a9a0f39219",
        "colab": {
          "base_uri": "https://localhost:8080/",
          "height": 301
        }
      },
      "source": [
        "bins = int((df['fiber'].max() - df['fiber'].min()) / 0.7)\n",
        "print(bins)\n",
        "df['fiber'].plot.hist(bins=bins)"
      ],
      "execution_count": 87,
      "outputs": [
        {
          "output_type": "stream",
          "text": [
            "68\n"
          ],
          "name": "stdout"
        },
        {
          "output_type": "execute_result",
          "data": {
            "text/plain": [
              "<matplotlib.axes._subplots.AxesSubplot at 0x7f9d59e83cf8>"
            ]
          },
          "metadata": {
            "tags": []
          },
          "execution_count": 87
        },
        {
          "output_type": "display_data",
          "data": {
            "image/png": "[encoded data removed]",
            "text/plain": [
              "<Figure size 432x288 with 1 Axes>"
            ]
          },
          "metadata": {
            "tags": []
          }
        }
      ]
    },
    {
      "cell_type": "code",
      "metadata": {
        "id": "WYpB29sPXZtq",
        "colab_type": "code",
        "outputId": "965905cc-6bbf-4f12-99ec-f79cf5be68ec",
        "colab": {
          "base_uri": "https://localhost:8080/",
          "height": 301
        }
      },
      "source": [
        "bins = int((df['proteins'].max() - df['proteins'].min()) / 2)\n",
        "print(bins)\n",
        "df['proteins'].plot.hist(bins=bins)"
      ],
      "execution_count": 88,
      "outputs": [
        {
          "output_type": "stream",
          "text": [
            "20\n"
          ],
          "name": "stdout"
        },
        {
          "output_type": "execute_result",
          "data": {
            "text/plain": [
              "<matplotlib.axes._subplots.AxesSubplot at 0x7f9d59ccffd0>"
            ]
          },
          "metadata": {
            "tags": []
          },
          "execution_count": 88
        },
        {
          "output_type": "display_data",
          "data": {
            "image/png": "[encoded data removed]",
            "text/plain": [
              "<Figure size 432x288 with 1 Axes>"
            ]
          },
          "metadata": {
            "tags": []
          }
        }
      ]
    },
    {
      "cell_type": "code",
      "metadata": {
        "id": "hOS19X82XZts",
        "colab_type": "code",
        "outputId": "34f0696f-31cf-4ad0-f5b9-89d193c5edd4",
        "colab": {
          "base_uri": "https://localhost:8080/",
          "height": 301
        }
      },
      "source": [
        "bins = int((df['salt'].max() - df['salt'].min()) / 0.2)\n",
        "print(bins)\n",
        "df['salt'].plot.hist(bins=bins)"
      ],
      "execution_count": 89,
      "outputs": [
        {
          "output_type": "stream",
          "text": [
            "97\n"
          ],
          "name": "stdout"
        },
        {
          "output_type": "execute_result",
          "data": {
            "text/plain": [
              "<matplotlib.axes._subplots.AxesSubplot at 0x7f9d589e7d30>"
            ]
          },
          "metadata": {
            "tags": []
          },
          "execution_count": 89
        },
        {
          "output_type": "display_data",
          "data": {
            "image/png": "[encoded data removed]",
            "text/plain": [
              "<Figure size 432x288 with 1 Axes>"
            ]
          },
          "metadata": {
            "tags": []
          }
        }
      ]
    },
    {
      "cell_type": "markdown",
      "metadata": {
        "id": "945vcI8HXZtt",
        "colab_type": "text"
      },
      "source": [
        "# Create the buckets"
      ]
    },
    {
      "cell_type": "code",
      "metadata": {
        "id": "qZgHhcBAXZtt",
        "colab_type": "code",
        "colab": {}
      },
      "source": [
        "buckets['energy'] = create_buckets(df, 'energy', precision=200, eps=10)\n",
        "buckets['saturated_fat'] = create_buckets(df, 'saturated_fat', precision=2, eps=0.1)\n",
        "buckets['sugars'] = create_buckets(df, 'sugars', precision=4, eps=0.1)\n",
        "buckets['fiber'] = create_buckets(df, 'fiber', precision=0.7, eps=0.1)\n",
        "buckets['proteins'] = create_buckets(df, 'proteins', precision=2, eps=0.1)\n",
        "buckets['salt'] = create_buckets(df, 'salt', precision=0.2, eps=0.05)"
      ],
      "execution_count": 0,
      "outputs": []
    },
    {
      "cell_type": "markdown",
      "metadata": {
        "id": "qhTK6I5r4v5c",
        "colab_type": "text"
      },
      "source": [
        "# Split the dataset"
      ]
    },
    {
      "cell_type": "code",
      "metadata": {
        "id": "dMzo7akl40el",
        "colab_type": "code",
        "colab": {}
      },
      "source": [
        "features = ['energy', 'proteins', 'salt', 'fiber', 'saturated_fat', 'sugars']\n",
        "X = df[features]\n",
        "y = df[['nutriscore']]"
      ],
      "execution_count": 0,
      "outputs": []
    },
    {
      "cell_type": "code",
      "metadata": {
        "id": "cU6kl_Yl5FNi",
        "colab_type": "code",
        "colab": {}
      },
      "source": [
        "X_train, X_test, y_train, y_test = train_test_split(X, y, test_size=0.95, random_state=1)"
      ],
      "execution_count": 0,
      "outputs": []
    },
    {
      "cell_type": "code",
      "metadata": {
        "id": "tQMv6wWd5eK1",
        "colab_type": "code",
        "outputId": "f09e9dc1-bedd-40c9-d581-6b39b23a2b0c",
        "colab": {
          "base_uri": "https://localhost:8080/",
          "height": 126
        }
      },
      "source": [
        "df = X_train\n",
        "df['nutriscore'] = y_train['nutriscore']"
      ],
      "execution_count": 93,
      "outputs": [
        {
          "output_type": "stream",
          "text": [
            "/usr/local/lib/python3.6/dist-packages/ipykernel_launcher.py:2: SettingWithCopyWarning: \n",
            "A value is trying to be set on a copy of a slice from a DataFrame.\n",
            "Try using .loc[row_indexer,col_indexer] = value instead\n",
            "\n",
            "See the caveats in the documentation: http://pandas.pydata.org/pandas-docs/stable/user_guide/indexing.html#returning-a-view-versus-a-copy\n",
            "  \n"
          ],
          "name": "stderr"
        }
      ]
    },
    {
      "cell_type": "code",
      "metadata": {
        "id": "ERxLMV7-bm_D",
        "colab_type": "code",
        "outputId": "befa926b-f516-4472-82d9-a003a443d2bb",
        "colab": {
          "base_uri": "https://localhost:8080/",
          "height": 162
        }
      },
      "source": [
        "df.count()"
      ],
      "execution_count": 94,
      "outputs": [
        {
          "output_type": "execute_result",
          "data": {
            "text/plain": [
              "energy           199\n",
              "proteins         199\n",
              "salt             199\n",
              "fiber            199\n",
              "saturated_fat    199\n",
              "sugars           199\n",
              "nutriscore       199\n",
              "dtype: int64"
            ]
          },
          "metadata": {
            "tags": []
          },
          "execution_count": 94
        }
      ]
    },
    {
      "cell_type": "markdown",
      "metadata": {
        "id": "28XtG_bWXZtu",
        "colab_type": "text"
      },
      "source": [
        "# Formalize the problem"
      ]
    },
    {
      "cell_type": "code",
      "metadata": {
        "id": "x6l8cXnvXZtv",
        "colab_type": "code",
        "outputId": "962c495d-8752-43e7-e215-e1b606474e7e",
        "colab": {
          "base_uri": "https://localhost:8080/",
          "height": 53
        }
      },
      "source": [
        "prob = LpProblem(\"The Nutriscore\", LpMinimize)"
      ],
      "execution_count": 95,
      "outputs": [
        {
          "output_type": "stream",
          "text": [
            "/usr/local/lib/python3.6/dist-packages/pulp/pulp.py:1137: UserWarning: Spaces are not permitted in the name. Converted to '_'\n",
            "  warnings.warn(\"Spaces are not permitted in the name. Converted to '_'\")\n"
          ],
          "name": "stderr"
        }
      ]
    },
    {
      "cell_type": "code",
      "metadata": {
        "id": "5QrHq9iZXZtw",
        "colab_type": "code",
        "colab": {}
      },
      "source": [
        "# Variables measuring differences between two consecutives classes\n",
        "epsilon = []\n",
        "epsilon.append(LpVariable(\"epsilon_1\",0, 20))\n",
        "epsilon.append(LpVariable(\"epsilon_2\",0, 20))\n",
        "epsilon.append(LpVariable(\"epsilon_3\",0, 20))\n",
        "epsilon.append(LpVariable(\"epsilon_4\",0, 20))"
      ],
      "execution_count": 0,
      "outputs": []
    },
    {
      "cell_type": "code",
      "metadata": {
        "id": "4WmnDhQ8XZtx",
        "colab_type": "code",
        "colab": {}
      },
      "source": [
        "# The objective function is added to 'prob' first\n",
        "prob += lpSum(epsilon), \"Error in the ranking to be minimized\""
      ],
      "execution_count": 0,
      "outputs": []
    },
    {
      "cell_type": "code",
      "metadata": {
        "id": "EL2BtA-Pg2kO",
        "colab_type": "code",
        "colab": {
          "base_uri": "https://localhost:8080/",
          "height": 35
        },
        "outputId": "4b812e40-df5e-4dfd-d599-25354bbffd2d"
      },
      "source": [
        "epsilon"
      ],
      "execution_count": 98,
      "outputs": [
        {
          "output_type": "execute_result",
          "data": {
            "text/plain": [
              "[epsilon_1, epsilon_2, epsilon_3, epsilon_4]"
            ]
          },
          "metadata": {
            "tags": []
          },
          "execution_count": 98
        }
      ]
    },
    {
      "cell_type": "code",
      "metadata": {
        "id": "effUoUwKXZty",
        "colab_type": "code",
        "colab": {}
      },
      "source": [
        "utility_thresh = {}\n",
        "for key in buckets:\n",
        "    utility_thresh[key] = []\n",
        "    \n",
        "for key in buckets:    \n",
        "    for i in range(len(buckets[key])):\n",
        "        utility_thresh[key].append(LpVariable(key+\"_\"+str(i), 0, 1))\n",
        "    utility_thresh[key].append(LpVariable(key+\"_\"+str(len(buckets[key])), 0, 1))"
      ],
      "execution_count": 0,
      "outputs": []
    },
    {
      "cell_type": "code",
      "metadata": {
        "id": "5ljj2cDyXZtz",
        "colab_type": "code",
        "colab": {}
      },
      "source": [
        "def get_bucket_index(value, buckets):\n",
        "    return get_bucket_index_r(value, buckets, 0, len(buckets)-1)"
      ],
      "execution_count": 0,
      "outputs": []
    },
    {
      "cell_type": "code",
      "metadata": {
        "id": "NZrWfHizXZt0",
        "colab_type": "code",
        "colab": {}
      },
      "source": [
        "def get_bucket_index_r(value, buckets, left, right):\n",
        "    middle = int((right - left) / 2 + left)\n",
        "    if (value >= buckets[middle][0]) and (value < buckets[middle][1]):\n",
        "        return middle\n",
        "    if value < buckets[middle][0]:\n",
        "        return get_bucket_index_r(value, buckets, left, middle-1)\n",
        "    return get_bucket_index_r(value, buckets, middle+1, right)"
      ],
      "execution_count": 0,
      "outputs": []
    },
    {
      "cell_type": "code",
      "metadata": {
        "id": "5VwLvq5FXZt1",
        "colab_type": "code",
        "colab": {}
      },
      "source": [
        "def utility_func(df, food_index):\n",
        "    food = df.loc[food_index]\n",
        "    criteria = list(food.keys())\n",
        "    criteria.remove('nutriscore')\n",
        "    utility = 0\n",
        "    for criterion in criteria:\n",
        "        bucket_index = get_bucket_index(food[criterion], buckets[criterion])\n",
        "        left_thresh = buckets[criterion][bucket_index][0]\n",
        "        right_thresh = buckets[criterion][bucket_index][1]\n",
        "        m = (food[criterion] - left_thresh) / (right_thresh - food[criterion])\n",
        "        left_utility = utility_thresh[criterion][bucket_index]\n",
        "        right_utility = utility_thresh[criterion][bucket_index+1]\n",
        "        \n",
        "        utility += left_utility + m * (right_utility - left_utility)\n",
        "    \n",
        "    return utility"
      ],
      "execution_count": 0,
      "outputs": []
    },
    {
      "cell_type": "code",
      "metadata": {
        "id": "jC-0l2T2XZt2",
        "colab_type": "code",
        "colab": {
          "base_uri": "https://localhost:8080/",
          "height": 562
        },
        "outputId": "d6ab19da-25a1-46a0-b188-89659f71ebd0"
      },
      "source": [
        "df['nutriscore'] = np.where(df['nutriscore']=='a', 5, df['nutriscore'])\n",
        "df['nutriscore'] = np.where(df['nutriscore']=='b', 4, df['nutriscore'])\n",
        "df['nutriscore'] = np.where(df['nutriscore']=='c', 3, df['nutriscore'])\n",
        "df['nutriscore'] = np.where(df['nutriscore']=='d', 2, df['nutriscore'])\n",
        "df['nutriscore'] = np.where(df['nutriscore']=='e', 1, df['nutriscore'])"
      ],
      "execution_count": 103,
      "outputs": [
        {
          "output_type": "stream",
          "text": [
            "/usr/local/lib/python3.6/dist-packages/ipykernel_launcher.py:1: SettingWithCopyWarning: \n",
            "A value is trying to be set on a copy of a slice from a DataFrame.\n",
            "Try using .loc[row_indexer,col_indexer] = value instead\n",
            "\n",
            "See the caveats in the documentation: http://pandas.pydata.org/pandas-docs/stable/user_guide/indexing.html#returning-a-view-versus-a-copy\n",
            "  \"\"\"Entry point for launching an IPython kernel.\n",
            "/usr/local/lib/python3.6/dist-packages/ipykernel_launcher.py:2: SettingWithCopyWarning: \n",
            "A value is trying to be set on a copy of a slice from a DataFrame.\n",
            "Try using .loc[row_indexer,col_indexer] = value instead\n",
            "\n",
            "See the caveats in the documentation: http://pandas.pydata.org/pandas-docs/stable/user_guide/indexing.html#returning-a-view-versus-a-copy\n",
            "  \n",
            "/usr/local/lib/python3.6/dist-packages/ipykernel_launcher.py:3: SettingWithCopyWarning: \n",
            "A value is trying to be set on a copy of a slice from a DataFrame.\n",
            "Try using .loc[row_indexer,col_indexer] = value instead\n",
            "\n",
            "See the caveats in the documentation: http://pandas.pydata.org/pandas-docs/stable/user_guide/indexing.html#returning-a-view-versus-a-copy\n",
            "  This is separate from the ipykernel package so we can avoid doing imports until\n",
            "/usr/local/lib/python3.6/dist-packages/ipykernel_launcher.py:4: SettingWithCopyWarning: \n",
            "A value is trying to be set on a copy of a slice from a DataFrame.\n",
            "Try using .loc[row_indexer,col_indexer] = value instead\n",
            "\n",
            "See the caveats in the documentation: http://pandas.pydata.org/pandas-docs/stable/user_guide/indexing.html#returning-a-view-versus-a-copy\n",
            "  after removing the cwd from sys.path.\n",
            "/usr/local/lib/python3.6/dist-packages/ipykernel_launcher.py:5: SettingWithCopyWarning: \n",
            "A value is trying to be set on a copy of a slice from a DataFrame.\n",
            "Try using .loc[row_indexer,col_indexer] = value instead\n",
            "\n",
            "See the caveats in the documentation: http://pandas.pydata.org/pandas-docs/stable/user_guide/indexing.html#returning-a-view-versus-a-copy\n",
            "  \"\"\"\n"
          ],
          "name": "stderr"
        }
      ]
    },
    {
      "cell_type": "code",
      "metadata": {
        "id": "ixEv4rgu_10j",
        "colab_type": "code",
        "colab": {
          "base_uri": "https://localhost:8080/",
          "height": 206
        },
        "outputId": "39285b3e-4d0c-46e6-9880-eb5466999afa"
      },
      "source": [
        "df.head()"
      ],
      "execution_count": 104,
      "outputs": [
        {
          "output_type": "execute_result",
          "data": {
            "text/html": [
              "<div>\n",
              "<style scoped>\n",
              "    .dataframe tbody tr th:only-of-type {\n",
              "        vertical-align: middle;\n",
              "    }\n",
              "\n",
              "    .dataframe tbody tr th {\n",
              "        vertical-align: top;\n",
              "    }\n",
              "\n",
              "    .dataframe thead th {\n",
              "        text-align: right;\n",
              "    }\n",
              "</style>\n",
              "<table border=\"1\" class=\"dataframe\">\n",
              "  <thead>\n",
              "    <tr style=\"text-align: right;\">\n",
              "      <th></th>\n",
              "      <th>energy</th>\n",
              "      <th>proteins</th>\n",
              "      <th>salt</th>\n",
              "      <th>fiber</th>\n",
              "      <th>saturated_fat</th>\n",
              "      <th>sugars</th>\n",
              "      <th>nutriscore</th>\n",
              "    </tr>\n",
              "  </thead>\n",
              "  <tbody>\n",
              "    <tr>\n",
              "      <th>5220</th>\n",
              "      <td>1632.0</td>\n",
              "      <td>22.0</td>\n",
              "      <td>1.440</td>\n",
              "      <td>1.0</td>\n",
              "      <td>11.0</td>\n",
              "      <td>1.3</td>\n",
              "      <td>1</td>\n",
              "    </tr>\n",
              "    <tr>\n",
              "      <th>4823</th>\n",
              "      <td>770.0</td>\n",
              "      <td>11.0</td>\n",
              "      <td>0.400</td>\n",
              "      <td>0.4</td>\n",
              "      <td>0.7</td>\n",
              "      <td>1.6</td>\n",
              "      <td>4</td>\n",
              "    </tr>\n",
              "    <tr>\n",
              "      <th>1580</th>\n",
              "      <td>180.0</td>\n",
              "      <td>2.3</td>\n",
              "      <td>0.056</td>\n",
              "      <td>2.3</td>\n",
              "      <td>0.1</td>\n",
              "      <td>6.7</td>\n",
              "      <td>5</td>\n",
              "    </tr>\n",
              "    <tr>\n",
              "      <th>6746</th>\n",
              "      <td>490.0</td>\n",
              "      <td>4.1</td>\n",
              "      <td>0.040</td>\n",
              "      <td>0.0</td>\n",
              "      <td>0.7</td>\n",
              "      <td>16.0</td>\n",
              "      <td>4</td>\n",
              "    </tr>\n",
              "    <tr>\n",
              "      <th>5630</th>\n",
              "      <td>1482.0</td>\n",
              "      <td>7.4</td>\n",
              "      <td>0.000</td>\n",
              "      <td>1.0</td>\n",
              "      <td>0.2</td>\n",
              "      <td>0.0</td>\n",
              "      <td>5</td>\n",
              "    </tr>\n",
              "  </tbody>\n",
              "</table>\n",
              "</div>"
            ],
            "text/plain": [
              "      energy  proteins   salt  fiber  saturated_fat  sugars nutriscore\n",
              "5220  1632.0      22.0  1.440    1.0           11.0     1.3          1\n",
              "4823   770.0      11.0  0.400    0.4            0.7     1.6          4\n",
              "1580   180.0       2.3  0.056    2.3            0.1     6.7          5\n",
              "6746   490.0       4.1  0.040    0.0            0.7    16.0          4\n",
              "5630  1482.0       7.4  0.000    1.0            0.2     0.0          5"
            ]
          },
          "metadata": {
            "tags": []
          },
          "execution_count": 104
        }
      ]
    },
    {
      "cell_type": "code",
      "metadata": {
        "id": "9r6fyChjXZt2",
        "colab_type": "code",
        "colab": {}
      },
      "source": [
        "for index, food in df.iterrows():\n",
        "    utility_food = utility_func(df, index)\n",
        "    preceding_foods = df[df['nutriscore'] == food['nutriscore']-1]\n",
        "    for index2, preceding_food in preceding_foods.iterrows():\n",
        "        utility_prec_food = utility_func(preceding_foods, index2)\n",
        "        prob += (utility_food >= 1+utility_prec_food - epsilon[food['nutriscore']-2])"
      ],
      "execution_count": 0,
      "outputs": []
    },
    {
      "cell_type": "code",
      "metadata": {
        "id": "jFInkGk-XZt3",
        "colab_type": "code",
        "colab": {}
      },
      "source": [
        "prob += utility_thresh['energy'][len(utility_thresh['energy'])-1] == 0\n",
        "prob += utility_thresh['saturated_fat'][len(utility_thresh['saturated_fat'])-1] == 0\n",
        "prob += utility_thresh['sugars'][len(utility_thresh['sugars'])-1] == 0\n",
        "prob += utility_thresh['salt'][len(utility_thresh['salt'])-1] == 0\n",
        "prob += utility_thresh['proteins'][0] == 0\n",
        "prob += utility_thresh['fiber'][0] == 0"
      ],
      "execution_count": 0,
      "outputs": []
    },
    {
      "cell_type": "code",
      "metadata": {
        "id": "0e-Bk3lYXZt4",
        "colab_type": "code",
        "colab": {}
      },
      "source": [
        "prob += utility_thresh['energy'][0] + \\\n",
        "        utility_thresh['saturated_fat'][0] + \\\n",
        "        utility_thresh['sugars'][0] + \\\n",
        "        utility_thresh['salt'][0] + \\\n",
        "        utility_thresh['proteins'][len(utility_thresh['proteins'])-1] + \\\n",
        "        utility_thresh['fiber'][len(utility_thresh['fiber'])-1] == 1"
      ],
      "execution_count": 0,
      "outputs": []
    },
    {
      "cell_type": "code",
      "metadata": {
        "id": "1xHXV7IfXZt5",
        "colab_type": "code",
        "colab": {}
      },
      "source": [
        "for i in range(len(utility_thresh['energy'])-1):\n",
        "    prob += utility_thresh['energy'][i] >= utility_thresh['energy'][i+1]\n",
        "for i in range(len(utility_thresh['saturated_fat'])-1):\n",
        "    prob += utility_thresh['saturated_fat'][i] >= utility_thresh['saturated_fat'][i+1]\n",
        "for i in range(len(utility_thresh['sugars'])-1):\n",
        "    prob += utility_thresh['sugars'][i] >= utility_thresh['sugars'][i+1]\n",
        "for i in range(len(utility_thresh['salt'])-1):\n",
        "    prob += utility_thresh['salt'][i] >= utility_thresh['salt'][i+1]\n",
        "\n",
        "for i in range(len(utility_thresh['proteins'])-1):\n",
        "    prob += utility_thresh['proteins'][i] <= utility_thresh['proteins'][i+1]\n",
        "for i in range(len(utility_thresh['fiber'])-1):\n",
        "    prob += utility_thresh['fiber'][i] <= utility_thresh['fiber'][i+1]\n",
        "\n"
      ],
      "execution_count": 0,
      "outputs": []
    },
    {
      "cell_type": "code",
      "metadata": {
        "id": "N5cH4d-MXZt6",
        "colab_type": "code",
        "colab": {
          "base_uri": "https://localhost:8080/",
          "height": 35
        },
        "outputId": "2443f92f-fc06-4ecd-f391-4ac3fce86d9c"
      },
      "source": [
        "prob.solve()\n",
        "print(\"Status:\", LpStatus[prob.status])"
      ],
      "execution_count": 109,
      "outputs": [
        {
          "output_type": "stream",
          "text": [
            "Status: Optimal\n"
          ],
          "name": "stdout"
        }
      ]
    },
    {
      "cell_type": "code",
      "metadata": {
        "id": "USJKygyYXZt7",
        "colab_type": "code",
        "outputId": "fba506e2-cd95-4349-c067-67005c0e5841",
        "colab": {
          "base_uri": "https://localhost:8080/",
          "height": 1000
        }
      },
      "source": [
        "# Each of the variables is printed with it's resolved optimum value\n",
        "for v in prob.variables():\n",
        "    print(v.name, \"=\", v.varValue)"
      ],
      "execution_count": 110,
      "outputs": [
        {
          "output_type": "stream",
          "text": [
            "energy_0 = -2.7486466e-15\n",
            "energy_1 = -2.7140926e-15\n",
            "energy_10 = -6.6065088e-15\n",
            "energy_11 = -4.8880576e-15\n",
            "energy_12 = 2.3276167e-14\n",
            "energy_13 = 0.0\n",
            "energy_14 = 0.0\n",
            "energy_15 = 0.0\n",
            "energy_16 = 0.0\n",
            "energy_17 = 0.0\n",
            "energy_18 = 0.0\n",
            "energy_19 = 0.0\n",
            "energy_2 = -2.1753202e-15\n",
            "energy_20 = 0.0\n",
            "energy_21 = 0.0\n",
            "energy_22 = 0.0\n",
            "energy_23 = 0.0\n",
            "energy_24 = 0.0\n",
            "energy_25 = 0.0\n",
            "energy_26 = 0.0\n",
            "energy_27 = 0.0\n",
            "energy_28 = 0.0\n",
            "energy_29 = 0.0\n",
            "energy_3 = -6.8655476e-15\n",
            "energy_30 = 0.0\n",
            "energy_31 = 0.0\n",
            "energy_32 = 0.0\n",
            "energy_33 = 0.0\n",
            "energy_34 = 0.0\n",
            "energy_35 = 0.0\n",
            "energy_36 = 0.0\n",
            "energy_37 = 0.0\n",
            "energy_4 = -6.1377303e-15\n",
            "energy_5 = -5.9955106e-15\n",
            "energy_6 = 0.0\n",
            "energy_7 = 7.8457546e-16\n",
            "energy_8 = 4.8288674e-16\n",
            "energy_9 = 0.0\n",
            "epsilon_1 = 1.0\n",
            "epsilon_2 = 1.0\n",
            "epsilon_3 = 1.0\n",
            "epsilon_4 = 1.0\n",
            "fiber_0 = 0.0\n",
            "fiber_1 = 0.0\n",
            "fiber_10 = 0.0\n",
            "fiber_11 = -3.1378885e-14\n",
            "fiber_12 = -1.3271013e-14\n",
            "fiber_13 = 0.0\n",
            "fiber_14 = 0.0\n",
            "fiber_15 = 0.0\n",
            "fiber_16 = 0.0\n",
            "fiber_17 = 0.0\n",
            "fiber_18 = 0.0\n",
            "fiber_19 = 0.0\n",
            "fiber_2 = 0.0\n",
            "fiber_20 = 0.0\n",
            "fiber_21 = 0.0\n",
            "fiber_22 = 0.0\n",
            "fiber_23 = -2.0719751e-15\n",
            "fiber_24 = 0.0\n",
            "fiber_25 = 0.0\n",
            "fiber_26 = 0.0\n",
            "fiber_27 = 0.0\n",
            "fiber_28 = 0.0\n",
            "fiber_29 = 0.0\n",
            "fiber_3 = 0.0\n",
            "fiber_30 = 0.0\n",
            "fiber_31 = 0.0\n",
            "fiber_32 = 0.0\n",
            "fiber_33 = 0.0\n",
            "fiber_34 = 0.0\n",
            "fiber_35 = 0.0\n",
            "fiber_36 = 0.0\n",
            "fiber_37 = 0.0\n",
            "fiber_38 = 0.0\n",
            "fiber_39 = 0.0\n",
            "fiber_4 = -1.0421561e-15\n",
            "fiber_40 = 0.0\n",
            "fiber_41 = 0.0\n",
            "fiber_42 = 0.0\n",
            "fiber_43 = 0.0\n",
            "fiber_44 = 0.0\n",
            "fiber_45 = 0.0\n",
            "fiber_46 = 0.0\n",
            "fiber_47 = -2.1865131e-15\n",
            "fiber_48 = 0.0\n",
            "fiber_49 = 0.0\n",
            "fiber_5 = -1.0282822e-15\n",
            "fiber_50 = 0.0\n",
            "fiber_51 = 0.0\n",
            "fiber_52 = 0.0\n",
            "fiber_53 = 0.0\n",
            "fiber_54 = 0.0\n",
            "fiber_55 = 0.0\n",
            "fiber_56 = 0.0\n",
            "fiber_57 = 0.0\n",
            "fiber_58 = 0.0\n",
            "fiber_59 = 0.0\n",
            "fiber_6 = 0.0\n",
            "fiber_60 = 0.0\n",
            "fiber_61 = 0.0\n",
            "fiber_62 = 0.0\n",
            "fiber_63 = -2.5185883e-14\n",
            "fiber_64 = 0.0\n",
            "fiber_65 = 0.0\n",
            "fiber_66 = 0.0\n",
            "fiber_67 = 0.0\n",
            "fiber_68 = 1.0\n",
            "fiber_7 = -2.9786764e-15\n",
            "fiber_8 = 0.0\n",
            "fiber_9 = 0.0\n",
            "proteins_0 = 0.0\n",
            "proteins_1 = 0.0\n",
            "proteins_10 = 8.9333797e-15\n",
            "proteins_11 = 7.804899e-15\n",
            "proteins_12 = 3.445732e-14\n",
            "proteins_13 = 0.0\n",
            "proteins_14 = 1.8230712e-14\n",
            "proteins_15 = -2.8977709e-12\n",
            "proteins_16 = -2.8977709e-12\n",
            "proteins_17 = -2.8977709e-12\n",
            "proteins_18 = -2.8977709e-12\n",
            "proteins_19 = -2.8977709e-12\n",
            "proteins_2 = -2.5220927e-16\n",
            "proteins_20 = -2.8977709e-12\n",
            "proteins_3 = -7.1122321e-16\n",
            "proteins_4 = -5.1363711e-16\n",
            "proteins_5 = 0.0\n",
            "proteins_6 = -4.782172e-15\n",
            "proteins_7 = -8.5910955e-15\n",
            "proteins_8 = -7.1425933e-15\n",
            "proteins_9 = 1.0775842e-14\n",
            "salt_0 = 1.0813594e-12\n",
            "salt_1 = 1.0809695e-12\n",
            "salt_10 = -1.3883363e-12\n",
            "salt_11 = -1.4198547e-13\n",
            "salt_12 = 0.0\n",
            "salt_13 = 1.3917723e-13\n",
            "salt_14 = 0.0\n",
            "salt_15 = 0.0\n",
            "salt_16 = 0.0\n",
            "salt_17 = 0.0\n",
            "salt_18 = 0.0\n",
            "salt_19 = 0.0\n",
            "salt_2 = 1.0809224e-12\n",
            "salt_20 = 0.0\n",
            "salt_21 = 0.0\n",
            "salt_22 = 0.0\n",
            "salt_23 = 0.0\n",
            "salt_24 = 0.0\n",
            "salt_25 = 0.0\n",
            "salt_26 = 0.0\n",
            "salt_27 = 0.0\n",
            "salt_28 = 0.0\n",
            "salt_29 = 0.0\n",
            "salt_3 = 1.080964e-12\n",
            "salt_30 = 0.0\n",
            "salt_31 = 0.0\n",
            "salt_32 = 0.0\n",
            "salt_33 = 0.0\n",
            "salt_34 = 0.0\n",
            "salt_35 = 0.0\n",
            "salt_36 = 0.0\n",
            "salt_37 = 0.0\n",
            "salt_38 = 0.0\n",
            "salt_39 = 0.0\n",
            "salt_4 = 1.0711242e-12\n",
            "salt_40 = 0.0\n",
            "salt_41 = 0.0\n",
            "salt_42 = 0.0\n",
            "salt_43 = 0.0\n",
            "salt_44 = 0.0\n",
            "salt_45 = 0.0\n",
            "salt_46 = 0.0\n",
            "salt_47 = 0.0\n",
            "salt_48 = 0.0\n",
            "salt_49 = 0.0\n",
            "salt_5 = 1.0723753e-12\n",
            "salt_50 = 0.0\n",
            "salt_51 = 0.0\n",
            "salt_52 = 0.0\n",
            "salt_53 = 0.0\n",
            "salt_54 = 0.0\n",
            "salt_55 = 0.0\n",
            "salt_56 = 0.0\n",
            "salt_57 = 0.0\n",
            "salt_58 = 0.0\n",
            "salt_59 = 0.0\n",
            "salt_6 = 1.5699524e-12\n",
            "salt_60 = 0.0\n",
            "salt_61 = 0.0\n",
            "salt_62 = 0.0\n",
            "salt_63 = 0.0\n",
            "salt_64 = 0.0\n",
            "salt_65 = 0.0\n",
            "salt_66 = 0.0\n",
            "salt_67 = 0.0\n",
            "salt_68 = 0.0\n",
            "salt_69 = 0.0\n",
            "salt_7 = 1.5338318e-12\n",
            "salt_70 = 0.0\n",
            "salt_71 = 0.0\n",
            "salt_72 = 0.0\n",
            "salt_73 = 0.0\n",
            "salt_74 = 0.0\n",
            "salt_75 = 0.0\n",
            "salt_76 = 0.0\n",
            "salt_77 = 0.0\n",
            "salt_78 = 0.0\n",
            "salt_79 = 0.0\n",
            "salt_8 = -1.388323e-12\n",
            "salt_80 = 0.0\n",
            "salt_81 = 0.0\n",
            "salt_82 = 0.0\n",
            "salt_83 = 0.0\n",
            "salt_84 = 0.0\n",
            "salt_85 = 0.0\n",
            "salt_86 = 0.0\n",
            "salt_87 = 0.0\n",
            "salt_88 = 0.0\n",
            "salt_89 = 0.0\n",
            "salt_9 = -1.388323e-12\n",
            "salt_90 = 0.0\n",
            "salt_91 = 0.0\n",
            "salt_92 = 0.0\n",
            "salt_93 = 0.0\n",
            "salt_94 = 0.0\n",
            "salt_95 = 0.0\n",
            "salt_96 = 0.0\n",
            "salt_97 = 0.0\n",
            "saturated_fat_0 = 7.943862e-15\n",
            "saturated_fat_1 = 7.9459772e-15\n",
            "saturated_fat_10 = -2.9909306e-15\n",
            "saturated_fat_11 = -3.2810558e-15\n",
            "saturated_fat_12 = 0.0\n",
            "saturated_fat_13 = 0.0\n",
            "saturated_fat_14 = -1.4040715e-15\n",
            "saturated_fat_15 = -1.3541134e-15\n",
            "saturated_fat_16 = 0.0\n",
            "saturated_fat_17 = 0.0\n",
            "saturated_fat_18 = 0.0\n",
            "saturated_fat_19 = 0.0\n",
            "saturated_fat_2 = 1.2381588e-14\n",
            "saturated_fat_20 = 0.0\n",
            "saturated_fat_21 = 0.0\n",
            "saturated_fat_22 = 0.0\n",
            "saturated_fat_23 = 0.0\n",
            "saturated_fat_24 = 0.0\n",
            "saturated_fat_25 = 0.0\n",
            "saturated_fat_26 = 0.0\n",
            "saturated_fat_27 = 0.0\n",
            "saturated_fat_28 = 0.0\n",
            "saturated_fat_29 = -1.3541134e-15\n",
            "saturated_fat_3 = 1.2098645e-14\n",
            "saturated_fat_30 = -1.3541134e-15\n",
            "saturated_fat_31 = 0.0\n",
            "saturated_fat_32 = 0.0\n",
            "saturated_fat_33 = 0.0\n",
            "saturated_fat_34 = 0.0\n",
            "saturated_fat_35 = 0.0\n",
            "saturated_fat_36 = 0.0\n",
            "saturated_fat_37 = 0.0\n",
            "saturated_fat_38 = 0.0\n",
            "saturated_fat_39 = 0.0\n",
            "saturated_fat_4 = 1.2243386e-14\n",
            "saturated_fat_40 = 0.0\n",
            "saturated_fat_41 = 0.0\n",
            "saturated_fat_42 = 0.0\n",
            "saturated_fat_43 = 0.0\n",
            "saturated_fat_44 = 0.0\n",
            "saturated_fat_45 = 0.0\n",
            "saturated_fat_46 = 0.0\n",
            "saturated_fat_47 = 0.0\n",
            "saturated_fat_48 = 0.0\n",
            "saturated_fat_49 = 0.0\n",
            "saturated_fat_5 = 1.1932411e-14\n",
            "saturated_fat_50 = 0.0\n",
            "saturated_fat_6 = 1.189058e-14\n",
            "saturated_fat_7 = 1.144139e-14\n",
            "saturated_fat_8 = 1.1004092e-14\n",
            "saturated_fat_9 = -2.4565227e-15\n",
            "sugars_0 = -5.060018e-15\n",
            "sugars_1 = -5.0370547e-15\n",
            "sugars_10 = 4.4093199e-16\n",
            "sugars_11 = 0.0\n",
            "sugars_12 = -8.2675254e-15\n",
            "sugars_13 = -7.8118602e-15\n",
            "sugars_14 = 0.0\n",
            "sugars_15 = 0.0\n",
            "sugars_16 = 0.0\n",
            "sugars_17 = 0.0\n",
            "sugars_18 = 0.0\n",
            "sugars_19 = 0.0\n",
            "sugars_2 = -5.0593282e-15\n",
            "sugars_20 = 0.0\n",
            "sugars_21 = 0.0\n",
            "sugars_22 = 0.0\n",
            "sugars_23 = 0.0\n",
            "sugars_24 = 0.0\n",
            "sugars_25 = 0.0\n",
            "sugars_3 = -5.1118859e-15\n",
            "sugars_4 = -4.9599705e-15\n",
            "sugars_5 = -5.5260198e-15\n",
            "sugars_6 = -5.6015488e-15\n",
            "sugars_7 = -1.4458089e-14\n",
            "sugars_8 = 3.5820873e-16\n",
            "sugars_9 = 2.848429e-16\n"
          ],
          "name": "stdout"
        }
      ]
    },
    {
      "cell_type": "code",
      "metadata": {
        "id": "Lbbzo5ivQFyR",
        "colab_type": "code",
        "colab": {}
      },
      "source": [
        "utility_thresh_prod = {key: [lpVar.varValue for lpVar in utility_thresh[key]]for key in utility_thresh}"
      ],
      "execution_count": 0,
      "outputs": []
    },
    {
      "cell_type": "code",
      "metadata": {
        "id": "4MyEgo42SBeA",
        "colab_type": "code",
        "colab": {}
      },
      "source": [
        "def utility_func_prod(df, food_index, utility_thresh):\n",
        "    food = df.loc[food_index]\n",
        "    criteria = list(food.keys())\n",
        "    criteria.remove('nutriscore')\n",
        "    utility = 0\n",
        "    for criterion in criteria:\n",
        "        bucket_index = get_bucket_index(food[criterion], buckets[criterion])\n",
        "        left_thresh = buckets[criterion][bucket_index][0]\n",
        "        right_thresh = buckets[criterion][bucket_index][1]\n",
        "        m = (food[criterion] - left_thresh) / (right_thresh - food[criterion])\n",
        "        left_utility = utility_thresh[criterion][bucket_index]\n",
        "        right_utility = utility_thresh[criterion][bucket_index+1]\n",
        "        \n",
        "        utility += left_utility + m * (right_utility - left_utility)\n",
        "    \n",
        "    return utility"
      ],
      "execution_count": 0,
      "outputs": []
    },
    {
      "cell_type": "markdown",
      "metadata": {
        "id": "XrAPVTCsUbfi",
        "colab_type": "text"
      },
      "source": [
        "# Testing\n"
      ]
    },
    {
      "cell_type": "code",
      "metadata": {
        "id": "TE4cUTEhSYmX",
        "colab_type": "code",
        "colab": {}
      },
      "source": [
        "df_test = df.sample(100)"
      ],
      "execution_count": 0,
      "outputs": []
    },
    {
      "cell_type": "code",
      "metadata": {
        "id": "XVSGPM8tSomb",
        "colab_type": "code",
        "outputId": "338869bd-4875-4fe2-db16-7094e427ae16",
        "colab": {
          "base_uri": "https://localhost:8080/",
          "height": 206
        }
      },
      "source": [
        "df_test.head()"
      ],
      "execution_count": 114,
      "outputs": [
        {
          "output_type": "execute_result",
          "data": {
            "text/html": [
              "<div>\n",
              "<style scoped>\n",
              "    .dataframe tbody tr th:only-of-type {\n",
              "        vertical-align: middle;\n",
              "    }\n",
              "\n",
              "    .dataframe tbody tr th {\n",
              "        vertical-align: top;\n",
              "    }\n",
              "\n",
              "    .dataframe thead th {\n",
              "        text-align: right;\n",
              "    }\n",
              "</style>\n",
              "<table border=\"1\" class=\"dataframe\">\n",
              "  <thead>\n",
              "    <tr style=\"text-align: right;\">\n",
              "      <th></th>\n",
              "      <th>energy</th>\n",
              "      <th>proteins</th>\n",
              "      <th>salt</th>\n",
              "      <th>fiber</th>\n",
              "      <th>saturated_fat</th>\n",
              "      <th>sugars</th>\n",
              "      <th>nutriscore</th>\n",
              "    </tr>\n",
              "  </thead>\n",
              "  <tbody>\n",
              "    <tr>\n",
              "      <th>7078</th>\n",
              "      <td>0.0</td>\n",
              "      <td>5.2</td>\n",
              "      <td>0.384</td>\n",
              "      <td>4.1</td>\n",
              "      <td>0.2</td>\n",
              "      <td>1.5</td>\n",
              "      <td>5</td>\n",
              "    </tr>\n",
              "    <tr>\n",
              "      <th>9009</th>\n",
              "      <td>188.0</td>\n",
              "      <td>0.7</td>\n",
              "      <td>0.280</td>\n",
              "      <td>1.4</td>\n",
              "      <td>0.7</td>\n",
              "      <td>2.7</td>\n",
              "      <td>4</td>\n",
              "    </tr>\n",
              "    <tr>\n",
              "      <th>9644</th>\n",
              "      <td>1804.0</td>\n",
              "      <td>6.8</td>\n",
              "      <td>0.440</td>\n",
              "      <td>3.7</td>\n",
              "      <td>5.7</td>\n",
              "      <td>33.0</td>\n",
              "      <td>2</td>\n",
              "    </tr>\n",
              "    <tr>\n",
              "      <th>3873</th>\n",
              "      <td>2272.0</td>\n",
              "      <td>4.7</td>\n",
              "      <td>0.072</td>\n",
              "      <td>2.1</td>\n",
              "      <td>22.0</td>\n",
              "      <td>31.0</td>\n",
              "      <td>1</td>\n",
              "    </tr>\n",
              "    <tr>\n",
              "      <th>1884</th>\n",
              "      <td>912.0</td>\n",
              "      <td>13.0</td>\n",
              "      <td>0.260</td>\n",
              "      <td>0.0</td>\n",
              "      <td>12.0</td>\n",
              "      <td>2.2</td>\n",
              "      <td>3</td>\n",
              "    </tr>\n",
              "  </tbody>\n",
              "</table>\n",
              "</div>"
            ],
            "text/plain": [
              "      energy  proteins   salt  fiber  saturated_fat  sugars nutriscore\n",
              "7078     0.0       5.2  0.384    4.1            0.2     1.5          5\n",
              "9009   188.0       0.7  0.280    1.4            0.7     2.7          4\n",
              "9644  1804.0       6.8  0.440    3.7            5.7    33.0          2\n",
              "3873  2272.0       4.7  0.072    2.1           22.0    31.0          1\n",
              "1884   912.0      13.0  0.260    0.0           12.0     2.2          3"
            ]
          },
          "metadata": {
            "tags": []
          },
          "execution_count": 114
        }
      ]
    },
    {
      "cell_type": "code",
      "metadata": {
        "id": "mKoiOqcDS78h",
        "colab_type": "code",
        "colab": {}
      },
      "source": [
        "food_scores = []\n",
        "for index, food in df_test.iterrows():\n",
        "  pred = utility_func_prod(df_test, index, utility_thresh_prod)\n",
        "  nutriscore = food['nutriscore']\n",
        "  food_scores.append({'pred': pred, 'nutriscore': nutriscore})"
      ],
      "execution_count": 0,
      "outputs": []
    },
    {
      "cell_type": "code",
      "metadata": {
        "id": "oZkgxvllTiAE",
        "colab_type": "code",
        "colab": {}
      },
      "source": [
        "food_scores.sort(key=lambda food: food['pred'], reverse=True)"
      ],
      "execution_count": 0,
      "outputs": []
    },
    {
      "cell_type": "code",
      "metadata": {
        "id": "PiQX6gpFT8Y4",
        "colab_type": "code",
        "outputId": "09d07418-6790-485a-9205-cda601b5eb57",
        "colab": {
          "base_uri": "https://localhost:8080/",
          "height": 1000
        }
      },
      "source": [
        "food_scores"
      ],
      "execution_count": 117,
      "outputs": [
        {
          "output_type": "execute_result",
          "data": {
            "text/plain": [
              "[{'nutriscore': 2, 'pred': 1.1234578769747155e-12},\n",
              " {'nutriscore': 4, 'pred': 1.1164792409435968e-12},\n",
              " {'nutriscore': 4, 'pred': 1.0983591477894389e-12},\n",
              " {'nutriscore': 3, 'pred': 1.0963436210862798e-12},\n",
              " {'nutriscore': 2, 'pred': 1.0934357115447126e-12},\n",
              " {'nutriscore': 3, 'pred': 1.0902903714440721e-12},\n",
              " {'nutriscore': 5, 'pred': 1.088887089049004e-12},\n",
              " {'nutriscore': 2, 'pred': 1.0881360032102215e-12},\n",
              " {'nutriscore': 2, 'pred': 1.0878457041511675e-12},\n",
              " {'nutriscore': 1, 'pred': 1.0861752512080377e-12},\n",
              " {'nutriscore': 5, 'pred': 1.0857947949360307e-12},\n",
              " {'nutriscore': 3, 'pred': 1.0849722526548815e-12},\n",
              " {'nutriscore': 2, 'pred': 1.0848989911266237e-12},\n",
              " {'nutriscore': 3, 'pred': 1.0845765655893108e-12},\n",
              " {'nutriscore': 5, 'pred': 1.0844901368751196e-12},\n",
              " {'nutriscore': 4, 'pred': 1.0844084568818296e-12},\n",
              " {'nutriscore': 4, 'pred': 1.0842872212600287e-12},\n",
              " {'nutriscore': 4, 'pred': 1.0839982752351417e-12},\n",
              " {'nutriscore': 2, 'pred': 1.0837246183239345e-12},\n",
              " {'nutriscore': 5, 'pred': 1.0835786541865397e-12},\n",
              " {'nutriscore': 2, 'pred': 1.0830924902285881e-12},\n",
              " {'nutriscore': 4, 'pred': 1.0829990091537151e-12},\n",
              " {'nutriscore': 4, 'pred': 1.0827652447205956e-12},\n",
              " {'nutriscore': 3, 'pred': 1.0825377006459023e-12},\n",
              " {'nutriscore': 5, 'pred': 1.0823674843297466e-12},\n",
              " {'nutriscore': 4, 'pred': 1.0823147126310463e-12},\n",
              " {'nutriscore': 2, 'pred': 1.0821796701188094e-12},\n",
              " {'nutriscore': 4, 'pred': 1.082174195948889e-12},\n",
              " {'nutriscore': 5, 'pred': 1.0821446712956057e-12},\n",
              " {'nutriscore': 5, 'pred': 1.0820705493714932e-12},\n",
              " {'nutriscore': 3, 'pred': 1.0820272962072665e-12},\n",
              " {'nutriscore': 4, 'pred': 1.081926182153278e-12},\n",
              " {'nutriscore': 5, 'pred': 1.0818937561673275e-12},\n",
              " {'nutriscore': 2, 'pred': 1.0817945424259005e-12},\n",
              " {'nutriscore': 3, 'pred': 1.0817244282947154e-12},\n",
              " {'nutriscore': 5, 'pred': 1.081714631051783e-12},\n",
              " {'nutriscore': 1, 'pred': 1.08169598633127e-12},\n",
              " {'nutriscore': 3, 'pred': 1.0816620083512215e-12},\n",
              " {'nutriscore': 1, 'pred': 1.0816242624048234e-12},\n",
              " {'nutriscore': 4, 'pred': 1.0815497068302836e-12},\n",
              " {'nutriscore': 5, 'pred': 1.0815442475703014e-12},\n",
              " {'nutriscore': 3, 'pred': 1.081543937471258e-12},\n",
              " {'nutriscore': 5, 'pred': 1.081523812047832e-12},\n",
              " {'nutriscore': 4, 'pred': 1.0814977514365695e-12},\n",
              " {'nutriscore': 5, 'pred': 1.0814846890164527e-12},\n",
              " {'nutriscore': 2, 'pred': 1.0814000856147937e-12},\n",
              " {'nutriscore': 3, 'pred': 1.0813940483538407e-12},\n",
              " {'nutriscore': 1, 'pred': 1.0811716479396515e-12},\n",
              " {'nutriscore': 1, 'pred': 1.0810552728841487e-12},\n",
              " {'nutriscore': 5, 'pred': 1.081019018539397e-12},\n",
              " {'nutriscore': 2, 'pred': 1.0807370218611365e-12},\n",
              " {'nutriscore': 3, 'pred': 1.0806808865351957e-12},\n",
              " {'nutriscore': 2, 'pred': 1.0805144020209425e-12},\n",
              " {'nutriscore': 5, 'pred': 1.0803211396256442e-12},\n",
              " {'nutriscore': 5, 'pred': 1.0801413553317518e-12},\n",
              " {'nutriscore': 5, 'pred': 1.0801193077918278e-12},\n",
              " {'nutriscore': 2, 'pred': 1.0793153190356584e-12},\n",
              " {'nutriscore': 2, 'pred': 1.0791604075647111e-12},\n",
              " {'nutriscore': 4, 'pred': 1.079017628925389e-12},\n",
              " {'nutriscore': 3, 'pred': 1.0785838124052977e-12},\n",
              " {'nutriscore': 4, 'pred': 1.0784445247278194e-12},\n",
              " {'nutriscore': 3, 'pred': 1.0784108920321655e-12},\n",
              " {'nutriscore': 3, 'pred': 1.078373484145217e-12},\n",
              " {'nutriscore': 5, 'pred': 1.0780179525461899e-12},\n",
              " {'nutriscore': 4, 'pred': 1.0777907495838224e-12},\n",
              " {'nutriscore': 5, 'pred': 1.0774824119296048e-12},\n",
              " {'nutriscore': 4, 'pred': 1.0774152138064948e-12},\n",
              " {'nutriscore': 3, 'pred': 1.077368769012838e-12},\n",
              " {'nutriscore': 3, 'pred': 1.0772332822285788e-12},\n",
              " {'nutriscore': 4, 'pred': 1.076768241361796e-12},\n",
              " {'nutriscore': 4, 'pred': 1.0765632496584464e-12},\n",
              " {'nutriscore': 1, 'pred': 1.076299382e-12},\n",
              " {'nutriscore': 3, 'pred': 1.0758374716178426e-12},\n",
              " {'nutriscore': 5, 'pred': 1.0756057305992682e-12},\n",
              " {'nutriscore': 4, 'pred': 1.0755922478901789e-12},\n",
              " {'nutriscore': 2, 'pred': 1.075445216758787e-12},\n",
              " {'nutriscore': 1, 'pred': 1.0753703763097136e-12},\n",
              " {'nutriscore': 2, 'pred': 1.0751374622916662e-12},\n",
              " {'nutriscore': 5, 'pred': 1.0751286152665967e-12},\n",
              " {'nutriscore': 3, 'pred': 1.0745923205157542e-12},\n",
              " {'nutriscore': 2, 'pred': 1.0719818004496466e-12},\n",
              " {'nutriscore': 3, 'pred': 1.0715352643606115e-12},\n",
              " {'nutriscore': 5, 'pred': 1.071531660095193e-12},\n",
              " {'nutriscore': 1, 'pred': 1.0692768142988079e-12},\n",
              " {'nutriscore': 2, 'pred': 1.0689081367105036e-12},\n",
              " {'nutriscore': 3, 'pred': 1.068286457390579e-12},\n",
              " {'nutriscore': 1, 'pred': 1.0677546561165669e-12},\n",
              " {'nutriscore': 4, 'pred': 1.064333029713794e-12},\n",
              " {'nutriscore': 5, 'pred': 1.0642756156082128e-12},\n",
              " {'nutriscore': 5, 'pred': 1.0590649002042328e-12},\n",
              " {'nutriscore': 2, 'pred': 1.0533196462369328e-12},\n",
              " {'nutriscore': 1, 'pred': 1.0524867577462757e-12},\n",
              " {'nutriscore': 1, 'pred': 1.0484145769225479e-12},\n",
              " {'nutriscore': 5, 'pred': 1.0411076700884726e-12},\n",
              " {'nutriscore': 5, 'pred': 1.0408629539666945e-12},\n",
              " {'nutriscore': 5, 'pred': 1.0370190831247673e-12},\n",
              " {'nutriscore': 5, 'pred': 1.0322925716826403e-12},\n",
              " {'nutriscore': 1, 'pred': 1.0266776138029586e-12},\n",
              " {'nutriscore': 1, 'pred': 1.0261330576674038e-12},\n",
              " {'nutriscore': 2, 'pred': 1.0248878780556198e-12}]"
            ]
          },
          "metadata": {
            "tags": []
          },
          "execution_count": 117
        }
      ]
    }
  ]
}