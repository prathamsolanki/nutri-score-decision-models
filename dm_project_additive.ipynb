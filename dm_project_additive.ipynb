{
  "nbformat": 4,
  "nbformat_minor": 0,
  "metadata": {
    "kernelspec": {
      "display_name": "dm_venv",
      "language": "python",
      "name": "dm_venv"
    },
    "language_info": {
      "codemirror_mode": {
        "name": "ipython",
        "version": 3
      },
      "file_extension": ".py",
      "mimetype": "text/x-python",
      "name": "python",
      "nbconvert_exporter": "python",
      "pygments_lexer": "ipython3",
      "version": "3.7.1"
    },
    "colab": {
      "name": "dm_project_additive.ipynb",
      "provenance": [],
      "collapsed_sections": []
    }
  },
  "cells": [
    {
      "cell_type": "code",
      "metadata": {
        "id": "p1HCEtOyXZtD",
        "colab_type": "code",
        "outputId": "f180935e-9aa9-47b4-90c8-7cb8841a78fc",
        "colab": {
          "base_uri": "https://localhost:8080/",
          "height": 53
        }
      },
      "source": [
        "!pip install pulp\n",
        "from pulp import *\n",
        "import pandas as pd\n",
        "import sys\n",
        "import matplotlib.pyplot as plt\n",
        "import numpy as np\n",
        "from sklearn.model_selection import train_test_split\n",
        "from sklearn.metrics import confusion_matrix\n",
        "import sys"
      ],
      "execution_count": 251,
      "outputs": [
        {
          "output_type": "stream",
          "text": [
            "Requirement already satisfied: pulp in /usr/local/lib/python3.6/dist-packages (2.0)\n",
            "Requirement already satisfied: pyparsing>=2.0.1 in /usr/local/lib/python3.6/dist-packages (from pulp) (2.4.6)\n"
          ],
          "name": "stdout"
        }
      ]
    },
    {
      "cell_type": "code",
      "metadata": {
        "id": "8gOG5FGwXZtM",
        "colab_type": "code",
        "colab": {}
      },
      "source": [
        "#!{sys.executable} -m pip install xlrd"
      ],
      "execution_count": 0,
      "outputs": []
    },
    {
      "cell_type": "markdown",
      "metadata": {
        "id": "APb3RUyeXZtR",
        "colab_type": "text"
      },
      "source": [
        "# Importing the dataset"
      ]
    },
    {
      "cell_type": "code",
      "metadata": {
        "id": "f5bsWUahXZtT",
        "colab_type": "code",
        "outputId": "783adf41-e7ff-403f-ca97-65918f1d44ae",
        "colab": {
          "base_uri": "https://localhost:8080/",
          "height": 108
        }
      },
      "source": [
        "df = pd.read_excel(\"openfoodfacts_simplified_database.xlsx\")\n",
        "df = df[~df['nutrition_grade_fr'].isna()]\n",
        "df['nutrition_grade_fr'].describe()"
      ],
      "execution_count": 253,
      "outputs": [
        {
          "output_type": "execute_result",
          "data": {
            "text/plain": [
              "count     5925\n",
              "unique       5\n",
              "top          d\n",
              "freq      1599\n",
              "Name: nutrition_grade_fr, dtype: object"
            ]
          },
          "metadata": {
            "tags": []
          },
          "execution_count": 253
        }
      ]
    },
    {
      "cell_type": "code",
      "metadata": {
        "id": "H-xUA-96XZte",
        "colab_type": "code",
        "outputId": "39458dcc-ef0e-47a1-f01c-ce885d9a7983",
        "colab": {
          "base_uri": "https://localhost:8080/",
          "height": 206
        }
      },
      "source": [
        "cols = ['energy_100g', 'saturated-fat_100g', 'sugars_100g', 'fiber_100g', 'proteins_100g', 'sodium_100g', 'nutrition_grade_fr']\n",
        "df = df[cols]\n",
        "df.columns = ['energy', 'saturated_fat', 'sugars', 'fiber', 'proteins', 'salt', 'nutriscore']\n",
        "df.head()"
      ],
      "execution_count": 254,
      "outputs": [
        {
          "output_type": "execute_result",
          "data": {
            "text/html": [
              "<div>\n",
              "<style scoped>\n",
              "    .dataframe tbody tr th:only-of-type {\n",
              "        vertical-align: middle;\n",
              "    }\n",
              "\n",
              "    .dataframe tbody tr th {\n",
              "        vertical-align: top;\n",
              "    }\n",
              "\n",
              "    .dataframe thead th {\n",
              "        text-align: right;\n",
              "    }\n",
              "</style>\n",
              "<table border=\"1\" class=\"dataframe\">\n",
              "  <thead>\n",
              "    <tr style=\"text-align: right;\">\n",
              "      <th></th>\n",
              "      <th>energy</th>\n",
              "      <th>saturated_fat</th>\n",
              "      <th>sugars</th>\n",
              "      <th>fiber</th>\n",
              "      <th>proteins</th>\n",
              "      <th>salt</th>\n",
              "      <th>nutriscore</th>\n",
              "    </tr>\n",
              "  </thead>\n",
              "  <tbody>\n",
              "    <tr>\n",
              "      <th>0</th>\n",
              "      <td>590.0</td>\n",
              "      <td>0.5</td>\n",
              "      <td>5.5</td>\n",
              "      <td>1.8</td>\n",
              "      <td>6.2</td>\n",
              "      <td>0.236</td>\n",
              "      <td>b</td>\n",
              "    </tr>\n",
              "    <tr>\n",
              "      <th>3</th>\n",
              "      <td>1477.0</td>\n",
              "      <td>1.5</td>\n",
              "      <td>10.0</td>\n",
              "      <td>9.9</td>\n",
              "      <td>5.4</td>\n",
              "      <td>2.200</td>\n",
              "      <td>b</td>\n",
              "    </tr>\n",
              "    <tr>\n",
              "      <th>4</th>\n",
              "      <td>176.0</td>\n",
              "      <td>0.0</td>\n",
              "      <td>9.7</td>\n",
              "      <td>0.0</td>\n",
              "      <td>0.5</td>\n",
              "      <td>0.000</td>\n",
              "      <td>c</td>\n",
              "    </tr>\n",
              "    <tr>\n",
              "      <th>8</th>\n",
              "      <td>1022.0</td>\n",
              "      <td>1.9</td>\n",
              "      <td>0.5</td>\n",
              "      <td>1.4</td>\n",
              "      <td>12.0</td>\n",
              "      <td>0.332</td>\n",
              "      <td>b</td>\n",
              "    </tr>\n",
              "    <tr>\n",
              "      <th>9</th>\n",
              "      <td>196.0</td>\n",
              "      <td>0.0</td>\n",
              "      <td>11.0</td>\n",
              "      <td>0.5</td>\n",
              "      <td>0.7</td>\n",
              "      <td>0.040</td>\n",
              "      <td>c</td>\n",
              "    </tr>\n",
              "  </tbody>\n",
              "</table>\n",
              "</div>"
            ],
            "text/plain": [
              "   energy  saturated_fat  sugars  fiber  proteins   salt nutriscore\n",
              "0   590.0            0.5     5.5    1.8       6.2  0.236          b\n",
              "3  1477.0            1.5    10.0    9.9       5.4  2.200          b\n",
              "4   176.0            0.0     9.7    0.0       0.5  0.000          c\n",
              "8  1022.0            1.9     0.5    1.4      12.0  0.332          b\n",
              "9   196.0            0.0    11.0    0.5       0.7  0.040          c"
            ]
          },
          "metadata": {
            "tags": []
          },
          "execution_count": 254
        }
      ]
    },
    {
      "cell_type": "code",
      "metadata": {
        "id": "uP_lRee0XZtg",
        "colab_type": "code",
        "colab": {}
      },
      "source": [
        "df = df[~df['energy'].isna()]\n",
        "df = df[~df['saturated_fat'].isna()]\n",
        "df = df[~df['sugars'].isna()]\n",
        "df = df[~df['fiber'].isna()]\n",
        "df = df[~df['proteins'].isna()]\n",
        "df = df[~df['salt'].isna()]"
      ],
      "execution_count": 0,
      "outputs": []
    },
    {
      "cell_type": "code",
      "metadata": {
        "id": "G4mNyD8WLWW6",
        "colab_type": "code",
        "outputId": "eda58064-2685-4e6a-e03f-a1ef952bbf71",
        "colab": {
          "base_uri": "https://localhost:8080/",
          "height": 555
        }
      },
      "source": [
        "df['nutriscore'].hist()"
      ],
      "execution_count": 256,
      "outputs": [
        {
          "output_type": "execute_result",
          "data": {
            "text/plain": [
              "<matplotlib.axes._subplots.AxesSubplot at 0x7f78f15925c0>"
            ]
          },
          "metadata": {
            "tags": []
          },
          "execution_count": 256
        },
        {
          "output_type": "display_data",
          "data": {
            "image/png": "[encoded data removed]",
            "text/plain": [
              "<Figure size 864x648 with 1 Axes>"
            ]
          },
          "metadata": {
            "tags": []
          }
        }
      ]
    },
    {
      "cell_type": "code",
      "metadata": {
        "id": "S5i9Q8c7XZth",
        "colab_type": "code",
        "colab": {}
      },
      "source": [
        "def create_buckets(df, criterion, precision, eps):\n",
        "    num_buckets = int((df[criterion].max() + eps - df[criterion].min()) / precision)\n",
        "    max_value = df[criterion].max() + eps\n",
        "    min_value = df[criterion].min()\n",
        "    real_precision = (max_value - min_value) / num_buckets\n",
        "    \n",
        "    buckets = []\n",
        "    left_thresh = min_value\n",
        "    for i in range(num_buckets):\n",
        "        buckets.append((left_thresh, left_thresh+real_precision))\n",
        "        left_thresh = left_thresh+real_precision\n",
        "\n",
        "    return buckets"
      ],
      "execution_count": 0,
      "outputs": []
    },
    {
      "cell_type": "code",
      "metadata": {
        "id": "wVjU0NqoXZtj",
        "colab_type": "code",
        "colab": {}
      },
      "source": [
        "buckets = {}"
      ],
      "execution_count": 0,
      "outputs": []
    },
    {
      "cell_type": "code",
      "metadata": {
        "id": "DmQ5BNfNXZtk",
        "colab_type": "code",
        "outputId": "dac346e4-af08-47b7-db3f-20f886318556",
        "colab": {
          "base_uri": "https://localhost:8080/",
          "height": 573
        }
      },
      "source": [
        "bins = int((df['energy'].max() - df['energy'].min()) / 200)\n",
        "print(bins)\n",
        "df['energy'].plot.hist(bins=bins)"
      ],
      "execution_count": 259,
      "outputs": [
        {
          "output_type": "stream",
          "text": [
            "37\n"
          ],
          "name": "stdout"
        },
        {
          "output_type": "execute_result",
          "data": {
            "text/plain": [
              "<matplotlib.axes._subplots.AxesSubplot at 0x7f78f161a198>"
            ]
          },
          "metadata": {
            "tags": []
          },
          "execution_count": 259
        },
        {
          "output_type": "display_data",
          "data": {
            "image/png": "[encoded data removed]",
            "text/plain": [
              "<Figure size 864x648 with 1 Axes>"
            ]
          },
          "metadata": {
            "tags": []
          }
        }
      ]
    },
    {
      "cell_type": "code",
      "metadata": {
        "id": "AaoItQiHXZtm",
        "colab_type": "code",
        "outputId": "388cce0c-3dea-4f53-8efd-02bec7d6128f",
        "colab": {
          "base_uri": "https://localhost:8080/",
          "height": 573
        }
      },
      "source": [
        "bins = int((df['saturated_fat'].max() - df['saturated_fat'].min()) / 2)\n",
        "print(bins)\n",
        "df['saturated_fat'].plot.hist(bins=bins)"
      ],
      "execution_count": 260,
      "outputs": [
        {
          "output_type": "stream",
          "text": [
            "50\n"
          ],
          "name": "stdout"
        },
        {
          "output_type": "execute_result",
          "data": {
            "text/plain": [
              "<matplotlib.axes._subplots.AxesSubplot at 0x7f78f157a8d0>"
            ]
          },
          "metadata": {
            "tags": []
          },
          "execution_count": 260
        },
        {
          "output_type": "display_data",
          "data": {
            "image/png": "[encoded data removed]",
            "text/plain": [
              "<Figure size 864x648 with 1 Axes>"
            ]
          },
          "metadata": {
            "tags": []
          }
        }
      ]
    },
    {
      "cell_type": "code",
      "metadata": {
        "id": "Dsma3HcrXZtn",
        "colab_type": "code",
        "outputId": "a3c5d1e4-0392-4eb3-9708-cad35d0fddad",
        "colab": {
          "base_uri": "https://localhost:8080/",
          "height": 573
        }
      },
      "source": [
        "bins = int((df['sugars'].max() - df['sugars'].min()) / 4)\n",
        "print(bins)\n",
        "df['sugars'].plot.hist(bins=bins)"
      ],
      "execution_count": 261,
      "outputs": [
        {
          "output_type": "stream",
          "text": [
            "25\n"
          ],
          "name": "stdout"
        },
        {
          "output_type": "execute_result",
          "data": {
            "text/plain": [
              "<matplotlib.axes._subplots.AxesSubplot at 0x7f78f15b61d0>"
            ]
          },
          "metadata": {
            "tags": []
          },
          "execution_count": 261
        },
        {
          "output_type": "display_data",
          "data": {
            "image/png": "[encoded data removed]",
            "text/plain": [
              "<Figure size 864x648 with 1 Axes>"
            ]
          },
          "metadata": {
            "tags": []
          }
        }
      ]
    },
    {
      "cell_type": "code",
      "metadata": {
        "id": "406WTOuYXZtp",
        "colab_type": "code",
        "outputId": "a5c345ba-5f69-475b-eb22-5777da54bbc6",
        "colab": {
          "base_uri": "https://localhost:8080/",
          "height": 573
        }
      },
      "source": [
        "bins = int((df['fiber'].max() - df['fiber'].min()) / 0.7)\n",
        "print(bins)\n",
        "df['fiber'].plot.hist(bins=bins)"
      ],
      "execution_count": 262,
      "outputs": [
        {
          "output_type": "stream",
          "text": [
            "68\n"
          ],
          "name": "stdout"
        },
        {
          "output_type": "execute_result",
          "data": {
            "text/plain": [
              "<matplotlib.axes._subplots.AxesSubplot at 0x7f78ec32bda0>"
            ]
          },
          "metadata": {
            "tags": []
          },
          "execution_count": 262
        },
        {
          "output_type": "display_data",
          "data": {
            "image/png": "[encoded data removed]",
            "text/plain": [
              "<Figure size 864x648 with 1 Axes>"
            ]
          },
          "metadata": {
            "tags": []
          }
        }
      ]
    },
    {
      "cell_type": "code",
      "metadata": {
        "id": "WYpB29sPXZtq",
        "colab_type": "code",
        "outputId": "b1a04301-5814-43cf-dc5c-fc3945aacafd",
        "colab": {
          "base_uri": "https://localhost:8080/",
          "height": 573
        }
      },
      "source": [
        "bins = int((df['proteins'].max() - df['proteins'].min()) / 2)\n",
        "print(bins)\n",
        "df['proteins'].plot.hist(bins=bins)"
      ],
      "execution_count": 263,
      "outputs": [
        {
          "output_type": "stream",
          "text": [
            "20\n"
          ],
          "name": "stdout"
        },
        {
          "output_type": "execute_result",
          "data": {
            "text/plain": [
              "<matplotlib.axes._subplots.AxesSubplot at 0x7f78ec3713c8>"
            ]
          },
          "metadata": {
            "tags": []
          },
          "execution_count": 263
        },
        {
          "output_type": "display_data",
          "data": {
            "image/png": "[encoded data removed]",
            "text/plain": [
              "<Figure size 864x648 with 1 Axes>"
            ]
          },
          "metadata": {
            "tags": []
          }
        }
      ]
    },
    {
      "cell_type": "code",
      "metadata": {
        "id": "hOS19X82XZts",
        "colab_type": "code",
        "outputId": "71fb930e-a0ce-4430-9b10-d9d51b4c573e",
        "colab": {
          "base_uri": "https://localhost:8080/",
          "height": 573
        }
      },
      "source": [
        "bins = int((df['salt'].max() - df['salt'].min()) / 0.2)\n",
        "print(bins)\n",
        "df['salt'].plot.hist(bins=bins)"
      ],
      "execution_count": 264,
      "outputs": [
        {
          "output_type": "stream",
          "text": [
            "97\n"
          ],
          "name": "stdout"
        },
        {
          "output_type": "execute_result",
          "data": {
            "text/plain": [
              "<matplotlib.axes._subplots.AxesSubplot at 0x7f78ec1a92b0>"
            ]
          },
          "metadata": {
            "tags": []
          },
          "execution_count": 264
        },
        {
          "output_type": "display_data",
          "data": {
            "image/png": "[encoded data removed]",
            "text/plain": [
              "<Figure size 864x648 with 1 Axes>"
            ]
          },
          "metadata": {
            "tags": []
          }
        }
      ]
    },
    {
      "cell_type": "markdown",
      "metadata": {
        "id": "945vcI8HXZtt",
        "colab_type": "text"
      },
      "source": [
        "# Create the buckets"
      ]
    },
    {
      "cell_type": "code",
      "metadata": {
        "id": "qZgHhcBAXZtt",
        "colab_type": "code",
        "colab": {}
      },
      "source": [
        "buckets['energy'] = create_buckets(df, 'energy', precision=200, eps=10)\n",
        "buckets['saturated_fat'] = create_buckets(df, 'saturated_fat', precision=2, eps=0.1)\n",
        "buckets['sugars'] = create_buckets(df, 'sugars', precision=4, eps=0.1)\n",
        "buckets['fiber'] = create_buckets(df, 'fiber', precision=0.7, eps=0.1)\n",
        "buckets['proteins'] = create_buckets(df, 'proteins', precision=2, eps=0.1)\n",
        "buckets['salt'] = create_buckets(df, 'salt', precision=0.2, eps=0.05)"
      ],
      "execution_count": 0,
      "outputs": []
    },
    {
      "cell_type": "markdown",
      "metadata": {
        "id": "qhTK6I5r4v5c",
        "colab_type": "text"
      },
      "source": [
        "# Split the dataset"
      ]
    },
    {
      "cell_type": "code",
      "metadata": {
        "id": "dMzo7akl40el",
        "colab_type": "code",
        "colab": {}
      },
      "source": [
        "features = ['energy', 'proteins', 'salt', 'fiber', 'saturated_fat', 'sugars']\n",
        "X = df[features]\n",
        "y = df[['nutriscore']]"
      ],
      "execution_count": 0,
      "outputs": []
    },
    {
      "cell_type": "code",
      "metadata": {
        "id": "cU6kl_Yl5FNi",
        "colab_type": "code",
        "colab": {}
      },
      "source": [
        "X_train, X_test, y_train, y_test = train_test_split(X, y, test_size=0.8, random_state=1)"
      ],
      "execution_count": 0,
      "outputs": []
    },
    {
      "cell_type": "code",
      "metadata": {
        "id": "tQMv6wWd5eK1",
        "colab_type": "code",
        "outputId": "91a268e2-d665-4d7d-899f-5f4863639482",
        "colab": {
          "base_uri": "https://localhost:8080/",
          "height": 146
        }
      },
      "source": [
        "df = X_train\n",
        "df['nutriscore'] = y_train['nutriscore']"
      ],
      "execution_count": 268,
      "outputs": [
        {
          "output_type": "stream",
          "text": [
            "/usr/local/lib/python3.6/dist-packages/ipykernel_launcher.py:2: SettingWithCopyWarning: \n",
            "A value is trying to be set on a copy of a slice from a DataFrame.\n",
            "Try using .loc[row_indexer,col_indexer] = value instead\n",
            "\n",
            "See the caveats in the documentation: http://pandas.pydata.org/pandas-docs/stable/user_guide/indexing.html#returning-a-view-versus-a-copy\n",
            "  \n"
          ],
          "name": "stderr"
        }
      ]
    },
    {
      "cell_type": "code",
      "metadata": {
        "id": "ERxLMV7-bm_D",
        "colab_type": "code",
        "outputId": "fd13eb0a-c226-4cd9-c286-b54342c8e784",
        "colab": {
          "base_uri": "https://localhost:8080/",
          "height": 35
        }
      },
      "source": [
        "df.count()[0]"
      ],
      "execution_count": 269,
      "outputs": [
        {
          "output_type": "execute_result",
          "data": {
            "text/plain": [
              "799"
            ]
          },
          "metadata": {
            "tags": []
          },
          "execution_count": 269
        }
      ]
    },
    {
      "cell_type": "code",
      "metadata": {
        "id": "miHEVLpUN9zZ",
        "colab_type": "code",
        "outputId": "eac41549-dc55-4b5e-a71f-f2c9cb52e193",
        "colab": {
          "base_uri": "https://localhost:8080/",
          "height": 146
        }
      },
      "source": [
        "df_test = X_test\n",
        "df_test['nutriscore'] = y_test['nutriscore']"
      ],
      "execution_count": 270,
      "outputs": [
        {
          "output_type": "stream",
          "text": [
            "/usr/local/lib/python3.6/dist-packages/ipykernel_launcher.py:2: SettingWithCopyWarning: \n",
            "A value is trying to be set on a copy of a slice from a DataFrame.\n",
            "Try using .loc[row_indexer,col_indexer] = value instead\n",
            "\n",
            "See the caveats in the documentation: http://pandas.pydata.org/pandas-docs/stable/user_guide/indexing.html#returning-a-view-versus-a-copy\n",
            "  \n"
          ],
          "name": "stderr"
        }
      ]
    },
    {
      "cell_type": "code",
      "metadata": {
        "id": "en6zm-QuOF0Q",
        "colab_type": "code",
        "outputId": "5cbfec93-a7e4-4083-a640-5b0d98504904",
        "colab": {
          "base_uri": "https://localhost:8080/",
          "height": 35
        }
      },
      "source": [
        "df_test.count()[0]"
      ],
      "execution_count": 271,
      "outputs": [
        {
          "output_type": "execute_result",
          "data": {
            "text/plain": [
              "3196"
            ]
          },
          "metadata": {
            "tags": []
          },
          "execution_count": 271
        }
      ]
    },
    {
      "cell_type": "markdown",
      "metadata": {
        "id": "28XtG_bWXZtu",
        "colab_type": "text"
      },
      "source": [
        "# Formalize the problem"
      ]
    },
    {
      "cell_type": "code",
      "metadata": {
        "id": "x6l8cXnvXZtv",
        "colab_type": "code",
        "colab": {}
      },
      "source": [
        "prob = LpProblem(\"Nutriscore\", LpMinimize)"
      ],
      "execution_count": 0,
      "outputs": []
    },
    {
      "cell_type": "code",
      "metadata": {
        "id": "5QrHq9iZXZtw",
        "colab_type": "code",
        "colab": {}
      },
      "source": [
        "sigma = {}\n",
        "\n",
        "for index, food in df.iterrows():\n",
        "  sigma[index] = LpVariable(\"sigma_\"+str(index),0, sys.maxsize)"
      ],
      "execution_count": 0,
      "outputs": []
    },
    {
      "cell_type": "code",
      "metadata": {
        "id": "4WmnDhQ8XZtx",
        "colab_type": "code",
        "colab": {}
      },
      "source": [
        "# The objective function is added to 'prob' first\n",
        "prob += lpSum(list(sigma.values())), \"Error in the ranking to be minimized\""
      ],
      "execution_count": 0,
      "outputs": []
    },
    {
      "cell_type": "code",
      "metadata": {
        "id": "effUoUwKXZty",
        "colab_type": "code",
        "colab": {}
      },
      "source": [
        "utility_thresh = {}\n",
        "for key in buckets:\n",
        "    utility_thresh[key] = []\n",
        "    \n",
        "for key in buckets:    \n",
        "    for i in range(len(buckets[key])):\n",
        "        utility_thresh[key].append(LpVariable(key+\"_\"+str(i), 0, 1))\n",
        "    utility_thresh[key].append(LpVariable(key+\"_\"+str(len(buckets[key])), 0, 1))"
      ],
      "execution_count": 0,
      "outputs": []
    },
    {
      "cell_type": "code",
      "metadata": {
        "id": "5ljj2cDyXZtz",
        "colab_type": "code",
        "colab": {}
      },
      "source": [
        "def get_bucket_index(value, buckets):\n",
        "    return get_bucket_index_r(value, buckets, 0, len(buckets)-1)"
      ],
      "execution_count": 0,
      "outputs": []
    },
    {
      "cell_type": "code",
      "metadata": {
        "id": "NZrWfHizXZt0",
        "colab_type": "code",
        "colab": {}
      },
      "source": [
        "def get_bucket_index_r(value, buckets, left, right):\n",
        "    middle = int((right - left) / 2 + left)\n",
        "    if (value >= buckets[middle][0]) and (value < buckets[middle][1]):\n",
        "        return middle\n",
        "    if value < buckets[middle][0]:\n",
        "        return get_bucket_index_r(value, buckets, left, middle-1)\n",
        "    return get_bucket_index_r(value, buckets, middle+1, right)"
      ],
      "execution_count": 0,
      "outputs": []
    },
    {
      "cell_type": "code",
      "metadata": {
        "id": "5VwLvq5FXZt1",
        "colab_type": "code",
        "colab": {}
      },
      "source": [
        "def utility_func(df, food_index):\n",
        "    food = df.loc[food_index]\n",
        "    criteria = list(food.keys())\n",
        "    criteria.remove('nutriscore')\n",
        "    utility = 0\n",
        "    for criterion in criteria:\n",
        "        bucket_index = get_bucket_index(food[criterion], buckets[criterion])\n",
        "        left_thresh = buckets[criterion][bucket_index][0]\n",
        "        right_thresh = buckets[criterion][bucket_index][1]\n",
        "        m = (food[criterion] - left_thresh) / (right_thresh - food[criterion])\n",
        "        left_utility = utility_thresh[criterion][bucket_index]\n",
        "        right_utility = utility_thresh[criterion][bucket_index+1]\n",
        "        \n",
        "        utility += left_utility + m * (right_utility - left_utility)\n",
        "    \n",
        "    return utility"
      ],
      "execution_count": 0,
      "outputs": []
    },
    {
      "cell_type": "code",
      "metadata": {
        "id": "jC-0l2T2XZt2",
        "colab_type": "code",
        "outputId": "85fa604e-5441-4e02-ae92-c2a93d008f72",
        "colab": {
          "base_uri": "https://localhost:8080/",
          "height": 582
        }
      },
      "source": [
        "df['nutriscore'] = np.where(df['nutriscore']=='a', 5, df['nutriscore'])\n",
        "df['nutriscore'] = np.where(df['nutriscore']=='b', 4, df['nutriscore'])\n",
        "df['nutriscore'] = np.where(df['nutriscore']=='c', 3, df['nutriscore'])\n",
        "df['nutriscore'] = np.where(df['nutriscore']=='d', 2, df['nutriscore'])\n",
        "df['nutriscore'] = np.where(df['nutriscore']=='e', 1, df['nutriscore'])"
      ],
      "execution_count": 279,
      "outputs": [
        {
          "output_type": "stream",
          "text": [
            "/usr/local/lib/python3.6/dist-packages/ipykernel_launcher.py:1: SettingWithCopyWarning: \n",
            "A value is trying to be set on a copy of a slice from a DataFrame.\n",
            "Try using .loc[row_indexer,col_indexer] = value instead\n",
            "\n",
            "See the caveats in the documentation: http://pandas.pydata.org/pandas-docs/stable/user_guide/indexing.html#returning-a-view-versus-a-copy\n",
            "  \"\"\"Entry point for launching an IPython kernel.\n",
            "/usr/local/lib/python3.6/dist-packages/ipykernel_launcher.py:2: SettingWithCopyWarning: \n",
            "A value is trying to be set on a copy of a slice from a DataFrame.\n",
            "Try using .loc[row_indexer,col_indexer] = value instead\n",
            "\n",
            "See the caveats in the documentation: http://pandas.pydata.org/pandas-docs/stable/user_guide/indexing.html#returning-a-view-versus-a-copy\n",
            "  \n",
            "/usr/local/lib/python3.6/dist-packages/ipykernel_launcher.py:3: SettingWithCopyWarning: \n",
            "A value is trying to be set on a copy of a slice from a DataFrame.\n",
            "Try using .loc[row_indexer,col_indexer] = value instead\n",
            "\n",
            "See the caveats in the documentation: http://pandas.pydata.org/pandas-docs/stable/user_guide/indexing.html#returning-a-view-versus-a-copy\n",
            "  This is separate from the ipykernel package so we can avoid doing imports until\n",
            "/usr/local/lib/python3.6/dist-packages/ipykernel_launcher.py:4: SettingWithCopyWarning: \n",
            "A value is trying to be set on a copy of a slice from a DataFrame.\n",
            "Try using .loc[row_indexer,col_indexer] = value instead\n",
            "\n",
            "See the caveats in the documentation: http://pandas.pydata.org/pandas-docs/stable/user_guide/indexing.html#returning-a-view-versus-a-copy\n",
            "  after removing the cwd from sys.path.\n",
            "/usr/local/lib/python3.6/dist-packages/ipykernel_launcher.py:5: SettingWithCopyWarning: \n",
            "A value is trying to be set on a copy of a slice from a DataFrame.\n",
            "Try using .loc[row_indexer,col_indexer] = value instead\n",
            "\n",
            "See the caveats in the documentation: http://pandas.pydata.org/pandas-docs/stable/user_guide/indexing.html#returning-a-view-versus-a-copy\n",
            "  \"\"\"\n"
          ],
          "name": "stderr"
        }
      ]
    },
    {
      "cell_type": "code",
      "metadata": {
        "id": "ixEv4rgu_10j",
        "colab_type": "code",
        "outputId": "7f883c8e-57e5-4294-99c7-6679b68da212",
        "colab": {
          "base_uri": "https://localhost:8080/",
          "height": 206
        }
      },
      "source": [
        "df.head()"
      ],
      "execution_count": 280,
      "outputs": [
        {
          "output_type": "execute_result",
          "data": {
            "text/html": [
              "<div>\n",
              "<style scoped>\n",
              "    .dataframe tbody tr th:only-of-type {\n",
              "        vertical-align: middle;\n",
              "    }\n",
              "\n",
              "    .dataframe tbody tr th {\n",
              "        vertical-align: top;\n",
              "    }\n",
              "\n",
              "    .dataframe thead th {\n",
              "        text-align: right;\n",
              "    }\n",
              "</style>\n",
              "<table border=\"1\" class=\"dataframe\">\n",
              "  <thead>\n",
              "    <tr style=\"text-align: right;\">\n",
              "      <th></th>\n",
              "      <th>energy</th>\n",
              "      <th>proteins</th>\n",
              "      <th>salt</th>\n",
              "      <th>fiber</th>\n",
              "      <th>saturated_fat</th>\n",
              "      <th>sugars</th>\n",
              "      <th>nutriscore</th>\n",
              "    </tr>\n",
              "  </thead>\n",
              "  <tbody>\n",
              "    <tr>\n",
              "      <th>781</th>\n",
              "      <td>1035.0</td>\n",
              "      <td>29.00</td>\n",
              "      <td>1.800</td>\n",
              "      <td>0.00</td>\n",
              "      <td>5.90</td>\n",
              "      <td>0.50</td>\n",
              "      <td>2</td>\n",
              "    </tr>\n",
              "    <tr>\n",
              "      <th>4140</th>\n",
              "      <td>724.0</td>\n",
              "      <td>4.90</td>\n",
              "      <td>0.308</td>\n",
              "      <td>1.00</td>\n",
              "      <td>5.30</td>\n",
              "      <td>1.70</td>\n",
              "      <td>3</td>\n",
              "    </tr>\n",
              "    <tr>\n",
              "      <th>2829</th>\n",
              "      <td>301.0</td>\n",
              "      <td>0.87</td>\n",
              "      <td>0.408</td>\n",
              "      <td>0.84</td>\n",
              "      <td>0.85</td>\n",
              "      <td>4.45</td>\n",
              "      <td>5</td>\n",
              "    </tr>\n",
              "    <tr>\n",
              "      <th>2719</th>\n",
              "      <td>114.0</td>\n",
              "      <td>2.00</td>\n",
              "      <td>0.340</td>\n",
              "      <td>1.50</td>\n",
              "      <td>0.00</td>\n",
              "      <td>1.50</td>\n",
              "      <td>5</td>\n",
              "    </tr>\n",
              "    <tr>\n",
              "      <th>1150</th>\n",
              "      <td>1506.0</td>\n",
              "      <td>30.00</td>\n",
              "      <td>0.000</td>\n",
              "      <td>19.00</td>\n",
              "      <td>1.60</td>\n",
              "      <td>3.10</td>\n",
              "      <td>5</td>\n",
              "    </tr>\n",
              "  </tbody>\n",
              "</table>\n",
              "</div>"
            ],
            "text/plain": [
              "      energy  proteins   salt  fiber  saturated_fat  sugars nutriscore\n",
              "781   1035.0     29.00  1.800   0.00           5.90    0.50          2\n",
              "4140   724.0      4.90  0.308   1.00           5.30    1.70          3\n",
              "2829   301.0      0.87  0.408   0.84           0.85    4.45          5\n",
              "2719   114.0      2.00  0.340   1.50           0.00    1.50          5\n",
              "1150  1506.0     30.00  0.000  19.00           1.60    3.10          5"
            ]
          },
          "metadata": {
            "tags": []
          },
          "execution_count": 280
        }
      ]
    },
    {
      "cell_type": "code",
      "metadata": {
        "id": "9r6fyChjXZt2",
        "colab_type": "code",
        "colab": {}
      },
      "source": [
        "for index, food in df.iterrows():\n",
        "    utility_food = utility_func(df, index)\n",
        "    preceding_foods = df[df['nutriscore'] == food['nutriscore']-1]\n",
        "    for index2, preceding_food in preceding_foods.iterrows():\n",
        "        utility_prec_food = utility_func(preceding_foods, index2)\n",
        "        prob += (utility_food + sigma[index] >= utility_prec_food + sigma[index2] + 0.001)"
      ],
      "execution_count": 0,
      "outputs": []
    },
    {
      "cell_type": "code",
      "metadata": {
        "id": "jFInkGk-XZt3",
        "colab_type": "code",
        "colab": {}
      },
      "source": [
        "prob += utility_thresh['energy'][len(utility_thresh['energy'])-1] == 0\n",
        "prob += utility_thresh['saturated_fat'][len(utility_thresh['saturated_fat'])-1] == 0\n",
        "prob += utility_thresh['sugars'][len(utility_thresh['sugars'])-1] == 0\n",
        "prob += utility_thresh['salt'][len(utility_thresh['salt'])-1] == 0\n",
        "prob += utility_thresh['proteins'][0] == 0\n",
        "prob += utility_thresh['fiber'][0] == 0"
      ],
      "execution_count": 0,
      "outputs": []
    },
    {
      "cell_type": "code",
      "metadata": {
        "id": "0e-Bk3lYXZt4",
        "colab_type": "code",
        "colab": {}
      },
      "source": [
        "prob += utility_thresh['energy'][0] + \\\n",
        "        utility_thresh['saturated_fat'][0] + \\\n",
        "        utility_thresh['sugars'][0] + \\\n",
        "        utility_thresh['salt'][0] + \\\n",
        "        utility_thresh['proteins'][len(utility_thresh['proteins'])-1] + \\\n",
        "        utility_thresh['fiber'][len(utility_thresh['fiber'])-1] == 1"
      ],
      "execution_count": 0,
      "outputs": []
    },
    {
      "cell_type": "code",
      "metadata": {
        "id": "1xHXV7IfXZt5",
        "colab_type": "code",
        "colab": {}
      },
      "source": [
        "for i in range(len(utility_thresh['energy'])-1):\n",
        "    prob += utility_thresh['energy'][i] >= utility_thresh['energy'][i+1]\n",
        "for i in range(len(utility_thresh['saturated_fat'])-1):\n",
        "    prob += utility_thresh['saturated_fat'][i] >= utility_thresh['saturated_fat'][i+1]\n",
        "for i in range(len(utility_thresh['sugars'])-1):\n",
        "    prob += utility_thresh['sugars'][i] >= utility_thresh['sugars'][i+1]\n",
        "for i in range(len(utility_thresh['salt'])-1):\n",
        "    prob += utility_thresh['salt'][i] >= utility_thresh['salt'][i+1]\n",
        "\n",
        "for i in range(len(utility_thresh['proteins'])-1):\n",
        "    prob += utility_thresh['proteins'][i] <= utility_thresh['proteins'][i+1]\n",
        "for i in range(len(utility_thresh['fiber'])-1):\n",
        "    prob += utility_thresh['fiber'][i] <= utility_thresh['fiber'][i+1]"
      ],
      "execution_count": 0,
      "outputs": []
    },
    {
      "cell_type": "code",
      "metadata": {
        "id": "N5cH4d-MXZt6",
        "colab_type": "code",
        "outputId": "f042d574-29a5-4cb7-859a-62d3d9ae4ccd",
        "colab": {
          "base_uri": "https://localhost:8080/",
          "height": 35
        }
      },
      "source": [
        "prob.solve()\n",
        "print(\"Status:\", LpStatus[prob.status])"
      ],
      "execution_count": 285,
      "outputs": [
        {
          "output_type": "stream",
          "text": [
            "Status: Optimal\n"
          ],
          "name": "stdout"
        }
      ]
    },
    {
      "cell_type": "code",
      "metadata": {
        "id": "USJKygyYXZt7",
        "colab_type": "code",
        "outputId": "90e97a32-676b-4123-a05c-e095daa925c6",
        "colab": {
          "base_uri": "https://localhost:8080/",
          "height": 1000
        }
      },
      "source": [
        "# Each of the variables is printed with it's resolved optimum value\n",
        "for v in prob.variables():\n",
        "    print(v.name, \"=\", v.varValue)"
      ],
      "execution_count": 286,
      "outputs": [
        {
          "output_type": "stream",
          "text": [
            "energy_0 = 0.0011581212\n",
            "energy_1 = 0.00115751\n",
            "energy_10 = 0.00059682597\n",
            "energy_11 = 0.0\n",
            "energy_12 = 0.0\n",
            "energy_13 = 0.0\n",
            "energy_14 = 0.0\n",
            "energy_15 = 0.0\n",
            "energy_16 = 0.0\n",
            "energy_17 = 0.0\n",
            "energy_18 = 0.0\n",
            "energy_19 = 0.0\n",
            "energy_2 = 0.00115751\n",
            "energy_20 = 0.0\n",
            "energy_21 = 0.0\n",
            "energy_22 = 0.0\n",
            "energy_23 = 0.0\n",
            "energy_24 = 0.0\n",
            "energy_25 = 0.0\n",
            "energy_26 = 0.0\n",
            "energy_27 = 0.0\n",
            "energy_28 = 0.0\n",
            "energy_29 = 0.0\n",
            "energy_3 = 0.00115751\n",
            "energy_30 = 0.0\n",
            "energy_31 = 0.0\n",
            "energy_32 = 0.0\n",
            "energy_33 = 0.0\n",
            "energy_34 = 0.0\n",
            "energy_35 = 0.0\n",
            "energy_36 = 0.0\n",
            "energy_37 = 0.0\n",
            "energy_4 = 0.00115751\n",
            "energy_5 = 0.00115751\n",
            "energy_6 = 0.001100233\n",
            "energy_7 = 0.0010377394\n",
            "energy_8 = 0.0010377394\n",
            "energy_9 = 0.00074131284\n",
            "fiber_0 = 0.0\n",
            "fiber_1 = 4.7652871e-06\n",
            "fiber_10 = 0.0013873184\n",
            "fiber_11 = 0.0014042236\n",
            "fiber_12 = 0.0015719669\n",
            "fiber_13 = 0.0015719669\n",
            "fiber_14 = 0.0015719669\n",
            "fiber_15 = 0.0015719669\n",
            "fiber_16 = 0.0015719669\n",
            "fiber_17 = 0.0015719669\n",
            "fiber_18 = 0.0015719669\n",
            "fiber_19 = 0.0015719669\n",
            "fiber_2 = 1.7726623e-05\n",
            "fiber_20 = 0.0019040336\n",
            "fiber_21 = 0.0019040336\n",
            "fiber_22 = 0.0019040336\n",
            "fiber_23 = 0.0019040336\n",
            "fiber_24 = 0.0019040336\n",
            "fiber_25 = 0.0019040336\n",
            "fiber_26 = 0.0019040336\n",
            "fiber_27 = 0.0019418197\n",
            "fiber_28 = 0.0019418197\n",
            "fiber_29 = 0.0019418197\n",
            "fiber_3 = 3.246214e-05\n",
            "fiber_30 = 0.0019418197\n",
            "fiber_31 = 0.0019418197\n",
            "fiber_32 = 0.0019418197\n",
            "fiber_33 = 0.0028397441\n",
            "fiber_34 = 0.0028397441\n",
            "fiber_35 = 0.0028397441\n",
            "fiber_36 = 0.0028397441\n",
            "fiber_37 = 0.0028397441\n",
            "fiber_38 = 0.0028397441\n",
            "fiber_39 = 0.0028397441\n",
            "fiber_4 = 5.9522096e-05\n",
            "fiber_40 = 0.0028397441\n",
            "fiber_41 = 0.0028397441\n",
            "fiber_42 = 0.0028397441\n",
            "fiber_43 = 0.0028397441\n",
            "fiber_44 = 0.0028397441\n",
            "fiber_45 = 0.0028397441\n",
            "fiber_46 = 0.0028397441\n",
            "fiber_47 = 0.0030829979\n",
            "fiber_48 = 0.0030829979\n",
            "fiber_49 = 0.0030829979\n",
            "fiber_5 = 7.169437e-05\n",
            "fiber_50 = 0.0030829979\n",
            "fiber_51 = 0.0030829979\n",
            "fiber_52 = 0.0030829979\n",
            "fiber_53 = 0.0030829979\n",
            "fiber_54 = 0.0030829979\n",
            "fiber_55 = 0.0030829979\n",
            "fiber_56 = 0.0030829979\n",
            "fiber_57 = 0.0030829979\n",
            "fiber_58 = 0.0030829979\n",
            "fiber_59 = 0.0030829979\n",
            "fiber_6 = 0.00011301519\n",
            "fiber_60 = 0.0030829979\n",
            "fiber_61 = 0.0030829979\n",
            "fiber_62 = 0.0038894873\n",
            "fiber_63 = 0.0038894873\n",
            "fiber_64 = 0.0038894873\n",
            "fiber_65 = 0.0038894873\n",
            "fiber_66 = 0.0038894873\n",
            "fiber_67 = 0.0038894873\n",
            "fiber_68 = 0.99508857\n",
            "fiber_7 = 0.00019842221\n",
            "fiber_8 = 0.00047735841\n",
            "fiber_9 = 0.00064244676\n",
            "proteins_0 = 0.0\n",
            "proteins_1 = 8.335961e-05\n",
            "proteins_10 = 0.00035289158\n",
            "proteins_11 = 0.00035478\n",
            "proteins_12 = 0.00048399154\n",
            "proteins_13 = 0.0005749726\n",
            "proteins_14 = 0.00090359388\n",
            "proteins_15 = 0.00090359388\n",
            "proteins_16 = 0.0013511854\n",
            "proteins_17 = 0.0013511854\n",
            "proteins_18 = 0.0013511854\n",
            "proteins_19 = 0.0013511854\n",
            "proteins_2 = 8.805888e-05\n",
            "proteins_20 = 0.0013511854\n",
            "proteins_3 = 0.0001289405\n",
            "proteins_4 = 0.00013829332\n",
            "proteins_5 = 0.00027121386\n",
            "proteins_6 = 0.00027121386\n",
            "proteins_7 = 0.00034763314\n",
            "proteins_8 = 0.00034763314\n",
            "proteins_9 = 0.00035289158\n",
            "salt_0 = 0.00080349373\n",
            "salt_1 = 0.00080349373\n",
            "salt_10 = 0.0\n",
            "salt_11 = 0.0\n",
            "salt_12 = 0.0\n",
            "salt_13 = 0.0\n",
            "salt_14 = 0.0\n",
            "salt_15 = 0.0\n",
            "salt_16 = 0.0\n",
            "salt_17 = 0.0\n",
            "salt_18 = 0.0\n",
            "salt_19 = 0.0\n",
            "salt_2 = 0.00080349373\n",
            "salt_20 = 0.0\n",
            "salt_21 = 0.0\n",
            "salt_22 = 0.0\n",
            "salt_23 = 0.0\n",
            "salt_24 = 0.0\n",
            "salt_25 = 0.0\n",
            "salt_26 = 0.0\n",
            "salt_27 = 0.0\n",
            "salt_28 = 0.0\n",
            "salt_29 = 0.0\n",
            "salt_3 = 0.00080349373\n",
            "salt_30 = 0.0\n",
            "salt_31 = 0.0\n",
            "salt_32 = 0.0\n",
            "salt_33 = 0.0\n",
            "salt_34 = 0.0\n",
            "salt_35 = 0.0\n",
            "salt_36 = 0.0\n",
            "salt_37 = 0.0\n",
            "salt_38 = 0.0\n",
            "salt_39 = 0.0\n",
            "salt_4 = 0.00072736994\n",
            "salt_40 = 0.0\n",
            "salt_41 = 0.0\n",
            "salt_42 = 0.0\n",
            "salt_43 = 0.0\n",
            "salt_44 = 0.0\n",
            "salt_45 = 0.0\n",
            "salt_46 = 0.0\n",
            "salt_47 = 0.0\n",
            "salt_48 = 0.0\n",
            "salt_49 = 0.0\n",
            "salt_5 = 0.00071869189\n",
            "salt_50 = 0.0\n",
            "salt_51 = 0.0\n",
            "salt_52 = 0.0\n",
            "salt_53 = 0.0\n",
            "salt_54 = 0.0\n",
            "salt_55 = 0.0\n",
            "salt_56 = 0.0\n",
            "salt_57 = 0.0\n",
            "salt_58 = 0.0\n",
            "salt_59 = 0.0\n",
            "salt_6 = 0.00071869189\n",
            "salt_60 = 0.0\n",
            "salt_61 = 0.0\n",
            "salt_62 = 0.0\n",
            "salt_63 = 0.0\n",
            "salt_64 = 0.0\n",
            "salt_65 = 0.0\n",
            "salt_66 = 0.0\n",
            "salt_67 = 0.0\n",
            "salt_68 = 0.0\n",
            "salt_69 = 0.0\n",
            "salt_7 = 0.00071869189\n",
            "salt_70 = 0.0\n",
            "salt_71 = 0.0\n",
            "salt_72 = 0.0\n",
            "salt_73 = 0.0\n",
            "salt_74 = 0.0\n",
            "salt_75 = 0.0\n",
            "salt_76 = 0.0\n",
            "salt_77 = 0.0\n",
            "salt_78 = 0.0\n",
            "salt_79 = 0.0\n",
            "salt_8 = 0.0\n",
            "salt_80 = 0.0\n",
            "salt_81 = 0.0\n",
            "salt_82 = 0.0\n",
            "salt_83 = 0.0\n",
            "salt_84 = 0.0\n",
            "salt_85 = 0.0\n",
            "salt_86 = 0.0\n",
            "salt_87 = 0.0\n",
            "salt_88 = 0.0\n",
            "salt_89 = 0.0\n",
            "salt_9 = 0.0\n",
            "salt_90 = 0.0\n",
            "salt_91 = 0.0\n",
            "salt_92 = 0.0\n",
            "salt_93 = 0.0\n",
            "salt_94 = 0.0\n",
            "salt_95 = 0.0\n",
            "salt_96 = 0.0\n",
            "salt_97 = 0.0\n",
            "saturated_fat_0 = 0.00051212275\n",
            "saturated_fat_1 = 0.00051212275\n",
            "saturated_fat_10 = 0.00050506338\n",
            "saturated_fat_11 = 0.00050506338\n",
            "saturated_fat_12 = 0.00050506338\n",
            "saturated_fat_13 = 0.0\n",
            "saturated_fat_14 = 0.0\n",
            "saturated_fat_15 = 0.0\n",
            "saturated_fat_16 = 0.0\n",
            "saturated_fat_17 = 0.0\n",
            "saturated_fat_18 = 0.0\n",
            "saturated_fat_19 = 0.0\n",
            "saturated_fat_2 = 0.00051212275\n",
            "saturated_fat_20 = 0.0\n",
            "saturated_fat_21 = 0.0\n",
            "saturated_fat_22 = 0.0\n",
            "saturated_fat_23 = 0.0\n",
            "saturated_fat_24 = 0.0\n",
            "saturated_fat_25 = 0.0\n",
            "saturated_fat_26 = 0.0\n",
            "saturated_fat_27 = 0.0\n",
            "saturated_fat_28 = 0.0\n",
            "saturated_fat_29 = 0.0\n",
            "saturated_fat_3 = 0.00051212275\n",
            "saturated_fat_30 = 0.0\n",
            "saturated_fat_31 = 0.0\n",
            "saturated_fat_32 = 0.0\n",
            "saturated_fat_33 = 0.0\n",
            "saturated_fat_34 = 0.0\n",
            "saturated_fat_35 = 0.0\n",
            "saturated_fat_36 = 0.0\n",
            "saturated_fat_37 = 0.0\n",
            "saturated_fat_38 = 0.0\n",
            "saturated_fat_39 = 0.0\n",
            "saturated_fat_4 = 0.00051147421\n",
            "saturated_fat_40 = 0.0\n",
            "saturated_fat_41 = 0.0\n",
            "saturated_fat_42 = 0.0\n",
            "saturated_fat_43 = 0.0\n",
            "saturated_fat_44 = 0.0\n",
            "saturated_fat_45 = 0.0\n",
            "saturated_fat_46 = 0.0\n",
            "saturated_fat_47 = 0.0\n",
            "saturated_fat_48 = 0.0\n",
            "saturated_fat_49 = 0.0\n",
            "saturated_fat_5 = 0.00051111582\n",
            "saturated_fat_50 = 0.0\n",
            "saturated_fat_6 = 0.00051111582\n",
            "saturated_fat_7 = 0.00051111582\n",
            "saturated_fat_8 = 0.00050958701\n",
            "saturated_fat_9 = 0.0005084564\n",
            "sigma_1020 = 0.0026753149\n",
            "sigma_1021 = 3.0477658e-05\n",
            "sigma_1031 = 0.0027869904\n",
            "sigma_1047 = 0.0017238657\n",
            "sigma_1052 = 0.0038140646\n",
            "sigma_1053 = 0.0\n",
            "sigma_1058 = 0.0028430054\n",
            "sigma_1059 = 0.0028395634\n",
            "sigma_106 = 0.00072321564\n",
            "sigma_1082 = 0.0016849255\n",
            "sigma_1101 = 0.0028521332\n",
            "sigma_1124 = 0.0028818365\n",
            "sigma_1140 = 0.0011658225\n",
            "sigma_1150 = 0.0\n",
            "sigma_1153 = 0.0032587831\n",
            "sigma_1154 = 0.003827126\n",
            "sigma_1183 = 0.0039056818\n",
            "sigma_1196 = 0.0019911791\n",
            "sigma_1221 = 0.0018336774\n",
            "sigma_124 = 0.002967941\n",
            "sigma_1249 = 0.00096466946\n",
            "sigma_1250 = 0.0004271299\n",
            "sigma_1262 = 0.00074765739\n",
            "sigma_1279 = 0.0019276342\n",
            "sigma_1283 = 0.0027912799\n",
            "sigma_1290 = 0.0037993623\n",
            "sigma_1294 = 0.0021288513\n",
            "sigma_1305 = 0.0038960609\n",
            "sigma_1334 = 0.0020479404\n",
            "sigma_1353 = 0.00073536206\n",
            "sigma_1393 = 0.0019747674\n",
            "sigma_1394 = 0.0019287512\n",
            "sigma_1414 = 0.0035042006\n",
            "sigma_1418 = 0.0040351668\n",
            "sigma_1422 = 0.0\n",
            "sigma_1426 = 0.0020755714\n",
            "sigma_1438 = 0.0029621085\n",
            "sigma_1451 = 0.0029743138\n",
            "sigma_1455 = 0.00090178755\n",
            "sigma_1458 = 0.0039077778\n",
            "sigma_1470 = 0.0038916416\n",
            "sigma_148 = 0.0\n",
            "sigma_1491 = 0.0034098552\n",
            "sigma_1494 = 0.0019398037\n",
            "sigma_1495 = 0.0014144569\n",
            "sigma_1496 = 0.0020421878\n",
            "sigma_1518 = 0.0022635035\n",
            "sigma_1539 = 0.0016615384\n",
            "sigma_1563 = 0.0030170275\n",
            "sigma_1571 = 0.0040417319\n",
            "sigma_1580 = 0.0039202442\n",
            "sigma_1585 = 0.0015437337\n",
            "sigma_1595 = 0.0034390965\n",
            "sigma_1602 = 0.00072996268\n",
            "sigma_1613 = 0.0027486652\n",
            "sigma_1617 = 0.0028992828\n",
            "sigma_1631 = 0.0040074618\n",
            "sigma_1637 = 0.00074056679\n",
            "sigma_1664 = 0.00094725953\n",
            "sigma_1671 = 0.0028199364\n",
            "sigma_1672 = 0.002877485\n",
            "sigma_1683 = 0.0025030418\n",
            "sigma_1685 = 0.0033732763\n",
            "sigma_1701 = 0.0029530706\n",
            "sigma_1712 = 0.0012850809\n",
            "sigma_1730 = 0.00093174905\n",
            "sigma_1738 = 0.0019004516\n",
            "sigma_1783 = 0.0029539102\n",
            "sigma_1786 = 0.0036584465\n",
            "sigma_180 = 0.00375957\n",
            "sigma_1803 = 0.0\n",
            "sigma_1810 = 0.0011048346\n",
            "sigma_1817 = 0.0029628969\n",
            "sigma_1822 = 0.0012990655\n",
            "sigma_1827 = 0.0019233402\n",
            "sigma_1829 = 0.0\n",
            "sigma_1840 = 0.0\n",
            "sigma_1842 = 0.00034657987\n",
            "sigma_1850 = 0.0038693557\n",
            "sigma_1851 = 0.0019201578\n",
            "sigma_1852 = 0.0030028457\n",
            "sigma_1855 = 0.003865366\n",
            "sigma_1867 = 0.0032712376\n",
            "sigma_1883 = 0.00095435004\n",
            "sigma_1884 = 0.001735168\n",
            "sigma_1889 = 0.00096178542\n",
            "sigma_1893 = 0.0\n",
            "sigma_1900 = 0.0009110722\n",
            "sigma_1919 = 0.0\n",
            "sigma_1934 = 0.002892641\n",
            "sigma_1950 = 0.002614364\n",
            "sigma_1955 = 0.0030417441\n",
            "sigma_2006 = 0.0028201149\n",
            "sigma_2008 = 0.001338807\n",
            "sigma_201 = 0.0029195278\n",
            "sigma_2048 = 0.0019316398\n",
            "sigma_2062 = 0.0025966037\n",
            "sigma_2087 = 0.00027243702\n",
            "sigma_2104 = 0.00022421262\n",
            "sigma_213 = 0.003827126\n",
            "sigma_2152 = 0.00099622655\n",
            "sigma_2201 = 0.0\n",
            "sigma_221 = 0.0011571483\n",
            "sigma_2231 = 0.0012674752\n",
            "sigma_2267 = 0.0038706506\n",
            "sigma_2272 = 0.0\n",
            "sigma_2273 = 0.0033366704\n",
            "sigma_2289 = 0.0027808989\n",
            "sigma_2292 = 0.0023814928\n",
            "sigma_2303 = 0.0036495811\n",
            "sigma_2305 = 0.0036957901\n",
            "sigma_2312 = 0.0038950216\n",
            "sigma_2322 = 0.0026983269\n",
            "sigma_2326 = 0.0028984536\n",
            "sigma_2328 = 0.002320105\n",
            "sigma_2335 = 0.0030417319\n",
            "sigma_2351 = 0.00022421262\n",
            "sigma_2352 = 0.0039202023\n",
            "sigma_2356 = 0.0034491458\n",
            "sigma_2358 = 0.0015281874\n",
            "sigma_2359 = 0.0036360902\n",
            "sigma_2369 = 0.002908484\n",
            "sigma_2375 = 0.0018948685\n",
            "sigma_2396 = 0.0028529449\n",
            "sigma_240 = 0.0\n",
            "sigma_2436 = 0.0\n",
            "sigma_2529 = 0.0012595114\n",
            "sigma_2535 = 0.0036894515\n",
            "sigma_2544 = 0.0\n",
            "sigma_2545 = 0.0018017547\n",
            "sigma_2547 = 0.002987623\n",
            "sigma_2556 = 0.0043914123\n",
            "sigma_257 = 0.0022279342\n",
            "sigma_2592 = 0.0039673055\n",
            "sigma_2616 = 0.0014144569\n",
            "sigma_263 = 0.0023448499\n",
            "sigma_2636 = 0.00076494967\n",
            "sigma_264 = 0.0017449975\n",
            "sigma_2649 = 0.0028729567\n",
            "sigma_2651 = 0.00033889571\n",
            "sigma_2667 = 0.0038498031\n",
            "sigma_2680 = 0.0018603252\n",
            "sigma_2684 = 0.0022094472\n",
            "sigma_2685 = 0.0012976407\n",
            "sigma_2691 = 0.0040070392\n",
            "sigma_2704 = 0.003802719\n",
            "sigma_2719 = 0.00099133653\n",
            "sigma_272 = 0.0017430195\n",
            "sigma_2763 = 0.0037109455\n",
            "sigma_2773 = 0.0029250417\n",
            "sigma_2774 = 0.0029084766\n",
            "sigma_281 = 0.0018493412\n",
            "sigma_2823 = 0.0018605352\n",
            "sigma_2825 = 0.0017077547\n",
            "sigma_2829 = 0.0039732875\n",
            "sigma_2832 = 0.0\n",
            "sigma_2851 = 0.0\n",
            "sigma_2857 = 0.0\n",
            "sigma_2868 = 0.0\n",
            "sigma_287 = 0.00095784071\n",
            "sigma_2877 = 0.0034307803\n",
            "sigma_2882 = 0.0\n",
            "sigma_2889 = 0.0\n",
            "sigma_29 = 0.0\n",
            "sigma_290 = 0.0021636519\n",
            "sigma_2923 = 0.0033086038\n",
            "sigma_2925 = 0.00030449853\n",
            "sigma_2931 = 0.003948933\n",
            "sigma_2939 = 0.0019201578\n",
            "sigma_294 = 0.0019312589\n",
            "sigma_296 = 0.00086970802\n",
            "sigma_301 = 0.0012785178\n",
            "sigma_313 = 0.0\n",
            "sigma_32 = 0.0028984472\n",
            "sigma_3209 = 4.7371539e-05\n",
            "sigma_3217 = 0.0034940166\n",
            "sigma_3219 = 0.0024396482\n",
            "sigma_3239 = 0.00078495219\n",
            "sigma_3278 = 0.0024498751\n",
            "sigma_3280 = 0.0\n",
            "sigma_3318 = 0.0\n",
            "sigma_3351 = 0.0015503568\n",
            "sigma_3353 = 0.0010353866\n",
            "sigma_336 = 0.0036957901\n",
            "sigma_3361 = 0.0020518107\n",
            "sigma_3363 = 0.0028986083\n",
            "sigma_3369 = 0.00070761045\n",
            "sigma_3436 = 0.0026528977\n",
            "sigma_3491 = 0.0038694915\n",
            "sigma_3498 = 0.0039075847\n",
            "sigma_3524 = 0.0010432803\n",
            "sigma_3532 = 0.001926101\n",
            "sigma_3534 = 0.0033576069\n",
            "sigma_3544 = 0.0\n",
            "sigma_3567 = 0.0040203626\n",
            "sigma_3571 = 0.0028201149\n",
            "sigma_3577 = 0.0019592828\n",
            "sigma_3578 = 0.0036810841\n",
            "sigma_3594 = 0.003614364\n",
            "sigma_3601 = 0.00075807125\n",
            "sigma_3614 = 0.0028412888\n",
            "sigma_3615 = 0.0018176181\n",
            "sigma_3628 = 0.0028584415\n",
            "sigma_3635 = 0.00084637815\n",
            "sigma_3648 = 0.0016890224\n",
            "sigma_3661 = 0.0018610442\n",
            "sigma_3721 = 0.0035815329\n",
            "sigma_3756 = 0.00026214841\n",
            "sigma_3760 = 0.0038641233\n",
            "sigma_3761 = 0.0020006157\n",
            "sigma_3769 = 0.0018393846\n",
            "sigma_3775 = 0.0010025713\n",
            "sigma_3791 = 0.0032004926\n",
            "sigma_3795 = 0.0015360181\n",
            "sigma_3796 = 0.002019528\n",
            "sigma_381 = 0.0\n",
            "sigma_3812 = 0.00092542415\n",
            "sigma_3821 = 0.003116394\n",
            "sigma_383 = 0.0039476099\n",
            "sigma_3833 = 0.0028570642\n",
            "sigma_3843 = 0.0037940835\n",
            "sigma_3846 = 0.0\n",
            "sigma_3850 = 0.0017669298\n",
            "sigma_3854 = 0.0\n",
            "sigma_3856 = 0.0024942872\n",
            "sigma_3858 = 0.00066453499\n",
            "sigma_3859 = 0.00097470307\n",
            "sigma_3873 = 0.0\n",
            "sigma_3880 = 0.00092406205\n",
            "sigma_3890 = 0.0\n",
            "sigma_3915 = 0.0027127499\n",
            "sigma_3922 = 0.0019346707\n",
            "sigma_3946 = 0.0039513737\n",
            "sigma_395 = 0.002318933\n",
            "sigma_3965 = 0.0\n",
            "sigma_3985 = 0.0044001303\n",
            "sigma_4000 = 0.0038675035\n",
            "sigma_4006 = 0.0019334918\n",
            "sigma_4013 = 0.0\n",
            "sigma_4025 = 0.0015895204\n",
            "sigma_4039 = 0.0\n",
            "sigma_4071 = 0.00069021679\n",
            "sigma_4078 = 0.0023885121\n",
            "sigma_4100 = 0.0017412232\n",
            "sigma_4111 = 0.0028784531\n",
            "sigma_4117 = 0.0010851217\n",
            "sigma_4119 = 0.0028565847\n",
            "sigma_4120 = 0.0\n",
            "sigma_4128 = 0.001007437\n",
            "sigma_4132 = 0.0\n",
            "sigma_4140 = 0.0019146167\n",
            "sigma_4148 = 0.0022372553\n",
            "sigma_4155 = 0.0033718217\n",
            "sigma_4163 = 0.0\n",
            "sigma_417 = 0.0020302302\n",
            "sigma_4170 = 0.0027371882\n",
            "sigma_4175 = 0.0\n",
            "sigma_4179 = 0.0\n",
            "sigma_4183 = 0.00295071\n",
            "sigma_4185 = 0.0\n",
            "sigma_4186 = 0.003575004\n",
            "sigma_4192 = 0.0026411627\n",
            "sigma_4199 = 0.0035815329\n",
            "sigma_420 = 0.0026781478\n",
            "sigma_4200 = 0.0020305792\n",
            "sigma_4205 = 0.0\n",
            "sigma_4216 = 0.001895735\n",
            "sigma_4219 = 0.0\n",
            "sigma_422 = 0.0026128382\n",
            "sigma_4220 = 0.0\n",
            "sigma_4224 = 0.001865366\n",
            "sigma_4231 = 0.0022567202\n",
            "sigma_4275 = 0.0019469706\n",
            "sigma_4307 = 0.0017225049\n",
            "sigma_432 = 0.0019135785\n",
            "sigma_4426 = 0.0028881895\n",
            "sigma_4436 = 0.0028786034\n",
            "sigma_4438 = 0.0017569926\n",
            "sigma_4442 = 0.0030417319\n",
            "sigma_4471 = 0.0004160897\n",
            "sigma_4482 = 0.0010699214\n",
            "sigma_4499 = 0.0018659695\n",
            "sigma_4518 = 0.0016603696\n",
            "sigma_4521 = 0.00081575203\n",
            "sigma_4537 = 0.0012717404\n",
            "sigma_4538 = 0.0012428212\n",
            "sigma_4541 = 0.001862207\n",
            "sigma_4553 = 0.0\n",
            "sigma_4559 = 0.0004992587\n",
            "sigma_4564 = 0.0012551216\n",
            "sigma_457 = 0.0026663725\n",
            "sigma_4585 = 0.0027315182\n",
            "sigma_4589 = 0.0003139641\n",
            "sigma_4590 = 0.0\n",
            "sigma_4664 = 0.0019959783\n",
            "sigma_4667 = 0.00066453499\n",
            "sigma_4669 = 0.0038720682\n",
            "sigma_4678 = 0.0019387576\n",
            "sigma_4681 = 0.0036243435\n",
            "sigma_4683 = 0.0024164327\n",
            "sigma_4688 = 0.0012051992\n",
            "sigma_469 = 0.0\n",
            "sigma_4693 = 0.0030170399\n",
            "sigma_4694 = 0.001653943\n",
            "sigma_4695 = 0.0026207426\n",
            "sigma_4734 = 0.0028464725\n",
            "sigma_4735 = 0.0038347517\n",
            "sigma_4750 = 0.0019039423\n",
            "sigma_4763 = 0.0\n",
            "sigma_4773 = 0.0\n",
            "sigma_4777 = 0.0039355692\n",
            "sigma_4781 = 0.0019325311\n",
            "sigma_4783 = 5.5250473e-05\n",
            "sigma_4797 = 0.0029233929\n",
            "sigma_4809 = 0.0\n",
            "sigma_4817 = 0.0030074308\n",
            "sigma_4821 = 0.00076958153\n",
            "sigma_4823 = 0.0027648676\n",
            "sigma_4830 = 0.0\n",
            "sigma_4852 = 0.002886924\n",
            "sigma_4855 = 0.0031993356\n",
            "sigma_4857 = 8.5903943e-06\n",
            "sigma_4862 = 0.00084693508\n",
            "sigma_4886 = 0.0026805733\n",
            "sigma_4898 = 0.0038900194\n",
            "sigma_4899 = 0.0038484211\n",
            "sigma_4908 = 0.0010271938\n",
            "sigma_4909 = 0.0034695435\n",
            "sigma_4930 = 0.00098841759\n",
            "sigma_4937 = 0.0011958663\n",
            "sigma_4981 = 0.0039196365\n",
            "sigma_4985 = 0.0034349617\n",
            "sigma_4986 = 0.00028098886\n",
            "sigma_4996 = 0.0\n",
            "sigma_50 = 1.1163308e-07\n",
            "sigma_5011 = 0.0029925364\n",
            "sigma_504 = 0.00098388112\n",
            "sigma_5097 = 0.0013739093\n",
            "sigma_511 = 0.0\n",
            "sigma_5127 = 0.00072321564\n",
            "sigma_5139 = 0.0\n",
            "sigma_5148 = 0.0\n",
            "sigma_5153 = 0.00097806534\n",
            "sigma_5155 = 0.0020253468\n",
            "sigma_5161 = 0.0038901661\n",
            "sigma_5165 = 0.000100386\n",
            "sigma_5171 = 0.0033722752\n",
            "sigma_5172 = 0.0029851079\n",
            "sigma_5177 = 0.0011481884\n",
            "sigma_5209 = 0.0\n",
            "sigma_5211 = 0.00092375569\n",
            "sigma_5216 = 0.00028163085\n",
            "sigma_5220 = 0.0\n",
            "sigma_5222 = 0.0028859988\n",
            "sigma_5228 = 0.0039372444\n",
            "sigma_5230 = 0.0\n",
            "sigma_5238 = 0.0036894515\n",
            "sigma_5247 = 0.0027194601\n",
            "sigma_5248 = 0.0027216773\n",
            "sigma_525 = 0.001935911\n",
            "sigma_5250 = 0.0026927402\n",
            "sigma_526 = 0.0038929372\n",
            "sigma_5266 = 0.00010985594\n",
            "sigma_5295 = 0.0\n",
            "sigma_5309 = 0.0030014661\n",
            "sigma_5318 = 0.00037864257\n",
            "sigma_5335 = 0.0017430195\n",
            "sigma_5346 = 0.0017736254\n",
            "sigma_5356 = 0.00076583166\n",
            "sigma_546 = 0.0036854916\n",
            "sigma_5462 = 0.0022819648\n",
            "sigma_5492 = 0.0\n",
            "sigma_55 = 0.0018888705\n",
            "sigma_5512 = 0.0008435551\n",
            "sigma_5514 = 0.0\n",
            "sigma_5515 = 0.0027730388\n",
            "sigma_5517 = 0.0019957311\n",
            "sigma_5544 = 0.0\n",
            "sigma_5586 = 0.001244524\n",
            "sigma_5619 = 0.0037909427\n",
            "sigma_5630 = 0.0040049503\n",
            "sigma_5666 = 0.0028576426\n",
            "sigma_5674 = 0.00035016735\n",
            "sigma_5718 = 0.003945191\n",
            "sigma_5722 = 0.0020831524\n",
            "sigma_5736 = 0.003784012\n",
            "sigma_5771 = 0.0\n",
            "sigma_5772 = 0.0028298595\n",
            "sigma_5803 = 0.0019956735\n",
            "sigma_5847 = 0.0028958471\n",
            "sigma_5850 = 0.00159669\n",
            "sigma_5869 = 0.0\n",
            "sigma_5872 = 0.0034548487\n",
            "sigma_5882 = 0.0016159281\n",
            "sigma_5917 = 0.0012619117\n",
            "sigma_5918 = 0.0\n",
            "sigma_5929 = 0.0\n",
            "sigma_5933 = 0.0029288333\n",
            "sigma_5936 = 0.0\n",
            "sigma_5947 = 0.0030295548\n",
            "sigma_5951 = 0.00081939962\n",
            "sigma_5958 = 0.00018275997\n",
            "sigma_5962 = 0.00069003255\n",
            "sigma_5973 = 0.0018987943\n",
            "sigma_5985 = 0.0010645524\n",
            "sigma_5993 = 0.0027141622\n",
            "sigma_5998 = 0.0010645524\n",
            "sigma_6004 = 0.0\n",
            "sigma_6007 = 0.0039422065\n",
            "sigma_6009 = 0.0\n",
            "sigma_6010 = 0.0\n",
            "sigma_6015 = 0.0019317291\n",
            "sigma_6026 = 0.0026995865\n",
            "sigma_6041 = 0.0037884691\n",
            "sigma_6050 = 0.0\n",
            "sigma_6055 = 0.00069732047\n",
            "sigma_6067 = 1.2796327e-05\n",
            "sigma_6071 = 0.0029037527\n",
            "sigma_6072 = 0.0038518456\n",
            "sigma_6075 = 0.0020207965\n",
            "sigma_6076 = 0.0040099865\n",
            "sigma_6082 = 0.0010424114\n",
            "sigma_6084 = 0.0027023782\n",
            "sigma_6087 = 0.0024580202\n",
            "sigma_6095 = 0.0015403145\n",
            "sigma_6097 = 0.00029753323\n",
            "sigma_6104 = 0.00076972735\n",
            "sigma_6112 = 0.0007348185\n",
            "sigma_6128 = 0.0\n",
            "sigma_6140 = 0.0031993356\n",
            "sigma_6142 = 0.001864306\n",
            "sigma_6155 = 0.0038922744\n",
            "sigma_6160 = 0.00080623263\n",
            "sigma_6161 = 0.0038926252\n",
            "sigma_6172 = 0.0018968398\n",
            "sigma_6220 = 0.0035815329\n",
            "sigma_6234 = 0.0026681223\n",
            "sigma_6240 = 0.0\n",
            "sigma_6248 = 0.0017479457\n",
            "sigma_6259 = 0.001318407\n",
            "sigma_6267 = 0.0\n",
            "sigma_6274 = 0.008882377\n",
            "sigma_6277 = 0.0028984536\n",
            "sigma_6282 = 0.0039063136\n",
            "sigma_6287 = 0.0038926252\n",
            "sigma_6289 = 0.0038926252\n",
            "sigma_6314 = 0.0\n",
            "sigma_6345 = 0.00030162708\n",
            "sigma_6349 = 0.0012992538\n",
            "sigma_635 = 0.0038649912\n",
            "sigma_6352 = 0.0010868094\n",
            "sigma_6356 = 0.002790947\n",
            "sigma_637 = 0.0029675897\n",
            "sigma_6376 = 0.00074641933\n",
            "sigma_6377 = 0.0024027241\n",
            "sigma_6380 = 0.0011993652\n",
            "sigma_6393 = 0.003868461\n",
            "sigma_64 = 0.0016894515\n",
            "sigma_6404 = 0.0010980281\n",
            "sigma_6406 = 0.0011884366\n",
            "sigma_6418 = 0.0015995125\n",
            "sigma_6426 = 0.0010456532\n",
            "sigma_6427 = 0.0015995125\n",
            "sigma_6438 = 0.0026128382\n",
            "sigma_6440 = 0.0008399591\n",
            "sigma_6442 = 0.0017318926\n",
            "sigma_6468 = 0.0\n",
            "sigma_6472 = 0.0033350781\n",
            "sigma_6487 = 0.0\n",
            "sigma_6489 = 0.0027961831\n",
            "sigma_6491 = 0.0019298551\n",
            "sigma_6514 = 0.00076080838\n",
            "sigma_6520 = 0.0\n",
            "sigma_6521 = 0.002145283\n",
            "sigma_6538 = 0.0030417876\n",
            "sigma_6542 = 0.00090540916\n",
            "sigma_6543 = 0.002862131\n",
            "sigma_6552 = 0.001336349\n",
            "sigma_6556 = 0.0\n",
            "sigma_6558 = 0.0030003222\n",
            "sigma_6559 = 0.003923323\n",
            "sigma_6569 = 0.0029580451\n",
            "sigma_6570 = 0.0039813016\n",
            "sigma_6593 = 0.0020312185\n",
            "sigma_6604 = 0.0020421712\n",
            "sigma_6622 = 0.003821676\n",
            "sigma_6624 = 0.0008892936\n",
            "sigma_6626 = 0.00093400751\n",
            "sigma_6630 = 0.0010039789\n",
            "sigma_6645 = 0.0\n",
            "sigma_6673 = 0.0022567202\n",
            "sigma_6693 = 0.003450205\n",
            "sigma_6696 = 0.0030778322\n",
            "sigma_6699 = 0.00389621\n",
            "sigma_6701 = 0.0\n",
            "sigma_6703 = 0.0017493816\n",
            "sigma_6708 = 0.002577746\n",
            "sigma_6714 = 0.0029523194\n",
            "sigma_6719 = 0.0029158054\n",
            "sigma_6725 = 0.0\n",
            "sigma_6731 = 0.0\n",
            "sigma_6735 = 0.0019400256\n",
            "sigma_6738 = 0.0034439769\n",
            "sigma_6746 = 0.0019992303\n",
            "sigma_6747 = 0.0038428665\n",
            "sigma_6753 = 0.0016747924\n",
            "sigma_6772 = 0.0\n",
            "sigma_6778 = 0.0\n",
            "sigma_6790 = 0.0\n",
            "sigma_6800 = 0.0035817867\n",
            "sigma_6805 = 0.0012458465\n",
            "sigma_6822 = 0.000315966\n",
            "sigma_6838 = 0.002248622\n",
            "sigma_6863 = 0.0014573309\n",
            "sigma_6875 = 0.0018461424\n",
            "sigma_6881 = 0.0039935713\n",
            "sigma_6892 = 0.0\n",
            "sigma_6903 = 0.0038713248\n",
            "sigma_6916 = 0.0\n",
            "sigma_6917 = 0.003006516\n",
            "sigma_6920 = 0.0\n",
            "sigma_6924 = 0.0\n",
            "sigma_6927 = 0.0\n",
            "sigma_6930 = 0.0030417876\n",
            "sigma_6939 = 0.0019012176\n",
            "sigma_6942 = 0.0019468787\n",
            "sigma_6944 = 0.0018525127\n",
            "sigma_6977 = 0.0028242227\n",
            "sigma_6979 = 0.0019148869\n",
            "sigma_6981 = 0.001121972\n",
            "sigma_6985 = 0.0\n",
            "sigma_6986 = 0.0029209894\n",
            "sigma_6993 = 0.00097410063\n",
            "sigma_6997 = 0.0039132248\n",
            "sigma_6998 = 0.0039515832\n",
            "sigma_7016 = 0.0016568169\n",
            "sigma_7046 = 0.0009110722\n",
            "sigma_7049 = 0.00320086\n",
            "sigma_7056 = 0.001949945\n",
            "sigma_7071 = 0.0037507067\n",
            "sigma_7076 = 0.0\n",
            "sigma_7078 = 0.0036469749\n",
            "sigma_7100 = 0.0\n",
            "sigma_7113 = 0.0030014661\n",
            "sigma_7117 = 0.00077260922\n",
            "sigma_7151 = 0.0\n",
            "sigma_7289 = 0.0\n",
            "sigma_7298 = 0.0004876026\n",
            "sigma_7315 = 0.0039333371\n",
            "sigma_7324 = 0.0\n",
            "sigma_7340 = 0.0019893908\n",
            "sigma_7364 = 0.00014649126\n",
            "sigma_7375 = 0.0\n",
            "sigma_7383 = 0.0\n",
            "sigma_739 = 0.0018819465\n",
            "sigma_7424 = 0.0040049503\n",
            "sigma_7434 = 0.0\n",
            "sigma_7446 = 0.00076443633\n",
            "sigma_7447 = 0.0018709424\n",
            "sigma_7496 = 0.00088079476\n",
            "sigma_7518 = 0.0030424972\n",
            "sigma_7523 = 0.0012619286\n",
            "sigma_753 = 0.0030437862\n",
            "sigma_7539 = 0.0\n",
            "sigma_7552 = 0.0012428212\n",
            "sigma_7553 = 0.0018559743\n",
            "sigma_7567 = 0.0\n",
            "sigma_7585 = 0.0\n",
            "sigma_7586 = 0.0039423041\n",
            "sigma_7591 = 0.0\n",
            "sigma_763 = 0.0024061034\n",
            "sigma_7633 = 0.0019899189\n",
            "sigma_7648 = 0.001990288\n",
            "sigma_767 = 0.0\n",
            "sigma_7685 = 0.0\n",
            "sigma_7687 = 0.0015626649\n",
            "sigma_7704 = 0.0\n",
            "sigma_7713 = 0.00094768042\n",
            "sigma_772 = 0.0035350176\n",
            "sigma_7769 = 0.0029244183\n",
            "sigma_777 = 0.0\n",
            "sigma_7806 = 0.003023081\n",
            "sigma_781 = 0.00094807551\n",
            "sigma_7819 = 0.0\n",
            "sigma_7836 = 0.0017085065\n",
            "sigma_7842 = 0.0026752372\n",
            "sigma_7846 = 0.0020629453\n",
            "sigma_7851 = 0.0028939704\n",
            "sigma_7859 = 0.0019797565\n",
            "sigma_787 = 0.0028030795\n",
            "sigma_7874 = 0.0029373698\n",
            "sigma_7875 = 0.0\n",
            "sigma_788 = 0.00077945322\n",
            "sigma_7902 = 0.0\n",
            "sigma_792 = 0.002987678\n",
            "sigma_7925 = 0.0032729839\n",
            "sigma_7965 = 0.0036894515\n",
            "sigma_797 = 0.0010250172\n",
            "sigma_7970 = 0.0\n",
            "sigma_798 = 0.0030028457\n",
            "sigma_8004 = 0.0040632679\n",
            "sigma_8043 = 0.0015163612\n",
            "sigma_8073 = 0.0036417985\n",
            "sigma_8088 = 0.0018485028\n",
            "sigma_811 = 0.0038141208\n",
            "sigma_8112 = 0.0012996488\n",
            "sigma_8162 = 0.0029199916\n",
            "sigma_8178 = 0.0019874519\n",
            "sigma_8183 = 0.0\n",
            "sigma_8192 = 0.0\n",
            "sigma_820 = 0.0030298944\n",
            "sigma_8234 = 0.00087306794\n",
            "sigma_8274 = 0.00022554583\n",
            "sigma_8314 = 0.00082202174\n",
            "sigma_8334 = 0.0\n",
            "sigma_8347 = 0.0028730914\n",
            "sigma_835 = 0.0\n",
            "sigma_8355 = 0.0026736248\n",
            "sigma_8362 = 0.0\n",
            "sigma_8374 = 0.0\n",
            "sigma_838 = 0.0018818327\n",
            "sigma_8383 = 0.0020495592\n",
            "sigma_8387 = 0.0\n",
            "sigma_8395 = 0.0018889181\n",
            "sigma_840 = 0.00094836169\n",
            "sigma_8465 = 0.00076933519\n",
            "sigma_8475 = 0.002248622\n",
            "sigma_8483 = 0.00294148\n",
            "sigma_8486 = 0.00098848128\n",
            "sigma_8499 = 0.0008683275\n",
            "sigma_8513 = 0.0038628346\n",
            "sigma_8518 = 0.0022210194\n",
            "sigma_8519 = 0.0026848087\n",
            "sigma_8521 = 0.00012610642\n",
            "sigma_8552 = 0.00096437531\n",
            "sigma_8553 = 0.0031645124\n",
            "sigma_8609 = 0.0022012764\n",
            "sigma_8612 = 0.0029113037\n",
            "sigma_8627 = 0.0\n",
            "sigma_8631 = 0.00096382597\n",
            "sigma_8641 = 0.0015215029\n",
            "sigma_8650 = 0.0030074308\n",
            "sigma_8654 = 0.0031213796\n",
            "sigma_8670 = 0.003041741\n",
            "sigma_8675 = 0.0033667484\n",
            "sigma_8678 = 0.0\n",
            "sigma_8682 = 0.0025082106\n",
            "sigma_8684 = 0.0010424673\n",
            "sigma_8689 = 0.0019562302\n",
            "sigma_869 = 0.0030432907\n",
            "sigma_8695 = 0.0\n",
            "sigma_8717 = 0.00083598288\n",
            "sigma_8722 = 0.0019562302\n",
            "sigma_8723 = 0.002240544\n",
            "sigma_8724 = 0.00070084784\n",
            "sigma_8727 = 0.00094235919\n",
            "sigma_8730 = 0.0\n",
            "sigma_8738 = 0.0\n",
            "sigma_8750 = 0.0038979668\n",
            "sigma_8762 = 0.0\n",
            "sigma_8768 = 0.0019223577\n",
            "sigma_8774 = 0.0028994982\n",
            "sigma_8784 = 0.0013603809\n",
            "sigma_8786 = 0.002846511\n",
            "sigma_879 = 0.0032711553\n",
            "sigma_8792 = 0.0038251043\n",
            "sigma_8799 = 0.0\n",
            "sigma_8812 = 0.0028939704\n",
            "sigma_8828 = 0.001868341\n",
            "sigma_8829 = 0.0019187193\n",
            "sigma_8835 = 0.0013431169\n",
            "sigma_8836 = 0.0030423431\n",
            "sigma_8846 = 0.00088249028\n",
            "sigma_8851 = 0.0024712121\n",
            "sigma_8874 = 0.0038105838\n",
            "sigma_8879 = 0.0040294539\n",
            "sigma_8891 = 0.0041360368\n",
            "sigma_8894 = 0.0018940878\n",
            "sigma_8904 = 0.0038049373\n",
            "sigma_8905 = 0.003828625\n",
            "sigma_8931 = 0.0028386614\n",
            "sigma_8946 = 0.001683119\n",
            "sigma_8973 = 0.0\n",
            "sigma_8978 = 0.0\n",
            "sigma_9007 = 0.0\n",
            "sigma_9009 = 0.0019796554\n",
            "sigma_9016 = 0.0018801237\n",
            "sigma_9031 = 0.0011243903\n",
            "sigma_9037 = 0.0\n",
            "sigma_9038 = 0.0\n",
            "sigma_9042 = 0.0012717404\n",
            "sigma_9047 = 0.0011072062\n",
            "sigma_9053 = 0.00320086\n",
            "sigma_9062 = 0.0028908268\n",
            "sigma_9073 = 0.011505033\n",
            "sigma_9079 = 0.0005910002\n",
            "sigma_909 = 0.0039607346\n",
            "sigma_9096 = 0.0\n",
            "sigma_9097 = 0.0\n",
            "sigma_910 = 0.0027770348\n",
            "sigma_9108 = 0.0012953209\n",
            "sigma_9124 = 0.0034123786\n",
            "sigma_9128 = 0.0030183448\n",
            "sigma_913 = 0.0029925364\n",
            "sigma_9136 = 0.0\n",
            "sigma_9139 = 0.0018559743\n",
            "sigma_914 = 0.0024411148\n",
            "sigma_9148 = 0.001031713\n",
            "sigma_9150 = 0.0\n",
            "sigma_9152 = 0.0020133141\n",
            "sigma_9155 = 0.0017616357\n",
            "sigma_916 = 0.00043346635\n",
            "sigma_9164 = 0.001688922\n",
            "sigma_9180 = 0.0019618541\n",
            "sigma_9184 = 0.0029774503\n",
            "sigma_9186 = 0.0029011436\n",
            "sigma_9206 = 0.0027257829\n",
            "sigma_9208 = 0.0010222301\n",
            "sigma_9218 = 0.0034689521\n",
            "sigma_9229 = 0.0022008888\n",
            "sigma_9234 = 0.0\n",
            "sigma_9237 = 0.0\n",
            "sigma_9249 = 0.0\n",
            "sigma_9273 = 0.0029688464\n",
            "sigma_9275 = 0.00073872845\n",
            "sigma_9288 = 0.0027613817\n",
            "sigma_929 = 0.00097000347\n",
            "sigma_9293 = 0.0\n",
            "sigma_9299 = 0.0020417379\n",
            "sigma_9303 = 0.0\n",
            "sigma_9308 = 0.0010912098\n",
            "sigma_9313 = 0.0\n",
            "sigma_9326 = 0.0032294118\n",
            "sigma_9330 = 0.0\n",
            "sigma_9341 = 0.0014881646\n",
            "sigma_9347 = 0.0018489149\n",
            "sigma_935 = 0.0\n",
            "sigma_9355 = 0.00194371\n",
            "sigma_9356 = 0.00074390449\n",
            "sigma_9364 = 0.003827126\n",
            "sigma_9377 = 0.0027211007\n",
            "sigma_9382 = 0.0012976823\n",
            "sigma_9383 = 0.0\n",
            "sigma_9393 = 0.0\n",
            "sigma_9396 = 0.0020323372\n",
            "sigma_9411 = 0.0013008778\n",
            "sigma_9436 = 0.0\n",
            "sigma_9440 = 0.0013434555\n",
            "sigma_9452 = 0.0\n",
            "sigma_9461 = 0.003827126\n",
            "sigma_9473 = 0.0027682373\n",
            "sigma_9476 = 6.6446885e-05\n",
            "sigma_9477 = 0.0\n",
            "sigma_9481 = 0.0\n",
            "sigma_9487 = 0.00084223303\n",
            "sigma_9492 = 0.0019732203\n",
            "sigma_9500 = 0.0019472307\n",
            "sigma_9502 = 0.00074301955\n",
            "sigma_9512 = 0.001008427\n",
            "sigma_9519 = 0.0\n",
            "sigma_9533 = 0.0\n",
            "sigma_9537 = 0.0022144081\n",
            "sigma_9555 = 0.0024599908\n",
            "sigma_9556 = 0.0026029437\n",
            "sigma_9571 = 0.0039227644\n",
            "sigma_9573 = 0.0013826752\n",
            "sigma_9593 = 0.0\n",
            "sigma_9594 = 0.0028707378\n",
            "sigma_9598 = 0.0037507067\n",
            "sigma_9600 = 0.0017625501\n",
            "sigma_9601 = 0.003827126\n",
            "sigma_9603 = 0.003827126\n",
            "sigma_9610 = 0.0032294118\n",
            "sigma_9614 = 0.0022294118\n",
            "sigma_9615 = 0.003791404\n",
            "sigma_9616 = 0.0038254897\n",
            "sigma_9621 = 0.003827126\n",
            "sigma_9626 = 0.0028555201\n",
            "sigma_9629 = 0.0010462968\n",
            "sigma_9644 = 0.0030600243\n",
            "sigma_9649 = 0.0\n",
            "sigma_9651 = 0.0\n",
            "sigma_9652 = 0.0\n",
            "sigma_9653 = 0.0012428212\n",
            "sigma_9657 = 0.0036621304\n",
            "sigma_9659 = 0.0010052672\n",
            "sigma_9662 = 0.0\n",
            "sigma_9665 = 0.0\n",
            "sigma_9670 = 0.00091750297\n",
            "sigma_9676 = 0.0012428212\n",
            "sigma_9687 = 0.0\n",
            "sigma_9691 = 0.0\n",
            "sigma_9698 = 0.0027975729\n",
            "sigma_984 = 0.0032416743\n",
            "sigma_985 = 0.0031716302\n",
            "sigma_988 = 0.0021348975\n",
            "sigma_996 = 0.0011963195\n",
            "sigma_998 = 0.00034657987\n",
            "sigma_999 = 0.0014644831\n",
            "sugars_0 = 0.0010865083\n",
            "sugars_1 = 0.0010865083\n",
            "sugars_10 = 0.0010651556\n",
            "sugars_11 = 0.00082378293\n",
            "sugars_12 = 0.00082378293\n",
            "sugars_13 = 0.00082378293\n",
            "sugars_14 = 0.00082378293\n",
            "sugars_15 = 0.00082378293\n",
            "sugars_16 = 0.0\n",
            "sugars_17 = 0.0\n",
            "sugars_18 = 0.0\n",
            "sugars_19 = 0.0\n",
            "sugars_2 = 0.0010865083\n",
            "sugars_20 = 0.0\n",
            "sugars_21 = 0.0\n",
            "sugars_22 = 0.0\n",
            "sugars_23 = 0.0\n",
            "sugars_24 = 0.0\n",
            "sugars_25 = 0.0\n",
            "sugars_3 = 0.0010852608\n",
            "sugars_4 = 0.0010852608\n",
            "sugars_5 = 0.0010811978\n",
            "sugars_6 = 0.0010769128\n",
            "sugars_7 = 0.0010686676\n",
            "sugars_8 = 0.0010651556\n",
            "sugars_9 = 0.0010651556\n"
          ],
          "name": "stdout"
        }
      ]
    },
    {
      "cell_type": "markdown",
      "metadata": {
        "colab_type": "text",
        "id": "JxMqHmmEXqvj"
      },
      "source": [
        "# Plotting Utility functions"
      ]
    },
    {
      "cell_type": "code",
      "metadata": {
        "colab_type": "code",
        "outputId": "f5d65559-a3f2-42c0-8c3f-21561f96e4c1",
        "id": "-wxe7ntnXqvb",
        "colab": {
          "base_uri": "https://localhost:8080/",
          "height": 537
        }
      },
      "source": [
        "plt.rcParams[\"figure.figsize\"] = [12,9]\n",
        "plt.plot([e.value() for e in utility_thresh['energy']])\n",
        "plt.savefig('thresh_energy.jpg')"
      ],
      "execution_count": 287,
      "outputs": [
        {
          "output_type": "display_data",
          "data": {
            "image/png": "[encoded data removed]",
            "text/plain": [
              "<Figure size 864x648 with 1 Axes>"
            ]
          },
          "metadata": {
            "tags": []
          }
        }
      ]
    },
    {
      "cell_type": "code",
      "metadata": {
        "colab_type": "code",
        "outputId": "77e4d1e2-0396-405e-894a-f43e4e193b59",
        "id": "7GMgpWLzXqvQ",
        "colab": {
          "base_uri": "https://localhost:8080/",
          "height": 537
        }
      },
      "source": [
        "plt.rcParams[\"figure.figsize\"] = [12,9]\n",
        "plt.plot([sf.value() for sf in utility_thresh['saturated_fat']])\n",
        "plt.savefig('thresh_saturated_fat.jpg')"
      ],
      "execution_count": 288,
      "outputs": [
        {
          "output_type": "display_data",
          "data": {
            "image/png": "[encoded data removed]",
            "text/plain": [
              "<Figure size 864x648 with 1 Axes>"
            ]
          },
          "metadata": {
            "tags": []
          }
        }
      ]
    },
    {
      "cell_type": "code",
      "metadata": {
        "colab_type": "code",
        "outputId": "5ad40bfd-3b5d-4328-f0ad-f7269adf60f1",
        "id": "ZyFuLCt_XqvC",
        "colab": {
          "base_uri": "https://localhost:8080/",
          "height": 537
        }
      },
      "source": [
        "plt.rcParams[\"figure.figsize\"] = [12,9]\n",
        "plt.plot([s.value() for s in utility_thresh['salt']])\n",
        "plt.savefig('thresh_salt.jpg')"
      ],
      "execution_count": 289,
      "outputs": [
        {
          "output_type": "display_data",
          "data": {
            "image/png": "[encoded data removed]",
            "text/plain": [
              "<Figure size 864x648 with 1 Axes>"
            ]
          },
          "metadata": {
            "tags": []
          }
        }
      ]
    },
    {
      "cell_type": "code",
      "metadata": {
        "colab_type": "code",
        "outputId": "06f1a9de-db08-4731-98bb-f3363f8350a3",
        "id": "d98ICC8vXqu0",
        "colab": {
          "base_uri": "https://localhost:8080/",
          "height": 537
        }
      },
      "source": [
        "plt.rcParams[\"figure.figsize\"] = [12,9]\n",
        "plt.plot([su.value() for su in utility_thresh['sugars']])\n",
        "plt.savefig('thresh_sugars.jpg')"
      ],
      "execution_count": 290,
      "outputs": [
        {
          "output_type": "display_data",
          "data": {
            "image/png": "[encoded data removed]",
            "text/plain": [
              "<Figure size 864x648 with 1 Axes>"
            ]
          },
          "metadata": {
            "tags": []
          }
        }
      ]
    },
    {
      "cell_type": "code",
      "metadata": {
        "colab_type": "code",
        "outputId": "99e6d178-806a-4a98-f6db-3a36fb8ace01",
        "id": "uX1dKq5oXqud",
        "colab": {
          "base_uri": "https://localhost:8080/",
          "height": 537
        }
      },
      "source": [
        "plt.rcParams[\"figure.figsize\"] = [12,9]\n",
        "plt.plot([f.value() for f in utility_thresh['fiber']])\n",
        "plt.savefig('thresh_fiber.jpg')"
      ],
      "execution_count": 291,
      "outputs": [
        {
          "output_type": "display_data",
          "data": {
            "image/png": "[encoded data removed]",
            "text/plain": [
              "<Figure size 864x648 with 1 Axes>"
            ]
          },
          "metadata": {
            "tags": []
          }
        }
      ]
    },
    {
      "cell_type": "code",
      "metadata": {
        "colab_type": "code",
        "outputId": "fffb3c2a-a2f2-45f0-9083-715b5d5725cc",
        "id": "AlrxbVFpXqtr",
        "colab": {
          "base_uri": "https://localhost:8080/",
          "height": 537
        }
      },
      "source": [
        "plt.rcParams[\"figure.figsize\"] = [12,9]\n",
        "plt.plot([p.value() for p in utility_thresh['proteins']])\n",
        "plt.savefig('thresh_proteins.jpg')"
      ],
      "execution_count": 292,
      "outputs": [
        {
          "output_type": "display_data",
          "data": {
            "image/png": "[encoded data removed]",
            "text/plain": [
              "<Figure size 864x648 with 1 Axes>"
            ]
          },
          "metadata": {
            "tags": []
          }
        }
      ]
    },
    {
      "cell_type": "markdown",
      "metadata": {
        "id": "XrAPVTCsUbfi",
        "colab_type": "text"
      },
      "source": [
        "# Testing\n"
      ]
    },
    {
      "cell_type": "code",
      "metadata": {
        "id": "4MyEgo42SBeA",
        "colab_type": "code",
        "colab": {}
      },
      "source": [
        "def utility_func_prod(df, food_index, utility_thresh):\n",
        "    food = df.loc[food_index]\n",
        "    criteria = list(food.keys())\n",
        "    criteria.remove('nutriscore')\n",
        "    utility = 0\n",
        "    for criterion in criteria:\n",
        "        bucket_index = get_bucket_index(food[criterion], buckets[criterion])\n",
        "        left_thresh = buckets[criterion][bucket_index][0]\n",
        "        right_thresh = buckets[criterion][bucket_index][1]\n",
        "        m = (food[criterion] - left_thresh) / (right_thresh - food[criterion])\n",
        "        left_utility = utility_thresh[criterion][bucket_index]\n",
        "        right_utility = utility_thresh[criterion][bucket_index+1]\n",
        "        \n",
        "        utility += left_utility + m * (right_utility - left_utility)\n",
        "    \n",
        "    return utility"
      ],
      "execution_count": 0,
      "outputs": []
    },
    {
      "cell_type": "code",
      "metadata": {
        "id": "DgGdVzBAOy0N",
        "colab_type": "code",
        "colab": {}
      },
      "source": [
        "df_test = df_test.sample(100)"
      ],
      "execution_count": 0,
      "outputs": []
    },
    {
      "cell_type": "code",
      "metadata": {
        "id": "mKoiOqcDS78h",
        "colab_type": "code",
        "colab": {}
      },
      "source": [
        "food_scores = []\n",
        "for index, food in df_test.iterrows():\n",
        "  pred = utility_func_prod(df_test, index, utility_thresh_prod)\n",
        "  nutriscore = food['nutriscore']\n",
        "  food_scores.append({'pred': pred, 'nutriscore': nutriscore})"
      ],
      "execution_count": 0,
      "outputs": []
    },
    {
      "cell_type": "code",
      "metadata": {
        "id": "oZkgxvllTiAE",
        "colab_type": "code",
        "colab": {}
      },
      "source": [
        "food_scores.sort(key=lambda food: food['pred'], reverse=True)"
      ],
      "execution_count": 0,
      "outputs": []
    },
    {
      "cell_type": "code",
      "metadata": {
        "id": "PiQX6gpFT8Y4",
        "colab_type": "code",
        "outputId": "d606cb9f-7cd8-4096-ddf1-c8c5f342076f",
        "colab": {
          "base_uri": "https://localhost:8080/",
          "height": 1000
        }
      },
      "source": [
        "food_scores"
      ],
      "execution_count": 297,
      "outputs": [
        {
          "output_type": "execute_result",
          "data": {
            "text/plain": [
              "[{'nutriscore': 'd', 'pred': 0.01456027309500289},\n",
              " {'nutriscore': 'd', 'pred': 0.008700240783768206},\n",
              " {'nutriscore': 'c', 'pred': 0.006003783646956228},\n",
              " {'nutriscore': 'b', 'pred': 0.005126675767774709},\n",
              " {'nutriscore': 'a', 'pred': 0.005103200598713137},\n",
              " {'nutriscore': 'b', 'pred': 0.00485572154030363},\n",
              " {'nutriscore': 'b', 'pred': 0.0047241940560079024},\n",
              " {'nutriscore': 'a', 'pred': 0.0046808303281924216},\n",
              " {'nutriscore': 'a', 'pred': 0.004634388151190018},\n",
              " {'nutriscore': 'd', 'pred': 0.004598417858825149},\n",
              " {'nutriscore': 'd', 'pred': 0.00454950482616854},\n",
              " {'nutriscore': 'b', 'pred': 0.00448111889296546},\n",
              " {'nutriscore': 'b', 'pred': 0.004465629298750006},\n",
              " {'nutriscore': 'c', 'pred': 0.004412112056113334},\n",
              " {'nutriscore': 'd', 'pred': 0.004290863667321672},\n",
              " {'nutriscore': 'c', 'pred': 0.004122774313996901},\n",
              " {'nutriscore': 'd', 'pred': 0.004081968164404793},\n",
              " {'nutriscore': 'e', 'pred': 0.004042938053688255},\n",
              " {'nutriscore': 'a', 'pred': 0.004020444899323145},\n",
              " {'nutriscore': 'e', 'pred': 0.004015839010223936},\n",
              " {'nutriscore': 'b', 'pred': 0.0039891396318834475},\n",
              " {'nutriscore': 'a', 'pred': 0.003924261658419191},\n",
              " {'nutriscore': 'd', 'pred': 0.003924074353725318},\n",
              " {'nutriscore': 'd', 'pred': 0.003912547674690604},\n",
              " {'nutriscore': 'c', 'pred': 0.003911272551664426},\n",
              " {'nutriscore': 'a', 'pred': 0.0039061877835176646},\n",
              " {'nutriscore': 'a', 'pred': 0.0039044365987330808},\n",
              " {'nutriscore': 'd', 'pred': 0.0038884917604233857},\n",
              " {'nutriscore': 'c', 'pred': 0.0038780064850924404},\n",
              " {'nutriscore': 'a', 'pred': 0.0038512711398760563},\n",
              " {'nutriscore': 'c', 'pred': 0.0038053602251694706},\n",
              " {'nutriscore': 'b', 'pred': 0.003802459692586044},\n",
              " {'nutriscore': 'b', 'pred': 0.003802459692586044},\n",
              " {'nutriscore': 'b', 'pred': 0.003800612336240252},\n",
              " {'nutriscore': 'a', 'pred': 0.0037911495081035195},\n",
              " {'nutriscore': 'd', 'pred': 0.0037907483385271877},\n",
              " {'nutriscore': 'd', 'pred': 0.003787950688982875},\n",
              " {'nutriscore': 'a', 'pred': 0.003787913263192488},\n",
              " {'nutriscore': 'b', 'pred': 0.003780722914060399},\n",
              " {'nutriscore': 'a', 'pred': 0.0037764881819814813},\n",
              " {'nutriscore': 'a', 'pred': 0.0037764881819814813},\n",
              " {'nutriscore': 'e', 'pred': 0.003769622696794805},\n",
              " {'nutriscore': 'a', 'pred': 0.003750632411155974},\n",
              " {'nutriscore': 'c', 'pred': 0.0037408563695210725},\n",
              " {'nutriscore': 'a', 'pred': 0.0037367383320422534},\n",
              " {'nutriscore': 'a', 'pred': 0.0037329576521032753},\n",
              " {'nutriscore': 'a', 'pred': 0.0037313272210855474},\n",
              " {'nutriscore': 'e', 'pred': 0.003724470218118137},\n",
              " {'nutriscore': 'a', 'pred': 0.0037226992664346694},\n",
              " {'nutriscore': 'd', 'pred': 0.003719046649780096},\n",
              " {'nutriscore': 'c', 'pred': 0.003714125844209597},\n",
              " {'nutriscore': 'd', 'pred': 0.0036968596588798485},\n",
              " {'nutriscore': 'c', 'pred': 0.0036961114600657964},\n",
              " {'nutriscore': 'c', 'pred': 0.0036942698470735567},\n",
              " {'nutriscore': 'b', 'pred': 0.003690674172904438},\n",
              " {'nutriscore': 'c', 'pred': 0.0036818199778039244},\n",
              " {'nutriscore': 'c', 'pred': 0.0036809411211717958},\n",
              " {'nutriscore': 'a', 'pred': 0.0036748264171722746},\n",
              " {'nutriscore': 'd', 'pred': 0.00367444698369951},\n",
              " {'nutriscore': 'c', 'pred': 0.003669281960919518},\n",
              " {'nutriscore': 'a', 'pred': 0.003664733448519578},\n",
              " {'nutriscore': 'a', 'pred': 0.003658441862045193},\n",
              " {'nutriscore': 'a', 'pred': 0.0036517631743122458},\n",
              " {'nutriscore': 'e', 'pred': 0.0036500507046967564},\n",
              " {'nutriscore': 'a', 'pred': 0.0036260525000696864},\n",
              " {'nutriscore': 'a', 'pred': 0.0036237657507407436},\n",
              " {'nutriscore': 'd', 'pred': 0.0036229830810950237},\n",
              " {'nutriscore': 'c', 'pred': 0.003618509069142164},\n",
              " {'nutriscore': 'b', 'pred': 0.0036114600586602246},\n",
              " {'nutriscore': 'c', 'pred': 0.003606246700059414},\n",
              " {'nutriscore': 'd', 'pred': 0.003604714366777129},\n",
              " {'nutriscore': 'd', 'pred': 0.003604714366777129},\n",
              " {'nutriscore': 'e', 'pred': 0.003596383522161546},\n",
              " {'nutriscore': 'c', 'pred': 0.0035844423382374747},\n",
              " {'nutriscore': 'c', 'pred': 0.0035797975589457786},\n",
              " {'nutriscore': 'e', 'pred': 0.003555646108278082},\n",
              " {'nutriscore': 'c', 'pred': 0.003554277634084793},\n",
              " {'nutriscore': 'c', 'pred': 0.0035539551271403175},\n",
              " {'nutriscore': 'e', 'pred': 0.0035513213058988823},\n",
              " {'nutriscore': 'd', 'pred': 0.003383717162004928},\n",
              " {'nutriscore': 'e', 'pred': 0.0032889856901322555},\n",
              " {'nutriscore': 'd', 'pred': 0.0032731328965881264},\n",
              " {'nutriscore': 'e', 'pred': 0.003270057416662725},\n",
              " {'nutriscore': 'e', 'pred': 0.0032494727892580996},\n",
              " {'nutriscore': 'e', 'pred': 0.003211372031401546},\n",
              " {'nutriscore': 'e', 'pred': 0.003154178862522206},\n",
              " {'nutriscore': 'e', 'pred': 0.003022798146205446},\n",
              " {'nutriscore': 'c', 'pred': 0.003012847239812525},\n",
              " {'nutriscore': 'd', 'pred': 0.0030024696099940013},\n",
              " {'nutriscore': 'e', 'pred': 0.0029317577183761534},\n",
              " {'nutriscore': 'c', 'pred': 0.0028892993614685314},\n",
              " {'nutriscore': 'd', 'pred': 0.0027203125860951445},\n",
              " {'nutriscore': 'e', 'pred': 0.0026423278941370308},\n",
              " {'nutriscore': 'd', 'pred': 0.002589046403097015},\n",
              " {'nutriscore': 'e', 'pred': 0.002550175496894247},\n",
              " {'nutriscore': 'e', 'pred': 0.0020689575588298103},\n",
              " {'nutriscore': 'e', 'pred': 0.0020082665046365564},\n",
              " {'nutriscore': 'e', 'pred': 0.0019535506134429723},\n",
              " {'nutriscore': 'e', 'pred': -0.008797432269240565},\n",
              " {'nutriscore': 'e', 'pred': -0.17603553843085104}]"
            ]
          },
          "metadata": {
            "tags": []
          },
          "execution_count": 297
        }
      ]
    }
  ]
}