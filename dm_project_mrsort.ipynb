{
  "nbformat": 4,
  "nbformat_minor": 0,
  "metadata": {
    "colab": {
      "name": "dm_project_mrsort.ipynb",
      "provenance": [],
      "collapsed_sections": []
    },
    "kernelspec": {
      "name": "python3",
      "display_name": "Python 3"
    }
  },
  "cells": [
    {
      "cell_type": "code",
      "metadata": {
        "id": "p1HCEtOyXZtD",
        "colab_type": "code",
        "colab": {
          "base_uri": "https://localhost:8080/",
          "height": 126
        },
        "outputId": "a4d26ac8-5d4d-4d2b-a78b-a0b6039539d8"
      },
      "source": [
        "!pip install pulp\n",
        "from pulp import *\n",
        "import pandas as pd\n",
        "import sys\n",
        "import matplotlib.pyplot as plt\n",
        "import numpy as np\n",
        "from sklearn.model_selection import train_test_split\n",
        "from sklearn.metrics import confusion_matrix"
      ],
      "execution_count": 2,
      "outputs": [
        {
          "output_type": "stream",
          "text": [
            "Collecting pulp\n",
            "\u001b[?25l  Downloading https://files.pythonhosted.org/packages/fb/34/ff5915ff6bae91cfb7c4cc22c3c369a6aea0b2127045dd5f308a91c260ac/PuLP-2.0-py3-none-any.whl (39.2MB)\n",
            "\u001b[K     |████████████████████████████████| 39.2MB 103kB/s \n",
            "\u001b[?25hRequirement already satisfied: pyparsing>=2.0.1 in /usr/local/lib/python3.6/dist-packages (from pulp) (2.4.6)\n",
            "Installing collected packages: pulp\n",
            "Successfully installed pulp-2.0\n"
          ],
          "name": "stdout"
        }
      ]
    },
    {
      "cell_type": "code",
      "metadata": {
        "id": "8gOG5FGwXZtM",
        "colab_type": "code",
        "colab": {}
      },
      "source": [
        "#!{sys.executable} -m pip install xlrd"
      ],
      "execution_count": 0,
      "outputs": []
    },
    {
      "cell_type": "markdown",
      "metadata": {
        "id": "APb3RUyeXZtR",
        "colab_type": "text"
      },
      "source": [
        "# Importing the dataset"
      ]
    },
    {
      "cell_type": "code",
      "metadata": {
        "id": "f5bsWUahXZtT",
        "colab_type": "code",
        "outputId": "2132ff75-c134-43df-e49b-6aee13b5cab3",
        "colab": {
          "base_uri": "https://localhost:8080/",
          "height": 108
        }
      },
      "source": [
        "df = pd.read_excel(\"openfoodfacts_simplified_database.xlsx\")\n",
        "df = df[~df['nutrition_grade_fr'].isna()]\n",
        "df['nutrition_grade_fr'].describe()"
      ],
      "execution_count": 3,
      "outputs": [
        {
          "output_type": "execute_result",
          "data": {
            "text/plain": [
              "count     5925\n",
              "unique       5\n",
              "top          d\n",
              "freq      1599\n",
              "Name: nutrition_grade_fr, dtype: object"
            ]
          },
          "metadata": {
            "tags": []
          },
          "execution_count": 3
        }
      ]
    },
    {
      "cell_type": "code",
      "metadata": {
        "id": "H-xUA-96XZte",
        "colab_type": "code",
        "outputId": "579a7e6c-ef4a-4eca-a162-b25664c1ce08",
        "colab": {
          "base_uri": "https://localhost:8080/",
          "height": 206
        }
      },
      "source": [
        "cols = ['energy_100g', 'saturated-fat_100g', 'sugars_100g', 'fiber_100g', 'proteins_100g', 'sodium_100g', 'nutrition_grade_fr']\n",
        "df = df[cols]\n",
        "df.columns = ['energy', 'saturated_fat', 'sugars', 'fiber', 'proteins', 'salt', 'nutriscore']\n",
        "df.head()"
      ],
      "execution_count": 4,
      "outputs": [
        {
          "output_type": "execute_result",
          "data": {
            "text/html": [
              "<div>\n",
              "<style scoped>\n",
              "    .dataframe tbody tr th:only-of-type {\n",
              "        vertical-align: middle;\n",
              "    }\n",
              "\n",
              "    .dataframe tbody tr th {\n",
              "        vertical-align: top;\n",
              "    }\n",
              "\n",
              "    .dataframe thead th {\n",
              "        text-align: right;\n",
              "    }\n",
              "</style>\n",
              "<table border=\"1\" class=\"dataframe\">\n",
              "  <thead>\n",
              "    <tr style=\"text-align: right;\">\n",
              "      <th></th>\n",
              "      <th>energy</th>\n",
              "      <th>saturated_fat</th>\n",
              "      <th>sugars</th>\n",
              "      <th>fiber</th>\n",
              "      <th>proteins</th>\n",
              "      <th>salt</th>\n",
              "      <th>nutriscore</th>\n",
              "    </tr>\n",
              "  </thead>\n",
              "  <tbody>\n",
              "    <tr>\n",
              "      <th>0</th>\n",
              "      <td>590.0</td>\n",
              "      <td>0.5</td>\n",
              "      <td>5.5</td>\n",
              "      <td>1.8</td>\n",
              "      <td>6.2</td>\n",
              "      <td>0.236</td>\n",
              "      <td>b</td>\n",
              "    </tr>\n",
              "    <tr>\n",
              "      <th>3</th>\n",
              "      <td>1477.0</td>\n",
              "      <td>1.5</td>\n",
              "      <td>10.0</td>\n",
              "      <td>9.9</td>\n",
              "      <td>5.4</td>\n",
              "      <td>2.200</td>\n",
              "      <td>b</td>\n",
              "    </tr>\n",
              "    <tr>\n",
              "      <th>4</th>\n",
              "      <td>176.0</td>\n",
              "      <td>0.0</td>\n",
              "      <td>9.7</td>\n",
              "      <td>0.0</td>\n",
              "      <td>0.5</td>\n",
              "      <td>0.000</td>\n",
              "      <td>c</td>\n",
              "    </tr>\n",
              "    <tr>\n",
              "      <th>8</th>\n",
              "      <td>1022.0</td>\n",
              "      <td>1.9</td>\n",
              "      <td>0.5</td>\n",
              "      <td>1.4</td>\n",
              "      <td>12.0</td>\n",
              "      <td>0.332</td>\n",
              "      <td>b</td>\n",
              "    </tr>\n",
              "    <tr>\n",
              "      <th>9</th>\n",
              "      <td>196.0</td>\n",
              "      <td>0.0</td>\n",
              "      <td>11.0</td>\n",
              "      <td>0.5</td>\n",
              "      <td>0.7</td>\n",
              "      <td>0.040</td>\n",
              "      <td>c</td>\n",
              "    </tr>\n",
              "  </tbody>\n",
              "</table>\n",
              "</div>"
            ],
            "text/plain": [
              "   energy  saturated_fat  sugars  fiber  proteins   salt nutriscore\n",
              "0   590.0            0.5     5.5    1.8       6.2  0.236          b\n",
              "3  1477.0            1.5    10.0    9.9       5.4  2.200          b\n",
              "4   176.0            0.0     9.7    0.0       0.5  0.000          c\n",
              "8  1022.0            1.9     0.5    1.4      12.0  0.332          b\n",
              "9   196.0            0.0    11.0    0.5       0.7  0.040          c"
            ]
          },
          "metadata": {
            "tags": []
          },
          "execution_count": 4
        }
      ]
    },
    {
      "cell_type": "code",
      "metadata": {
        "id": "X8Bf4GIm1Xsh",
        "colab_type": "code",
        "colab": {}
      },
      "source": [
        "max_energy = df['energy'].max()\n",
        "min_energy = df['energy'].min()"
      ],
      "execution_count": 0,
      "outputs": []
    },
    {
      "cell_type": "code",
      "metadata": {
        "id": "uP_lRee0XZtg",
        "colab_type": "code",
        "colab": {}
      },
      "source": [
        "df = df[~df['energy'].isna()]\n",
        "df = df[~df['saturated_fat'].isna()]\n",
        "df = df[~df['sugars'].isna()]\n",
        "df = df[~df['fiber'].isna()]\n",
        "df = df[~df['proteins'].isna()]\n",
        "df = df[~df['salt'].isna()]"
      ],
      "execution_count": 0,
      "outputs": []
    },
    {
      "cell_type": "code",
      "metadata": {
        "id": "JWW5jAot0EYS",
        "colab_type": "code",
        "colab": {}
      },
      "source": [
        "# Normalize the energy column\n",
        "df['energy'] = (df['energy']-df['energy'].min()) / (df['energy'].max()-df['energy'].min())*100"
      ],
      "execution_count": 0,
      "outputs": []
    },
    {
      "cell_type": "code",
      "metadata": {
        "id": "hz8mFPtxYc_o",
        "colab_type": "code",
        "outputId": "91b1f177-7745-4107-e1e2-604fbcae3888",
        "colab": {
          "base_uri": "https://localhost:8080/",
          "height": 283
        }
      },
      "source": [
        "df['nutriscore'].hist()"
      ],
      "execution_count": 8,
      "outputs": [
        {
          "output_type": "execute_result",
          "data": {
            "text/plain": [
              "<matplotlib.axes._subplots.AxesSubplot at 0x7f2d381bc748>"
            ]
          },
          "metadata": {
            "tags": []
          },
          "execution_count": 8
        },
        {
          "output_type": "display_data",
          "data": {
            "image/png": "[encoded data removed]",
            "text/plain": [
              "<Figure size 432x288 with 1 Axes>"
            ]
          },
          "metadata": {
            "tags": []
          }
        }
      ]
    },
    {
      "cell_type": "code",
      "metadata": {
        "id": "Ie9r1maW4vLm",
        "colab_type": "code",
        "colab": {}
      },
      "source": [
        "df['nutriscore'] = np.where(df['nutriscore']=='a', 5, df['nutriscore'])\n",
        "df['nutriscore'] = np.where(df['nutriscore']=='b', 4, df['nutriscore'])\n",
        "df['nutriscore'] = np.where(df['nutriscore']=='c', 3, df['nutriscore'])\n",
        "df['nutriscore'] = np.where(df['nutriscore']=='d', 2, df['nutriscore'])\n",
        "df['nutriscore'] = np.where(df['nutriscore']=='e', 1, df['nutriscore'])"
      ],
      "execution_count": 0,
      "outputs": []
    },
    {
      "cell_type": "markdown",
      "metadata": {
        "id": "qhTK6I5r4v5c",
        "colab_type": "text"
      },
      "source": [
        "# Split the dataset"
      ]
    },
    {
      "cell_type": "code",
      "metadata": {
        "id": "dMzo7akl40el",
        "colab_type": "code",
        "colab": {}
      },
      "source": [
        "features = ['energy', 'proteins', 'salt', 'fiber', 'saturated_fat', 'sugars']\n",
        "X = df[features]\n",
        "y = df[['nutriscore']]"
      ],
      "execution_count": 0,
      "outputs": []
    },
    {
      "cell_type": "code",
      "metadata": {
        "id": "cU6kl_Yl5FNi",
        "colab_type": "code",
        "colab": {}
      },
      "source": [
        "X_train, X_test, y_train, y_test = train_test_split(X, y, test_size=0.2, random_state=1)"
      ],
      "execution_count": 0,
      "outputs": []
    },
    {
      "cell_type": "code",
      "metadata": {
        "id": "tQMv6wWd5eK1",
        "colab_type": "code",
        "outputId": "a022cf8f-0566-44d9-ee93-78a1b90a245f",
        "colab": {
          "base_uri": "https://localhost:8080/",
          "height": 126
        }
      },
      "source": [
        "df = X_train\n",
        "df['nutriscore'] = y_train['nutriscore']"
      ],
      "execution_count": 12,
      "outputs": [
        {
          "output_type": "stream",
          "text": [
            "/usr/local/lib/python3.6/dist-packages/ipykernel_launcher.py:2: SettingWithCopyWarning: \n",
            "A value is trying to be set on a copy of a slice from a DataFrame.\n",
            "Try using .loc[row_indexer,col_indexer] = value instead\n",
            "\n",
            "See the caveats in the documentation: http://pandas.pydata.org/pandas-docs/stable/user_guide/indexing.html#returning-a-view-versus-a-copy\n",
            "  \n"
          ],
          "name": "stderr"
        }
      ]
    },
    {
      "cell_type": "markdown",
      "metadata": {
        "id": "cif5nJPSY2K3",
        "colab_type": "text"
      },
      "source": [
        "# Formalize the problem"
      ]
    },
    {
      "cell_type": "code",
      "metadata": {
        "id": "fE0nSJUgY4Et",
        "colab_type": "code",
        "outputId": "207cf17e-ce17-465c-87f2-39888e0538fc",
        "colab": {
          "base_uri": "https://localhost:8080/",
          "height": 53
        }
      },
      "source": [
        "prob = LpProblem(\"The Nutriscore\", LpMinimize)"
      ],
      "execution_count": 13,
      "outputs": [
        {
          "output_type": "stream",
          "text": [
            "/usr/local/lib/python3.6/dist-packages/pulp/pulp.py:1137: UserWarning: Spaces are not permitted in the name. Converted to '_'\n",
            "  warnings.warn(\"Spaces are not permitted in the name. Converted to '_'\")\n"
          ],
          "name": "stderr"
        }
      ]
    },
    {
      "cell_type": "code",
      "metadata": {
        "id": "Sm7QBb3qarJg",
        "colab_type": "code",
        "colab": {}
      },
      "source": [
        "pi = []\n",
        "pi.append([\n",
        "           LpVariable('pi_1_energy', 0, 100),\n",
        "           LpVariable('pi_1_saturated_fat', 0, 100),\n",
        "           LpVariable('pi_1_sugars', 0, 100),\n",
        "           LpVariable('pi_1_fiber', 0, 100),\n",
        "           LpVariable('pi_1_proteins', 0, 100),\n",
        "           LpVariable('pi_1_salt', 0, 100),\n",
        "           ])\n",
        "pi.append([\n",
        "           LpVariable('pi_2_energy', 0, 100),\n",
        "           LpVariable('pi_2_saturated_fat', 0, 100),\n",
        "           LpVariable('pi_2_sugars', 0, 100),\n",
        "           LpVariable('pi_2_fiber', 0, 100),\n",
        "           LpVariable('pi_2_proteins', 0, 100),\n",
        "           LpVariable('pi_2_salt', 0, 100),\n",
        "           ])\n",
        "pi.append([\n",
        "           LpVariable('pi_3_energy', 0, 100),\n",
        "           LpVariable('pi_3_saturated_fat', 0, 100),\n",
        "           LpVariable('pi_3_sugars', 0, 100),\n",
        "           LpVariable('pi_3_fiber', 0, 100),\n",
        "           LpVariable('pi_3_proteins', 0, 100),\n",
        "           LpVariable('pi_3_salt', 0, 100),\n",
        "           ])\n",
        "pi.append([\n",
        "           LpVariable('pi_4_energy', 0, 100),\n",
        "           LpVariable('pi_4_saturated_fat', 0, 100),\n",
        "           LpVariable('pi_4_sugars', 0, 100),\n",
        "           LpVariable('pi_4_fiber', 0, 100),\n",
        "           LpVariable('pi_4_proteins', 0, 100),\n",
        "           LpVariable('pi_4_salt', 0, 100),\n",
        "           ])\n",
        "pi.append([\n",
        "           LpVariable('pi_5_energy', 0, 100),\n",
        "           LpVariable('pi_5_saturated_fat', 0, 100),\n",
        "           LpVariable('pi_5_sugars', 0, 100),\n",
        "           LpVariable('pi_5_fiber', 0, 100),\n",
        "           LpVariable('pi_5_proteins', 0, 100),\n",
        "           LpVariable('pi_5_salt', 0, 100),\n",
        "           ])\n",
        "pi.append([\n",
        "           LpVariable('pi_6_energy', 0, 100),\n",
        "           LpVariable('pi_6_saturated_fat', 0, 100),\n",
        "           LpVariable('pi_6_sugars', 0, 100),\n",
        "           LpVariable('pi_6_fiber', 0, 100),\n",
        "           LpVariable('pi_6_proteins', 0, 100),\n",
        "           LpVariable('pi_6_salt', 0, 100),\n",
        "           ])"
      ],
      "execution_count": 0,
      "outputs": []
    },
    {
      "cell_type": "code",
      "metadata": {
        "id": "RlKSkDwgd_fd",
        "colab_type": "code",
        "colab": {}
      },
      "source": [
        "# Error to minimize\n",
        "eps = []\n",
        "eps.append([\n",
        "           LpVariable('eps_1_energy', 0, 100),\n",
        "           LpVariable('eps_1_saturated_fat', 0, 100),\n",
        "           LpVariable('eps_1_sugars', 0, 100),\n",
        "           LpVariable('eps_1_fiber', 0, 100),\n",
        "           LpVariable('eps_1_proteins', 0, 100),\n",
        "           LpVariable('eps_1_salt', 0, 100),\n",
        "           ])\n",
        "eps.append([\n",
        "           LpVariable('eps_2_energy', 0, 100),\n",
        "           LpVariable('eps_2_saturated_fat', 0, 100),\n",
        "           LpVariable('eps_2_sugars', 0, 100),\n",
        "           LpVariable('eps_2_fiber', 0, 100),\n",
        "           LpVariable('eps_2_proteins', 0, 100),\n",
        "           LpVariable('eps_2_salt', 0, 100),\n",
        "           ])\n",
        "eps.append([\n",
        "           LpVariable('eps_3_energy', 0, 100),\n",
        "           LpVariable('eps_3_saturated_fat', 0, 100),\n",
        "           LpVariable('eps_3_sugars', 0, 100),\n",
        "           LpVariable('eps_3_fiber', 0, 100),\n",
        "           LpVariable('eps_3_proteins', 0, 100),\n",
        "           LpVariable('eps_3_salt', 0, 100),\n",
        "           ])\n",
        "eps.append([\n",
        "           LpVariable('eps_4_energy', 0, 100),\n",
        "           LpVariable('eps_4_saturated_fat', 0, 100),\n",
        "           LpVariable('eps_4_sugars', 0, 100),\n",
        "           LpVariable('eps_4_fiber', 0, 100),\n",
        "           LpVariable('eps_4_proteins', 0, 100),\n",
        "           LpVariable('eps_4_salt', 0, 100),\n",
        "           ])\n",
        "eps.append([\n",
        "           LpVariable('eps_5_energy', 0, 100),\n",
        "           LpVariable('eps_5_saturated_fat', 0, 100),\n",
        "           LpVariable('eps_5_sugars', 0, 100),\n",
        "           LpVariable('eps_5_fiber', 0, 100),\n",
        "           LpVariable('eps_5_proteins', 0, 100),\n",
        "           LpVariable('eps_5_salt', 0, 100),\n",
        "           ])\n",
        "eps.append([\n",
        "           LpVariable('eps_6_energy', 0, 100),\n",
        "           LpVariable('eps_6_saturated_fat', 0, 100),\n",
        "           LpVariable('eps_6_sugars', 0, 100),\n",
        "           LpVariable('eps_6_fiber', 0, 100),\n",
        "           LpVariable('eps_6_proteins', 0, 100),\n",
        "           LpVariable('eps_6_salt', 0, 100),\n",
        "           ])"
      ],
      "execution_count": 0,
      "outputs": []
    },
    {
      "cell_type": "code",
      "metadata": {
        "id": "CfGpshBKepsw",
        "colab_type": "code",
        "colab": {}
      },
      "source": [
        "prob += (lpSum([e for e in eps[0]]) + \n",
        "         lpSum([e for e in eps[1]]) + \n",
        "         lpSum([e for e in eps[2]]) +\n",
        "         lpSum([e for e in eps[3]]) +\n",
        "         lpSum([e for e in eps[4]]) +\n",
        "         lpSum([e for e in eps[5]])), \"Minimize the error in the thresholds\""
      ],
      "execution_count": 0,
      "outputs": []
    },
    {
      "cell_type": "code",
      "metadata": {
        "id": "4lyRGyecg0Ql",
        "colab_type": "code",
        "colab": {}
      },
      "source": [
        "for index, food in df.iterrows():\n",
        "  score = food['nutriscore']\n",
        "  pi_lower = score-1\n",
        "  pi_upper = score\n",
        "  prob += (food['energy'] <= pi[pi_lower][0] + eps[pi_lower][0])\n",
        "  prob += (food['energy'] >= pi[pi_upper][0] - eps[pi_upper][0])\n",
        "  prob += (food['saturated_fat'] <= pi[pi_lower][1] + eps[pi_lower][1])\n",
        "  prob += (food['saturated_fat'] >= pi[pi_upper][1] - eps[pi_upper][1])\n",
        "  prob += (food['sugars'] <= pi[pi_lower][2] + eps[pi_lower][2])\n",
        "  prob += (food['sugars'] >= pi[pi_upper][2] - eps[pi_upper][2])\n",
        "  prob += (food['fiber'] >= pi[pi_lower][3] - eps[pi_lower][3])\n",
        "  prob += (food['fiber'] <= pi[pi_upper][3] + eps[pi_upper][3])\n",
        "  prob += (food['proteins'] >= pi[pi_lower][4] - eps[pi_lower][4])\n",
        "  prob += (food['proteins'] <= pi[pi_upper][4] + eps[pi_upper][4])\n",
        "  prob += (food['salt'] <= pi[pi_lower][5] + eps[pi_lower][5])\n",
        "  prob += (food['salt'] >= pi[pi_upper][5] - eps[pi_upper][5])"
      ],
      "execution_count": 0,
      "outputs": []
    },
    {
      "cell_type": "code",
      "metadata": {
        "id": "6aZ9yiM8inL1",
        "colab_type": "code",
        "colab": {}
      },
      "source": [
        "prob += (pi[0][0] == 100)\n",
        "prob += (pi[0][1] == 100)\n",
        "prob += (pi[0][2] == 100)\n",
        "prob += (pi[0][3] == 0)\n",
        "prob += (pi[0][4] == 0)\n",
        "prob += (pi[0][5] == 100)\n",
        "\n",
        "prob += (pi[5][0] == 0)\n",
        "prob += (pi[5][1] == 0)\n",
        "prob += (pi[5][2] == 0)\n",
        "prob += (pi[5][3] == 100)\n",
        "prob += (pi[5][4] == 100)\n",
        "prob += (pi[5][5] == 0)"
      ],
      "execution_count": 0,
      "outputs": []
    },
    {
      "cell_type": "code",
      "metadata": {
        "id": "XDJURtN5jblE",
        "colab_type": "code",
        "colab": {}
      },
      "source": [
        "prob += (pi[0][0] >= pi[1][0]+1)\n",
        "prob += (pi[1][0] >= pi[2][0]+1)\n",
        "prob += (pi[2][0] >= pi[3][0]+1)\n",
        "prob += (pi[3][0] >= pi[4][0]+1)\n",
        "prob += (pi[4][0] >= pi[5][0]+1)\n",
        "\n",
        "prob += (pi[0][1] >= pi[1][1]+1)\n",
        "prob += (pi[1][1] >= pi[2][1]+1)\n",
        "prob += (pi[2][1] >= pi[3][1]+1)\n",
        "prob += (pi[3][1] >= pi[4][1]+1)\n",
        "prob += (pi[4][1] >= pi[5][1]+1)\n",
        "\n",
        "prob += (pi[0][2] >= pi[1][2]+1)\n",
        "prob += (pi[1][2] >= pi[2][2]+1)\n",
        "prob += (pi[2][2] >= pi[3][2]+1)\n",
        "prob += (pi[3][2] >= pi[4][2]+1)\n",
        "prob += (pi[4][2] >= pi[5][2]+1)\n",
        "\n",
        "prob += (pi[0][3] <= pi[1][3]-1)\n",
        "prob += (pi[1][3] <= pi[2][3]-1)\n",
        "prob += (pi[2][3] <= pi[3][3]-1)\n",
        "prob += (pi[3][3] <= pi[4][3]-1)\n",
        "prob += (pi[4][3] <= pi[5][3]-1)\n",
        "\n",
        "prob += (pi[0][4] <= pi[1][4]-1)\n",
        "prob += (pi[1][4] <= pi[2][4]-1)\n",
        "prob += (pi[2][4] <= pi[3][4]-1)\n",
        "prob += (pi[3][4] <= pi[4][4]-1)\n",
        "prob += (pi[4][4] <= pi[5][4]-1)\n",
        "\n",
        "prob += (pi[0][5] >= pi[1][5]+1)\n",
        "prob += (pi[1][5] >= pi[2][5]+1)\n",
        "prob += (pi[2][5] >= pi[3][5]+1)\n",
        "prob += (pi[3][5] >= pi[4][5]+1)\n",
        "prob += (pi[4][5] >= pi[5][5]+1)"
      ],
      "execution_count": 0,
      "outputs": []
    },
    {
      "cell_type": "code",
      "metadata": {
        "id": "2_yeoT6OigEq",
        "colab_type": "code",
        "outputId": "05243afc-766c-4886-e05c-c16ae54b4bf1",
        "colab": {
          "base_uri": "https://localhost:8080/",
          "height": 35
        }
      },
      "source": [
        "prob.solve()\n",
        "print(\"Status:\", LpStatus[prob.status])"
      ],
      "execution_count": 20,
      "outputs": [
        {
          "output_type": "stream",
          "text": [
            "Status: Optimal\n"
          ],
          "name": "stdout"
        }
      ]
    },
    {
      "cell_type": "code",
      "metadata": {
        "id": "wj3fe14Kl-uK",
        "colab_type": "code",
        "colab": {
          "base_uri": "https://localhost:8080/",
          "height": 1000
        },
        "outputId": "7e04368e-70db-4f0b-8995-aa1a5b9ee449"
      },
      "source": [
        "# Each of the variables is printed with it's resolved optimum value\n",
        "for v in prob.variables():\n",
        "    print(v.name, \"=\", v.varValue)"
      ],
      "execution_count": 21,
      "outputs": [
        {
          "output_type": "stream",
          "text": [
            "eps_1_energy = 0.0\n",
            "eps_1_fiber = 0.0\n",
            "eps_1_proteins = 0.0\n",
            "eps_1_salt = 0.0\n",
            "eps_1_saturated_fat = 0.0\n",
            "eps_1_sugars = 0.0\n",
            "eps_2_energy = 23.841545\n",
            "eps_2_fiber = 11.0\n",
            "eps_2_proteins = 20.8\n",
            "eps_2_salt = 4.0\n",
            "eps_2_saturated_fat = 21.0\n",
            "eps_2_sugars = 50.0\n",
            "eps_3_energy = 23.062583\n",
            "eps_3_fiber = 28.5\n",
            "eps_3_proteins = 27.5\n",
            "eps_3_salt = 16.52\n",
            "eps_3_saturated_fat = 40.0\n",
            "eps_3_sugars = 35.5\n",
            "eps_4_energy = 19.440746\n",
            "eps_4_fiber = 13.5\n",
            "eps_4_proteins = 14.5\n",
            "eps_4_salt = 2.0\n",
            "eps_4_saturated_fat = 4.45\n",
            "eps_4_sugars = 33.5\n",
            "eps_5_energy = 17.143808\n",
            "eps_5_fiber = 14.5\n",
            "eps_5_proteins = 15.5\n",
            "eps_5_salt = 4.2\n",
            "eps_5_saturated_fat = 3.1\n",
            "eps_5_sugars = 18.5\n",
            "eps_6_energy = 0.0\n",
            "eps_6_fiber = 0.0\n",
            "eps_6_proteins = 0.0\n",
            "eps_6_salt = 0.0\n",
            "eps_6_saturated_fat = 0.0\n",
            "eps_6_sugars = 0.0\n",
            "pi_1_energy = 100.0\n",
            "pi_1_fiber = 0.0\n",
            "pi_1_proteins = 0.0\n",
            "pi_1_salt = 100.0\n",
            "pi_1_saturated_fat = 100.0\n",
            "pi_1_sugars = 100.0\n",
            "pi_2_energy = 25.399467\n",
            "pi_2_fiber = 11.0\n",
            "pi_2_proteins = 12.5\n",
            "pi_2_salt = 4.0\n",
            "pi_2_saturated_fat = 21.0\n",
            "pi_2_sugars = 50.0\n",
            "pi_3_energy = 23.062583\n",
            "pi_3_fiber = 12.5\n",
            "pi_3_proteins = 13.5\n",
            "pi_3_salt = 3.0\n",
            "pi_3_saturated_fat = 20.0\n",
            "pi_3_sugars = 35.5\n",
            "pi_4_energy = 19.440746\n",
            "pi_4_fiber = 13.5\n",
            "pi_4_proteins = 14.5\n",
            "pi_4_salt = 2.0\n",
            "pi_4_saturated_fat = 4.45\n",
            "pi_4_sugars = 33.5\n",
            "pi_5_energy = 17.143808\n",
            "pi_5_fiber = 14.5\n",
            "pi_5_proteins = 15.5\n",
            "pi_5_salt = 1.0\n",
            "pi_5_saturated_fat = 3.1\n",
            "pi_5_sugars = 18.5\n",
            "pi_6_energy = 0.0\n",
            "pi_6_fiber = 100.0\n",
            "pi_6_proteins = 100.0\n",
            "pi_6_salt = 0.0\n",
            "pi_6_saturated_fat = 0.0\n",
            "pi_6_sugars = 0.0\n"
          ],
          "name": "stdout"
        }
      ]
    },
    {
      "cell_type": "code",
      "metadata": {
        "id": "HbuDxYKt2qDH",
        "colab_type": "code",
        "colab": {}
      },
      "source": [
        "pi_lp = pi\n",
        "pi = [[var.value() for var in p] for p in pi_lp]"
      ],
      "execution_count": 0,
      "outputs": []
    },
    {
      "cell_type": "code",
      "metadata": {
        "id": "3ggshEXU3bVS",
        "colab_type": "code",
        "colab": {}
      },
      "source": [
        "pi = np.array(pi)"
      ],
      "execution_count": 0,
      "outputs": []
    },
    {
      "cell_type": "code",
      "metadata": {
        "id": "Lju1KxSZ3kDr",
        "colab_type": "code",
        "colab": {}
      },
      "source": [
        "# rescaling the energy\n",
        "pi[:,0] = pi[:,0]/100 * (max_energy-min_energy)"
      ],
      "execution_count": 0,
      "outputs": []
    },
    {
      "cell_type": "code",
      "metadata": {
        "id": "Vu88ZGrO3_u5",
        "colab_type": "code",
        "outputId": "f56842e8-fa87-431d-e125-e7b5f12bdc62",
        "colab": {
          "base_uri": "https://localhost:8080/",
          "height": 235
        }
      },
      "source": [
        "pi"
      ],
      "execution_count": 25,
      "outputs": [
        {
          "output_type": "execute_result",
          "data": {
            "text/plain": [
              "array([[7.51000000e+03, 1.00000000e+02, 1.00000000e+02, 0.00000000e+00,\n",
              "        0.00000000e+00, 1.00000000e+02],\n",
              "       [1.90749997e+03, 2.10000000e+01, 5.00000000e+01, 1.10000000e+01,\n",
              "        1.25000000e+01, 4.00000000e+00],\n",
              "       [1.73199998e+03, 2.00000000e+01, 3.55000000e+01, 1.25000000e+01,\n",
              "        1.35000000e+01, 3.00000000e+00],\n",
              "       [1.46000002e+03, 4.45000000e+00, 3.35000000e+01, 1.35000000e+01,\n",
              "        1.45000000e+01, 2.00000000e+00],\n",
              "       [1.28749998e+03, 3.10000000e+00, 1.85000000e+01, 1.45000000e+01,\n",
              "        1.55000000e+01, 1.00000000e+00],\n",
              "       [0.00000000e+00, 0.00000000e+00, 0.00000000e+00, 1.00000000e+02,\n",
              "        1.00000000e+02, 0.00000000e+00]])"
            ]
          },
          "metadata": {
            "tags": []
          },
          "execution_count": 25
        }
      ]
    },
    {
      "cell_type": "markdown",
      "metadata": {
        "id": "VnkhHxvn6IoT",
        "colab_type": "text"
      },
      "source": [
        "# Testing"
      ]
    },
    {
      "cell_type": "code",
      "metadata": {
        "id": "ClnZMclH6Jn4",
        "colab_type": "code",
        "colab": {}
      },
      "source": [
        "thresh = 0.5\n",
        "w = 1/6"
      ],
      "execution_count": 0,
      "outputs": []
    },
    {
      "cell_type": "code",
      "metadata": {
        "id": "YK7jsjrK68tt",
        "colab_type": "code",
        "colab": {}
      },
      "source": [
        "# Method could be 'optimistic' or 'pessimistic'\n",
        "def predict(food, pi, method='optimistic'):\n",
        "  if method == 'optimistic': \n",
        "    starting_index = -(len(pi)-1)\n",
        "    ending_index = 0\n",
        "  else:\n",
        "    starting_index = 0\n",
        "    ending_index = len(pi)-1\n",
        "  \n",
        "  max_score = 0\n",
        "  max_index = starting_index\n",
        "  i = starting_index\n",
        "  while (i < ending_index):\n",
        "    index = -i if method == 'optimistic' else i\n",
        "    adj_index = index-1 if method == 'optimistic' else index+1\n",
        "\n",
        "    score = 0\n",
        "    if (method=='optimistic' and food['energy'] <= pi[adj_index][0] and food['energy'] >= pi[index][0]) or \\\n",
        "        (method!='optimistic' and food['energy'] >= pi[adj_index][0] and food['energy'] <= pi[index][0]):\n",
        "        score += w\n",
        "    if (method=='optimistic' and food['saturated_fat'] <= pi[adj_index][1] and food['saturated_fat'] >= pi[index][1]) or \\\n",
        "        (method!='optimistic' and food['saturated_fat'] >= pi[adj_index][1] and food['saturated_fat'] <= pi[index][1]):\n",
        "        score += w\n",
        "    if (method=='optimistic' and food['sugars'] <= pi[adj_index][2] and food['sugars'] >= pi[index][2]) or \\\n",
        "        (method!='optimistic' and food['sugars'] >= pi[adj_index][2] and food['sugars'] <= pi[index][2]):\n",
        "        score += w\n",
        "    if (method=='optimistic' and food['fiber'] >= pi[adj_index][3] and food['fiber'] <= pi[index][3]) or \\\n",
        "        (method!='optimistic' and food['fiber'] <= pi[adj_index][3] and food['fiber'] >= pi[index][3]):\n",
        "        score += w\n",
        "    if (method=='optimistic' and food['proteins'] >= pi[adj_index][4] and food['proteins'] <= pi[index][4]) or \\\n",
        "        (method!='optimistic' and food['proteins'] <= pi[adj_index][4] and food['proteins'] >= pi[index][4]):\n",
        "        score += w\n",
        "    if (method=='optimistic' and food['salt'] <= pi[adj_index][5] and food['salt'] >= pi[index][5]) or \\\n",
        "        (method!='optimistic' and food['salt'] >= pi[adj_index][5] and food['salt'] <= pi[index][5]):\n",
        "        score += w\n",
        "      \n",
        "    if score > max_score:\n",
        "      max_score = score\n",
        "      max_index = index\n",
        "    i += 1\n",
        "  \n",
        "  return max_index if method =='optimistic' else max_index+1\n",
        "  "
      ],
      "execution_count": 0,
      "outputs": []
    },
    {
      "cell_type": "code",
      "metadata": {
        "id": "n4mhFzHa6Sd1",
        "colab_type": "code",
        "outputId": "6c986994-85f3-4fb4-88f6-b526c1a94963",
        "colab": {
          "base_uri": "https://localhost:8080/",
          "height": 126
        }
      },
      "source": [
        "test_df = X_test\n",
        "test_df['nutriscore'] = y_test['nutriscore']\n",
        "\n",
        "y_pred = []\n",
        "\n",
        "for index, food in test_df.iterrows():\n",
        "  pred = predict(food, pi, 'pessimistic')\n",
        "  y_pred.append(pred)"
      ],
      "execution_count": 28,
      "outputs": [
        {
          "output_type": "stream",
          "text": [
            "/usr/local/lib/python3.6/dist-packages/ipykernel_launcher.py:2: SettingWithCopyWarning: \n",
            "A value is trying to be set on a copy of a slice from a DataFrame.\n",
            "Try using .loc[row_indexer,col_indexer] = value instead\n",
            "\n",
            "See the caveats in the documentation: http://pandas.pydata.org/pandas-docs/stable/user_guide/indexing.html#returning-a-view-versus-a-copy\n",
            "  \n"
          ],
          "name": "stderr"
        }
      ]
    },
    {
      "cell_type": "code",
      "metadata": {
        "id": "1769RZMdEjiR",
        "colab_type": "code",
        "colab": {
          "base_uri": "https://localhost:8080/",
          "height": 35
        },
        "outputId": "4852eebb-0719-48de-a886-08f1e94b47eb"
      },
      "source": [
        "(test_df['nutriscore'] == y_pred).mean()"
      ],
      "execution_count": 29,
      "outputs": [
        {
          "output_type": "execute_result",
          "data": {
            "text/plain": [
              "0.34918648310387984"
            ]
          },
          "metadata": {
            "tags": []
          },
          "execution_count": 29
        }
      ]
    },
    {
      "cell_type": "code",
      "metadata": {
        "id": "jDRZfnhgD32f",
        "colab_type": "code",
        "outputId": "5fbc20da-815b-4b23-989c-ca9693ae27a3",
        "colab": {
          "base_uri": "https://localhost:8080/",
          "height": 1000
        }
      },
      "source": [
        "plt.rcParams[\"figure.figsize\"] = [12,9]\n",
        "\n",
        "cm = confusion_matrix(list(test_df['nutriscore']), y_pred, labels=[1,2,3,4,5])\n",
        "\n",
        "labels = ['A','B','C','D','E']\n",
        "\n",
        "fig = plt.figure()\n",
        "ax = fig.add_subplot(111)\n",
        "cax = ax.matshow(cm)\n",
        "plt.title('Confusion matrix, without normalization')\n",
        "fig.colorbar(cax)\n",
        "ax.set_xticklabels([''] + labels)\n",
        "ax.set_yticklabels([''] + labels)\n",
        "plt.xlabel('Predicted label')\n",
        "plt.ylabel('True label')\n",
        "plt.savefig('confusion_matrix_mrsort_pessimistic.jpg')\n",
        "\n",
        "cm_norm = cm.astype('float') / cm.sum(axis=1)[:, np.newaxis]\n",
        "\n",
        "fig = plt.figure()\n",
        "ax = fig.add_subplot(111)\n",
        "cax = ax.matshow(cm_norm)\n",
        "plt.title('Normalized confusion matrix')\n",
        "fig.colorbar(cax)\n",
        "ax.set_xticklabels([''] + labels)\n",
        "ax.set_yticklabels([''] + labels)\n",
        "plt.xlabel('Predicted label')\n",
        "plt.ylabel('True label')\n",
        "plt.savefig('confusion_matrix_norm_mrsort_pessimistic.jpg')"
      ],
      "execution_count": 30,
      "outputs": [
        {
          "output_type": "display_data",
          "data": {
            "image/png": "[encoded data removed]",
            "text/plain": [
              "<Figure size 864x648 with 2 Axes>"
            ]
          },
          "metadata": {
            "tags": []
          }
        },
        {
          "output_type": "display_data",
          "data": {
            "image/png": "[encoded data removed]",
            "text/plain": [
              "<Figure size 864x648 with 2 Axes>"
            ]
          },
          "metadata": {
            "tags": []
          }
        }
      ]
    },
    {
      "cell_type": "code",
      "metadata": {
        "id": "oAHA9OHFEv7l",
        "colab_type": "code",
        "outputId": "4e42808d-e2b7-4cd1-eae8-5b48f9f5b553",
        "colab": {
          "base_uri": "https://localhost:8080/",
          "height": 126
        }
      },
      "source": [
        "test_df = X_test\n",
        "test_df['nutriscore'] = y_test['nutriscore']\n",
        "\n",
        "y_pred = []\n",
        "\n",
        "for index, food in test_df.iterrows():\n",
        "  pred = predict(food, pi)\n",
        "  y_pred.append(pred)"
      ],
      "execution_count": 32,
      "outputs": [
        {
          "output_type": "stream",
          "text": [
            "/usr/local/lib/python3.6/dist-packages/ipykernel_launcher.py:2: SettingWithCopyWarning: \n",
            "A value is trying to be set on a copy of a slice from a DataFrame.\n",
            "Try using .loc[row_indexer,col_indexer] = value instead\n",
            "\n",
            "See the caveats in the documentation: http://pandas.pydata.org/pandas-docs/stable/user_guide/indexing.html#returning-a-view-versus-a-copy\n",
            "  \n"
          ],
          "name": "stderr"
        }
      ]
    },
    {
      "cell_type": "code",
      "metadata": {
        "id": "l-B9oq2fE0-H",
        "colab_type": "code",
        "outputId": "2e0377e0-852a-449a-8c1a-8cec919daee2",
        "colab": {
          "base_uri": "https://localhost:8080/",
          "height": 35
        }
      },
      "source": [
        "(test_df['nutriscore'] == y_pred).mean()"
      ],
      "execution_count": 33,
      "outputs": [
        {
          "output_type": "execute_result",
          "data": {
            "text/plain": [
              "0.2553191489361702"
            ]
          },
          "metadata": {
            "tags": []
          },
          "execution_count": 33
        }
      ]
    },
    {
      "cell_type": "code",
      "metadata": {
        "id": "9-gDSfc_IhGe",
        "colab_type": "code",
        "colab": {
          "base_uri": "https://localhost:8080/",
          "height": 1000
        },
        "outputId": "9f5f55cb-4420-4a3a-b652-8575784a293e"
      },
      "source": [
        "plt.rcParams[\"figure.figsize\"] = [12,9]\n",
        "\n",
        "cm = confusion_matrix(list(test_df['nutriscore']), y_pred, labels=[1,2,3,4,5])\n",
        "\n",
        "labels = ['A','B','C','D','E']\n",
        "\n",
        "fig = plt.figure()\n",
        "ax = fig.add_subplot(111)\n",
        "cax = ax.matshow(cm)\n",
        "plt.title('Confusion matrix, without normalization')\n",
        "fig.colorbar(cax)\n",
        "ax.set_xticklabels([''] + labels)\n",
        "ax.set_yticklabels([''] + labels)\n",
        "plt.xlabel('Predicted label')\n",
        "plt.ylabel('True label')\n",
        "plt.savefig('confusion_matrix_mrsort_optimistic.jpg')\n",
        "\n",
        "cm_norm = cm.astype('float') / cm.sum(axis=1)[:, np.newaxis]\n",
        "\n",
        "fig = plt.figure()\n",
        "ax = fig.add_subplot(111)\n",
        "cax = ax.matshow(cm_norm)\n",
        "plt.title('Normalized confusion matrix')\n",
        "fig.colorbar(cax)\n",
        "ax.set_xticklabels([''] + labels)\n",
        "ax.set_yticklabels([''] + labels)\n",
        "plt.xlabel('Predicted label')\n",
        "plt.ylabel('True label')\n",
        "plt.savefig('confusion_matrix_norm_mrsort_optimistic.jpg')"
      ],
      "execution_count": 34,
      "outputs": [
        {
          "output_type": "display_data",
          "data": {
            "image/png": "[encoded data removed]",
            "text/plain": [
              "<Figure size 864x648 with 2 Axes>"
            ]
          },
          "metadata": {
            "tags": []
          }
        },
        {
          "output_type": "display_data",
          "data": {
            "image/png": "[encoded data removed]",
            "text/plain": [
              "<Figure size 864x648 with 2 Axes>"
            ]
          },
          "metadata": {
            "tags": []
          }
        }
      ]
    },
    {
      "cell_type": "markdown",
      "metadata": {
        "id": "xD_Pmk43FaTx",
        "colab_type": "text"
      },
      "source": [
        "# Set the thesholds of the model manually"
      ]
    },
    {
      "cell_type": "code",
      "metadata": {
        "id": "a8WXfnaFFpxx",
        "colab_type": "code",
        "colab": {}
      },
      "source": [
        "pi_2 = np.array([\n",
        "                 [7510, 100, 100, 0, 0, 100],\n",
        "                 [6000, 80, 80, 20, 20, 80],\n",
        "                 [4500, 60, 60, 40, 40, 60],\n",
        "                 [3000, 40, 40, 60, 60, 40],\n",
        "                 [1500, 20, 20, 80, 80, 20],\n",
        "                 [0, 0, 0, 100, 100, 0]\n",
        "])"
      ],
      "execution_count": 0,
      "outputs": []
    },
    {
      "cell_type": "code",
      "metadata": {
        "id": "r8op2iLfF-y9",
        "colab_type": "code",
        "outputId": "a955d75d-f7d4-4b94-b0da-db0a1f5700ce",
        "colab": {
          "base_uri": "https://localhost:8080/",
          "height": 126
        }
      },
      "source": [
        "test_df = X_test\n",
        "test_df['nutriscore'] = y_test['nutriscore']\n",
        "\n",
        "y_pred = []\n",
        "\n",
        "for index, food in test_df.iterrows():\n",
        "  pred = predict(food, pi_2, 'pessimistic')\n",
        "  y_pred.append(pred)"
      ],
      "execution_count": 36,
      "outputs": [
        {
          "output_type": "stream",
          "text": [
            "/usr/local/lib/python3.6/dist-packages/ipykernel_launcher.py:2: SettingWithCopyWarning: \n",
            "A value is trying to be set on a copy of a slice from a DataFrame.\n",
            "Try using .loc[row_indexer,col_indexer] = value instead\n",
            "\n",
            "See the caveats in the documentation: http://pandas.pydata.org/pandas-docs/stable/user_guide/indexing.html#returning-a-view-versus-a-copy\n",
            "  \n"
          ],
          "name": "stderr"
        }
      ]
    },
    {
      "cell_type": "code",
      "metadata": {
        "colab_type": "code",
        "id": "4GwCYf-LHdC3",
        "colab": {
          "base_uri": "https://localhost:8080/",
          "height": 35
        },
        "outputId": "0e84cfd7-63d6-4cb8-e75d-34bf6a81c6f0"
      },
      "source": [
        "(test_df['nutriscore'] == y_pred).mean()"
      ],
      "execution_count": 37,
      "outputs": [
        {
          "output_type": "execute_result",
          "data": {
            "text/plain": [
              "0.23153942428035043"
            ]
          },
          "metadata": {
            "tags": []
          },
          "execution_count": 37
        }
      ]
    },
    {
      "cell_type": "code",
      "metadata": {
        "colab_type": "code",
        "outputId": "4eb5799f-6c07-4416-9a87-7fc3e9f8c993",
        "id": "CBNOF4ueHdC0",
        "colab": {
          "base_uri": "https://localhost:8080/",
          "height": 1000
        }
      },
      "source": [
        "plt.rcParams[\"figure.figsize\"] = [12,9]\n",
        "\n",
        "cm = confusion_matrix(list(test_df['nutriscore']), y_pred, labels=[1,2,3,4,5])\n",
        "\n",
        "labels = ['A','B','C','D','E']\n",
        "\n",
        "fig = plt.figure()\n",
        "ax = fig.add_subplot(111)\n",
        "cax = ax.matshow(cm)\n",
        "plt.title('Confusion matrix, without normalization')\n",
        "fig.colorbar(cax)\n",
        "ax.set_xticklabels([''] + labels)\n",
        "ax.set_yticklabels([''] + labels)\n",
        "plt.xlabel('Predicted label')\n",
        "plt.ylabel('True label')\n",
        "plt.savefig('confusion_matrix_mrsort_pessimistic_manual.jpg')\n",
        "\n",
        "cm_norm = cm.astype('float') / cm.sum(axis=1)[:, np.newaxis]\n",
        "\n",
        "fig = plt.figure()\n",
        "ax = fig.add_subplot(111)\n",
        "cax = ax.matshow(cm_norm)\n",
        "plt.title('Normalized confusion matrix')\n",
        "fig.colorbar(cax)\n",
        "ax.set_xticklabels([''] + labels)\n",
        "ax.set_yticklabels([''] + labels)\n",
        "plt.xlabel('Predicted label')\n",
        "plt.ylabel('True label')\n",
        "plt.savefig('confusion_matrix_norm_mrsort_pessimistic_manual.jpg')"
      ],
      "execution_count": 38,
      "outputs": [
        {
          "output_type": "display_data",
          "data": {
            "image/png": "[encoded data removed]",
            "text/plain": [
              "<Figure size 864x648 with 2 Axes>"
            ]
          },
          "metadata": {
            "tags": []
          }
        },
        {
          "output_type": "display_data",
          "data": {
            "image/png": "[encoded data removed]",
            "text/plain": [
              "<Figure size 864x648 with 2 Axes>"
            ]
          },
          "metadata": {
            "tags": []
          }
        }
      ]
    },
    {
      "cell_type": "code",
      "metadata": {
        "colab_type": "code",
        "outputId": "95e1991b-a11e-4d74-9a68-eff8ce8cf1e0",
        "id": "pO8dnDwlJG5N",
        "colab": {
          "base_uri": "https://localhost:8080/",
          "height": 126
        }
      },
      "source": [
        "test_df = X_test\n",
        "test_df['nutriscore'] = y_test['nutriscore']\n",
        "\n",
        "y_pred = []\n",
        "\n",
        "for index, food in test_df.iterrows():\n",
        "  pred = predict(food, pi_2)\n",
        "  y_pred.append(pred)"
      ],
      "execution_count": 39,
      "outputs": [
        {
          "output_type": "stream",
          "text": [
            "/usr/local/lib/python3.6/dist-packages/ipykernel_launcher.py:2: SettingWithCopyWarning: \n",
            "A value is trying to be set on a copy of a slice from a DataFrame.\n",
            "Try using .loc[row_indexer,col_indexer] = value instead\n",
            "\n",
            "See the caveats in the documentation: http://pandas.pydata.org/pandas-docs/stable/user_guide/indexing.html#returning-a-view-versus-a-copy\n",
            "  \n"
          ],
          "name": "stderr"
        }
      ]
    },
    {
      "cell_type": "code",
      "metadata": {
        "colab_type": "code",
        "outputId": "fdf85518-e6ea-4d6f-d0a3-ba705c372ea0",
        "id": "6Jw4DFcFJG5z",
        "colab": {
          "base_uri": "https://localhost:8080/",
          "height": 35
        }
      },
      "source": [
        "(test_df['nutriscore'] == y_pred).mean()"
      ],
      "execution_count": 40,
      "outputs": [
        {
          "output_type": "execute_result",
          "data": {
            "text/plain": [
              "0.2165206508135169"
            ]
          },
          "metadata": {
            "tags": []
          },
          "execution_count": 40
        }
      ]
    },
    {
      "cell_type": "code",
      "metadata": {
        "colab_type": "code",
        "outputId": "792269cc-ab4a-45a1-a899-057655155a22",
        "id": "9MwQneHpJG6D",
        "colab": {
          "base_uri": "https://localhost:8080/",
          "height": 1000
        }
      },
      "source": [
        "plt.rcParams[\"figure.figsize\"] = [12,9]\n",
        "\n",
        "cm = confusion_matrix(list(test_df['nutriscore']), y_pred, labels=[1,2,3,4,5])\n",
        "\n",
        "labels = ['A','B','C','D','E']\n",
        "\n",
        "fig = plt.figure()\n",
        "ax = fig.add_subplot(111)\n",
        "cax = ax.matshow(cm)\n",
        "plt.title('Confusion matrix, without normalization')\n",
        "fig.colorbar(cax)\n",
        "ax.set_xticklabels([''] + labels)\n",
        "ax.set_yticklabels([''] + labels)\n",
        "plt.xlabel('Predicted label')\n",
        "plt.ylabel('True label')\n",
        "plt.savefig('confusion_matrix_mrsort_optimistic_manual.jpg')\n",
        "\n",
        "cm_norm = cm.astype('float') / cm.sum(axis=1)[:, np.newaxis]\n",
        "\n",
        "fig = plt.figure()\n",
        "ax = fig.add_subplot(111)\n",
        "cax = ax.matshow(cm_norm)\n",
        "plt.title('Normalized confusion matrix')\n",
        "fig.colorbar(cax)\n",
        "ax.set_xticklabels([''] + labels)\n",
        "ax.set_yticklabels([''] + labels)\n",
        "plt.xlabel('Predicted label')\n",
        "plt.ylabel('True label')\n",
        "plt.savefig('confusion_matrix_norm_mrsort_optimistic_manual.jpg')"
      ],
      "execution_count": 41,
      "outputs": [
        {
          "output_type": "display_data",
          "data": {
            "image/png": "[encoded data removed]",
            "text/plain": [
              "<Figure size 864x648 with 2 Axes>"
            ]
          },
          "metadata": {
            "tags": []
          }
        },
        {
          "output_type": "display_data",
          "data": {
            "image/png": "[encoded data removed]",
            "text/plain": [
              "<Figure size 864x648 with 2 Axes>"
            ]
          },
          "metadata": {
            "tags": []
          }
        }
      ]
    }
  ]
}