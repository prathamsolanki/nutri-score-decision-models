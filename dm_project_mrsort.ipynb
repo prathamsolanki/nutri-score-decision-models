{
  "nbformat": 4,
  "nbformat_minor": 0,
  "metadata": {
    "colab": {
      "name": "dm_project_mrsort.ipynb",
      "provenance": [],
      "collapsed_sections": []
    },
    "kernelspec": {
      "name": "python3",
      "display_name": "Python 3"
    }
  },
  "cells": [
    {
      "cell_type": "code",
      "metadata": {
        "id": "p1HCEtOyXZtD",
        "colab_type": "code",
        "outputId": "49634c3c-8e0d-4b4f-e640-aa854550513f",
        "colab": {
          "base_uri": "https://localhost:8080/",
          "height": 53
        }
      },
      "source": [
        "!pip install pulp\n",
        "from pulp import *\n",
        "import pandas as pd\n",
        "import sys\n",
        "import matplotlib.pyplot as plt\n",
        "import numpy as np\n",
        "from sklearn.model_selection import train_test_split\n",
        "from sklearn.metrics import confusion_matrix"
      ],
      "execution_count": 1,
      "outputs": [
        {
          "output_type": "stream",
          "text": [
            "Requirement already satisfied: pulp in /usr/local/lib/python3.6/dist-packages (2.0)\n",
            "Requirement already satisfied: pyparsing>=2.0.1 in /usr/local/lib/python3.6/dist-packages (from pulp) (2.4.6)\n"
          ],
          "name": "stdout"
        }
      ]
    },
    {
      "cell_type": "code",
      "metadata": {
        "id": "8gOG5FGwXZtM",
        "colab_type": "code",
        "colab": {}
      },
      "source": [
        "#!{sys.executable} -m pip install xlrd"
      ],
      "execution_count": 0,
      "outputs": []
    },
    {
      "cell_type": "markdown",
      "metadata": {
        "id": "APb3RUyeXZtR",
        "colab_type": "text"
      },
      "source": [
        "# Importing the dataset"
      ]
    },
    {
      "cell_type": "code",
      "metadata": {
        "id": "f5bsWUahXZtT",
        "colab_type": "code",
        "outputId": "7a4fc50a-cf48-4e30-9082-148626cbd426",
        "colab": {
          "base_uri": "https://localhost:8080/",
          "height": 108
        }
      },
      "source": [
        "df = pd.read_excel(\"openfoodfacts_simplified_database.xlsx\")\n",
        "df = df[~df['nutrition_grade_fr'].isna()]\n",
        "df['nutrition_grade_fr'].describe()"
      ],
      "execution_count": 3,
      "outputs": [
        {
          "output_type": "execute_result",
          "data": {
            "text/plain": [
              "count     5925\n",
              "unique       5\n",
              "top          d\n",
              "freq      1599\n",
              "Name: nutrition_grade_fr, dtype: object"
            ]
          },
          "metadata": {
            "tags": []
          },
          "execution_count": 3
        }
      ]
    },
    {
      "cell_type": "code",
      "metadata": {
        "id": "H-xUA-96XZte",
        "colab_type": "code",
        "outputId": "fadb275b-af65-4d0c-9627-06c46894e4b6",
        "colab": {
          "base_uri": "https://localhost:8080/",
          "height": 206
        }
      },
      "source": [
        "cols = ['energy_100g', 'saturated-fat_100g', 'sugars_100g', 'fiber_100g', 'proteins_100g', 'sodium_100g', 'nutrition_grade_fr']\n",
        "df = df[cols]\n",
        "df.columns = ['energy', 'saturated_fat', 'sugars', 'fiber', 'proteins', 'salt', 'nutriscore']\n",
        "df.head()"
      ],
      "execution_count": 4,
      "outputs": [
        {
          "output_type": "execute_result",
          "data": {
            "text/html": [
              "<div>\n",
              "<style scoped>\n",
              "    .dataframe tbody tr th:only-of-type {\n",
              "        vertical-align: middle;\n",
              "    }\n",
              "\n",
              "    .dataframe tbody tr th {\n",
              "        vertical-align: top;\n",
              "    }\n",
              "\n",
              "    .dataframe thead th {\n",
              "        text-align: right;\n",
              "    }\n",
              "</style>\n",
              "<table border=\"1\" class=\"dataframe\">\n",
              "  <thead>\n",
              "    <tr style=\"text-align: right;\">\n",
              "      <th></th>\n",
              "      <th>energy</th>\n",
              "      <th>saturated_fat</th>\n",
              "      <th>sugars</th>\n",
              "      <th>fiber</th>\n",
              "      <th>proteins</th>\n",
              "      <th>salt</th>\n",
              "      <th>nutriscore</th>\n",
              "    </tr>\n",
              "  </thead>\n",
              "  <tbody>\n",
              "    <tr>\n",
              "      <th>0</th>\n",
              "      <td>590.0</td>\n",
              "      <td>0.5</td>\n",
              "      <td>5.5</td>\n",
              "      <td>1.8</td>\n",
              "      <td>6.2</td>\n",
              "      <td>0.236</td>\n",
              "      <td>b</td>\n",
              "    </tr>\n",
              "    <tr>\n",
              "      <th>3</th>\n",
              "      <td>1477.0</td>\n",
              "      <td>1.5</td>\n",
              "      <td>10.0</td>\n",
              "      <td>9.9</td>\n",
              "      <td>5.4</td>\n",
              "      <td>2.200</td>\n",
              "      <td>b</td>\n",
              "    </tr>\n",
              "    <tr>\n",
              "      <th>4</th>\n",
              "      <td>176.0</td>\n",
              "      <td>0.0</td>\n",
              "      <td>9.7</td>\n",
              "      <td>0.0</td>\n",
              "      <td>0.5</td>\n",
              "      <td>0.000</td>\n",
              "      <td>c</td>\n",
              "    </tr>\n",
              "    <tr>\n",
              "      <th>8</th>\n",
              "      <td>1022.0</td>\n",
              "      <td>1.9</td>\n",
              "      <td>0.5</td>\n",
              "      <td>1.4</td>\n",
              "      <td>12.0</td>\n",
              "      <td>0.332</td>\n",
              "      <td>b</td>\n",
              "    </tr>\n",
              "    <tr>\n",
              "      <th>9</th>\n",
              "      <td>196.0</td>\n",
              "      <td>0.0</td>\n",
              "      <td>11.0</td>\n",
              "      <td>0.5</td>\n",
              "      <td>0.7</td>\n",
              "      <td>0.040</td>\n",
              "      <td>c</td>\n",
              "    </tr>\n",
              "  </tbody>\n",
              "</table>\n",
              "</div>"
            ],
            "text/plain": [
              "   energy  saturated_fat  sugars  fiber  proteins   salt nutriscore\n",
              "0   590.0            0.5     5.5    1.8       6.2  0.236          b\n",
              "3  1477.0            1.5    10.0    9.9       5.4  2.200          b\n",
              "4   176.0            0.0     9.7    0.0       0.5  0.000          c\n",
              "8  1022.0            1.9     0.5    1.4      12.0  0.332          b\n",
              "9   196.0            0.0    11.0    0.5       0.7  0.040          c"
            ]
          },
          "metadata": {
            "tags": []
          },
          "execution_count": 4
        }
      ]
    },
    {
      "cell_type": "code",
      "metadata": {
        "id": "uP_lRee0XZtg",
        "colab_type": "code",
        "colab": {}
      },
      "source": [
        "df = df[~df['energy'].isna()]\n",
        "df = df[~df['saturated_fat'].isna()]\n",
        "df = df[~df['sugars'].isna()]\n",
        "df = df[~df['fiber'].isna()]\n",
        "df = df[~df['proteins'].isna()]\n",
        "df = df[~df['salt'].isna()]"
      ],
      "execution_count": 0,
      "outputs": []
    },
    {
      "cell_type": "code",
      "metadata": {
        "id": "X8Bf4GIm1Xsh",
        "colab_type": "code",
        "colab": {}
      },
      "source": [
        "max_energy = df['energy'].max()\n",
        "min_energy = df['energy'].min()\n",
        "\n",
        "max_saturated_fat = df['saturated_fat'].max()\n",
        "min_saturated_fat = df['saturated_fat'].min()\n",
        "\n",
        "max_sugars = df['sugars'].max()\n",
        "min_sugars = df['sugars'].min()\n",
        "\n",
        "max_fiber = df['fiber'].max()\n",
        "min_fiber = df['fiber'].min()\n",
        "\n",
        "max_proteins = df['proteins'].max()\n",
        "min_proteins = df['proteins'].min()\n",
        "\n",
        "max_salt = df['salt'].max()\n",
        "min_salt = df['salt'].min()"
      ],
      "execution_count": 0,
      "outputs": []
    },
    {
      "cell_type": "code",
      "metadata": {
        "id": "hz8mFPtxYc_o",
        "colab_type": "code",
        "outputId": "ec6ae299-33af-4789-b09c-e5ab983f68a7",
        "colab": {
          "base_uri": "https://localhost:8080/",
          "height": 283
        }
      },
      "source": [
        "df['nutriscore'].hist()"
      ],
      "execution_count": 7,
      "outputs": [
        {
          "output_type": "execute_result",
          "data": {
            "text/plain": [
              "<matplotlib.axes._subplots.AxesSubplot at 0x7fa72a287e10>"
            ]
          },
          "metadata": {
            "tags": []
          },
          "execution_count": 7
        },
        {
          "output_type": "display_data",
          "data": {
            "image/png": "[encoded data removed]",
            "text/plain": [
              "<Figure size 432x288 with 1 Axes>"
            ]
          },
          "metadata": {
            "tags": []
          }
        }
      ]
    },
    {
      "cell_type": "code",
      "metadata": {
        "id": "Ie9r1maW4vLm",
        "colab_type": "code",
        "colab": {}
      },
      "source": [
        "df['nutriscore'] = np.where(df['nutriscore']=='a', 5, df['nutriscore'])\n",
        "df['nutriscore'] = np.where(df['nutriscore']=='b', 4, df['nutriscore'])\n",
        "df['nutriscore'] = np.where(df['nutriscore']=='c', 3, df['nutriscore'])\n",
        "df['nutriscore'] = np.where(df['nutriscore']=='d', 2, df['nutriscore'])\n",
        "df['nutriscore'] = np.where(df['nutriscore']=='e', 1, df['nutriscore'])"
      ],
      "execution_count": 0,
      "outputs": []
    },
    {
      "cell_type": "code",
      "metadata": {
        "id": "c8vJZ6IufpQJ",
        "colab_type": "code",
        "outputId": "335d9167-57c4-4d1b-9dbf-1ad1b9d7f0b8",
        "colab": {
          "base_uri": "https://localhost:8080/",
          "height": 108
        }
      },
      "source": [
        "print(df[df['nutriscore'] == 1]['energy'].max(), df[df['nutriscore'] == 1]['energy'].min(), df[df['nutriscore'] == 1]['energy'].mean(), df[df['nutriscore'] == 1]['energy'].std())\n",
        "print(df[df['nutriscore'] == 2]['energy'].max(), df[df['nutriscore'] == 2]['energy'].min(), df[df['nutriscore'] == 2]['energy'].mean(), df[df['nutriscore'] == 2]['energy'].std())\n",
        "print(df[df['nutriscore'] == 3]['energy'].max(), df[df['nutriscore'] == 3]['energy'].min(), df[df['nutriscore'] == 3]['energy'].mean(), df[df['nutriscore'] == 3]['energy'].std())\n",
        "print(df[df['nutriscore'] == 4]['energy'].max(), df[df['nutriscore'] == 4]['energy'].min(), df[df['nutriscore'] == 4]['energy'].mean(), df[df['nutriscore'] == 4]['energy'].std())\n",
        "print(df[df['nutriscore'] == 5]['energy'].max(), df[df['nutriscore'] == 5]['energy'].min(), df[df['nutriscore'] == 5]['energy'].mean(), df[df['nutriscore'] == 5]['energy'].std())"
      ],
      "execution_count": 9,
      "outputs": [
        {
          "output_type": "stream",
          "text": [
            "7510.0 117.0 1918.4272445820434 682.5797509477326\n",
            "3698.0 0.0 1414.8306451612902 595.0981548225855\n",
            "3464.0 0.0 984.2051282051282 679.4650271736979\n",
            "2920.0 0.0 678.0013333333333 514.6467395302051\n",
            "2575.0 0.0 643.7117270788913 561.4347337942038\n"
          ],
          "name": "stdout"
        }
      ]
    },
    {
      "cell_type": "code",
      "metadata": {
        "id": "0JbAMgMOgtK3",
        "colab_type": "code",
        "outputId": "d25e21b6-e9b9-4093-ba8f-49af155a3b5d",
        "colab": {
          "base_uri": "https://localhost:8080/",
          "height": 108
        }
      },
      "source": [
        "print(df[df['nutriscore'] == 1]['saturated_fat'].max(), df[df['nutriscore'] == 1]['saturated_fat'].min(), df[df['nutriscore'] == 1]['saturated_fat'].mean(), df[df['nutriscore'] == 1]['saturated_fat'].std())\n",
        "print(df[df['nutriscore'] == 2]['saturated_fat'].max(), df[df['nutriscore'] == 2]['saturated_fat'].min(), df[df['nutriscore'] == 2]['saturated_fat'].mean(), df[df['nutriscore'] == 2]['saturated_fat'].std())\n",
        "print(df[df['nutriscore'] == 3]['saturated_fat'].max(), df[df['nutriscore'] == 3]['saturated_fat'].min(), df[df['nutriscore'] == 3]['saturated_fat'].mean(), df[df['nutriscore'] == 3]['saturated_fat'].std())\n",
        "print(df[df['nutriscore'] == 4]['saturated_fat'].max(), df[df['nutriscore'] == 4]['saturated_fat'].min(), df[df['nutriscore'] == 4]['saturated_fat'].mean(), df[df['nutriscore'] == 4]['saturated_fat'].std())\n",
        "print(df[df['nutriscore'] == 5]['saturated_fat'].max(), df[df['nutriscore'] == 5]['saturated_fat'].min(), df[df['nutriscore'] == 5]['saturated_fat'].mean(), df[df['nutriscore'] == 5]['saturated_fat'].std())"
      ],
      "execution_count": 10,
      "outputs": [
        {
          "output_type": "stream",
          "text": [
            "100.0 0.0 15.454705882352949 11.523354465190025\n",
            "42.0 0.0 7.210897177419362 6.454610278407766\n",
            "60.0 0.0 2.8419413919413934 4.201056278455641\n",
            "8.9 0.0 1.2675683333333334 1.2244226694458804\n",
            "6.2 0.0 0.4827775053304908 0.6704036313106108\n"
          ],
          "name": "stdout"
        }
      ]
    },
    {
      "cell_type": "code",
      "metadata": {
        "id": "MWJZk92qgVwD",
        "colab_type": "code",
        "outputId": "320b1cdf-a0c3-472c-a57d-5b26c6782e97",
        "colab": {
          "base_uri": "https://localhost:8080/",
          "height": 108
        }
      },
      "source": [
        "print(df[df['nutriscore'] == 1]['sugars'].max(), df[df['nutriscore'] == 1]['sugars'].min(), df[df['nutriscore'] == 1]['sugars'].mean(), df[df['nutriscore'] == 1]['sugars'].std())\n",
        "print(df[df['nutriscore'] == 2]['sugars'].max(), df[df['nutriscore'] == 2]['sugars'].min(), df[df['nutriscore'] == 2]['sugars'].mean(), df[df['nutriscore'] == 2]['sugars'].std())\n",
        "print(df[df['nutriscore'] == 3]['sugars'].max(), df[df['nutriscore'] == 3]['sugars'].min(), df[df['nutriscore'] == 3]['sugars'].mean(), df[df['nutriscore'] == 3]['sugars'].std())\n",
        "print(df[df['nutriscore'] == 4]['sugars'].max(), df[df['nutriscore'] == 4]['sugars'].min(), df[df['nutriscore'] == 4]['sugars'].mean(), df[df['nutriscore'] == 4]['sugars'].std())\n",
        "print(df[df['nutriscore'] == 5]['sugars'].max(), df[df['nutriscore'] == 5]['sugars'].min(), df[df['nutriscore'] == 5]['sugars'].mean(), df[df['nutriscore'] == 5]['sugars'].std())"
      ],
      "execution_count": 11,
      "outputs": [
        {
          "output_type": "stream",
          "text": [
            "84.0 0.0 28.28348297213622 19.799645939333487\n",
            "100.0 0.0 15.136774294354842 18.257789857051566\n",
            "71.0 0.0 9.192344322344333 12.860959094292403\n",
            "67.0 0.0 5.066904999999999 8.28770104937318\n",
            "37.0 0.0 3.6324946727078844 4.473808247513058\n"
          ],
          "name": "stdout"
        }
      ]
    },
    {
      "cell_type": "code",
      "metadata": {
        "id": "Mx7YchmigtbM",
        "colab_type": "code",
        "outputId": "9fd0d09d-40d8-4e7d-d7f7-d6b08bcfb35f",
        "colab": {
          "base_uri": "https://localhost:8080/",
          "height": 108
        }
      },
      "source": [
        "print(df[df['nutriscore'] == 1]['fiber'].max(), df[df['nutriscore'] == 1]['fiber'].min(), df[df['nutriscore'] == 1]['fiber'].mean(), df[df['nutriscore'] == 1]['fiber'].std())\n",
        "print(df[df['nutriscore'] == 2]['fiber'].max(), df[df['nutriscore'] == 2]['fiber'].min(), df[df['nutriscore'] == 2]['fiber'].mean(), df[df['nutriscore'] == 2]['fiber'].std())\n",
        "print(df[df['nutriscore'] == 3]['fiber'].max(), df[df['nutriscore'] == 3]['fiber'].min(), df[df['nutriscore'] == 3]['fiber'].mean(), df[df['nutriscore'] == 3]['fiber'].std())\n",
        "print(df[df['nutriscore'] == 4]['fiber'].max(), df[df['nutriscore'] == 4]['fiber'].min(), df[df['nutriscore'] == 4]['fiber'].mean(), df[df['nutriscore'] == 4]['fiber'].std())\n",
        "print(df[df['nutriscore'] == 5]['fiber'].max(), df[df['nutriscore'] == 5]['fiber'].min(), df[df['nutriscore'] == 5]['fiber'].mean(), df[df['nutriscore'] == 5]['fiber'].std())"
      ],
      "execution_count": 12,
      "outputs": [
        {
          "output_type": "stream",
          "text": [
            "23.0 0.0 2.2782352941176467 2.3985778694288107\n",
            "41.0 0.0 2.2508972782258043 3.0011460393133604\n",
            "27.0 0.0 2.4200708180708164 2.8043261462146223\n",
            "12.8 0.0 2.123516666666667 2.2188552598496574\n",
            "47.8 0.0 3.7477484008528803 4.160338401162896\n"
          ],
          "name": "stdout"
        }
      ]
    },
    {
      "cell_type": "code",
      "metadata": {
        "id": "sZNKf05xgtqS",
        "colab_type": "code",
        "outputId": "00717ce5-26ee-4e17-b2e9-5eeaeeff99d1",
        "colab": {
          "base_uri": "https://localhost:8080/",
          "height": 108
        }
      },
      "source": [
        "print(df[df['nutriscore'] == 1]['proteins'].max(), df[df['nutriscore'] == 1]['proteins'].min(), df[df['nutriscore'] == 1]['proteins'].mean(), df[df['nutriscore'] == 1]['proteins'].std())\n",
        "print(df[df['nutriscore'] == 2]['proteins'].max(), df[df['nutriscore'] == 2]['proteins'].min(), df[df['nutriscore'] == 2]['proteins'].mean(), df[df['nutriscore'] == 2]['proteins'].std())\n",
        "print(df[df['nutriscore'] == 3]['proteins'].max(), df[df['nutriscore'] == 3]['proteins'].min(), df[df['nutriscore'] == 3]['proteins'].mean(), df[df['nutriscore'] == 3]['proteins'].std())\n",
        "print(df[df['nutriscore'] == 4]['proteins'].max(), df[df['nutriscore'] == 4]['proteins'].min(), df[df['nutriscore'] == 4]['proteins'].mean(), df[df['nutriscore'] == 4]['proteins'].std())\n",
        "print(df[df['nutriscore'] == 5]['proteins'].max(), df[df['nutriscore'] == 5]['proteins'].min(), df[df['nutriscore'] == 5]['proteins'].mean(), df[df['nutriscore'] == 5]['proteins'].std())"
      ],
      "execution_count": 13,
      "outputs": [
        {
          "output_type": "stream",
          "text": [
            "33.3 0.0 7.446687306501548 6.315374977154655\n",
            "41.0 0.0 10.000453629032265 8.349511444879901\n",
            "29.0 0.0 7.215140415140413 6.57354063669378\n",
            "27.0 0.0 6.515533333333333 5.512884472539595\n",
            "32.0 0.0 6.353315565031989 5.851187182951755\n"
          ],
          "name": "stdout"
        }
      ]
    },
    {
      "cell_type": "code",
      "metadata": {
        "id": "CK0_sRmrgt3t",
        "colab_type": "code",
        "outputId": "df5b4a6e-50be-4775-c327-d287d313e8b1",
        "colab": {
          "base_uri": "https://localhost:8080/",
          "height": 108
        }
      },
      "source": [
        "print(df[df['nutriscore'] == 1]['salt'].max(), df[df['nutriscore'] == 1]['salt'].min(), df[df['nutriscore'] == 1]['salt'].mean(), df[df['nutriscore'] == 1]['salt'].std())\n",
        "print(df[df['nutriscore'] == 2]['salt'].max(), df[df['nutriscore'] == 2]['salt'].min(), df[df['nutriscore'] == 2]['salt'].mean(), df[df['nutriscore'] == 2]['salt'].std())\n",
        "print(df[df['nutriscore'] == 3]['salt'].max(), df[df['nutriscore'] == 3]['salt'].min(), df[df['nutriscore'] == 3]['salt'].mean(), df[df['nutriscore'] == 3]['salt'].std())\n",
        "print(df[df['nutriscore'] == 4]['salt'].max(), df[df['nutriscore'] == 4]['salt'].min(), df[df['nutriscore'] == 4]['salt'].mean(), df[df['nutriscore'] == 4]['salt'].std())\n",
        "print(df[df['nutriscore'] == 5]['salt'].max(), df[df['nutriscore'] == 5]['salt'].min(), df[df['nutriscore'] == 5]['salt'].mean(), df[df['nutriscore'] == 5]['salt'].std())"
      ],
      "execution_count": 14,
      "outputs": [
        {
          "output_type": "stream",
          "text": [
            "8.0 0.0 0.3898036928792569 0.6396938718702941\n",
            "8.0 0.0 0.49610492491028246 0.5871957450532012\n",
            "19.52 0.0 0.4413781167277166 0.8477457611061571\n",
            "2.64 0.0 0.29509828533333354 0.2516661428052885\n",
            "5.2 0.0 0.15859644190831593 0.22964358363603268\n"
          ],
          "name": "stdout"
        }
      ]
    },
    {
      "cell_type": "code",
      "metadata": {
        "id": "JWW5jAot0EYS",
        "colab_type": "code",
        "colab": {}
      },
      "source": [
        "# Normalize the energy column\n",
        "df['energy'] = (df['energy']-min_energy) / (max_energy-min_energy)*100"
      ],
      "execution_count": 0,
      "outputs": []
    },
    {
      "cell_type": "markdown",
      "metadata": {
        "id": "qhTK6I5r4v5c",
        "colab_type": "text"
      },
      "source": [
        "# Split the dataset"
      ]
    },
    {
      "cell_type": "code",
      "metadata": {
        "id": "dMzo7akl40el",
        "colab_type": "code",
        "colab": {}
      },
      "source": [
        "features = ['energy', 'proteins', 'salt', 'fiber', 'saturated_fat', 'sugars']\n",
        "X = df[features]\n",
        "y = df[['nutriscore']]"
      ],
      "execution_count": 0,
      "outputs": []
    },
    {
      "cell_type": "code",
      "metadata": {
        "id": "cU6kl_Yl5FNi",
        "colab_type": "code",
        "colab": {}
      },
      "source": [
        "X_train, X_test, y_train, y_test = train_test_split(X, y, test_size=0.2, random_state=1)"
      ],
      "execution_count": 0,
      "outputs": []
    },
    {
      "cell_type": "code",
      "metadata": {
        "id": "tQMv6wWd5eK1",
        "colab_type": "code",
        "outputId": "c6921b85-0907-4fa3-f267-6290a58b8d87",
        "colab": {
          "base_uri": "https://localhost:8080/",
          "height": 126
        }
      },
      "source": [
        "df = X_train\n",
        "df['nutriscore'] = y_train['nutriscore']"
      ],
      "execution_count": 18,
      "outputs": [
        {
          "output_type": "stream",
          "text": [
            "/usr/local/lib/python3.6/dist-packages/ipykernel_launcher.py:2: SettingWithCopyWarning: \n",
            "A value is trying to be set on a copy of a slice from a DataFrame.\n",
            "Try using .loc[row_indexer,col_indexer] = value instead\n",
            "\n",
            "See the caveats in the documentation: http://pandas.pydata.org/pandas-docs/stable/user_guide/indexing.html#returning-a-view-versus-a-copy\n",
            "  \n"
          ],
          "name": "stderr"
        }
      ]
    },
    {
      "cell_type": "code",
      "metadata": {
        "id": "7qD7a4JXRYw3",
        "colab_type": "code",
        "outputId": "38be58e7-e77c-4140-d405-205b83c84383",
        "colab": {
          "base_uri": "https://localhost:8080/",
          "height": 35
        }
      },
      "source": [
        "df.count()[0]"
      ],
      "execution_count": 19,
      "outputs": [
        {
          "output_type": "execute_result",
          "data": {
            "text/plain": [
              "3196"
            ]
          },
          "metadata": {
            "tags": []
          },
          "execution_count": 19
        }
      ]
    },
    {
      "cell_type": "code",
      "metadata": {
        "id": "WO7TNPPfRXrG",
        "colab_type": "code",
        "outputId": "546cd00d-78f0-4a4e-b87f-28ab05cf81d9",
        "colab": {
          "base_uri": "https://localhost:8080/",
          "height": 126
        }
      },
      "source": [
        "test_df = X_test\n",
        "test_df['nutriscore'] = y_test['nutriscore']"
      ],
      "execution_count": 20,
      "outputs": [
        {
          "output_type": "stream",
          "text": [
            "/usr/local/lib/python3.6/dist-packages/ipykernel_launcher.py:2: SettingWithCopyWarning: \n",
            "A value is trying to be set on a copy of a slice from a DataFrame.\n",
            "Try using .loc[row_indexer,col_indexer] = value instead\n",
            "\n",
            "See the caveats in the documentation: http://pandas.pydata.org/pandas-docs/stable/user_guide/indexing.html#returning-a-view-versus-a-copy\n",
            "  \n"
          ],
          "name": "stderr"
        }
      ]
    },
    {
      "cell_type": "code",
      "metadata": {
        "id": "i3FWxHUDRYMv",
        "colab_type": "code",
        "outputId": "3a19cf38-5628-4177-b43a-62275f6ee33c",
        "colab": {
          "base_uri": "https://localhost:8080/",
          "height": 35
        }
      },
      "source": [
        "test_df.count()[0]"
      ],
      "execution_count": 21,
      "outputs": [
        {
          "output_type": "execute_result",
          "data": {
            "text/plain": [
              "799"
            ]
          },
          "metadata": {
            "tags": []
          },
          "execution_count": 21
        }
      ]
    },
    {
      "cell_type": "markdown",
      "metadata": {
        "id": "cif5nJPSY2K3",
        "colab_type": "text"
      },
      "source": [
        "# Formalize the problem"
      ]
    },
    {
      "cell_type": "code",
      "metadata": {
        "id": "fE0nSJUgY4Et",
        "colab_type": "code",
        "outputId": "9d94a734-5df8-4880-a88d-39adcf456dd2",
        "colab": {
          "base_uri": "https://localhost:8080/",
          "height": 53
        }
      },
      "source": [
        "prob = LpProblem(\"The Nutriscore\", LpMinimize)"
      ],
      "execution_count": 22,
      "outputs": [
        {
          "output_type": "stream",
          "text": [
            "/usr/local/lib/python3.6/dist-packages/pulp/pulp.py:1137: UserWarning: Spaces are not permitted in the name. Converted to '_'\n",
            "  warnings.warn(\"Spaces are not permitted in the name. Converted to '_'\")\n"
          ],
          "name": "stderr"
        }
      ]
    },
    {
      "cell_type": "code",
      "metadata": {
        "id": "Sm7QBb3qarJg",
        "colab_type": "code",
        "colab": {}
      },
      "source": [
        "pi = []\n",
        "pi.append([\n",
        "           LpVariable('pi_1_energy', 0, 100),\n",
        "           LpVariable('pi_1_saturated_fat', 0, 100),\n",
        "           LpVariable('pi_1_sugars', 0, 100),\n",
        "           LpVariable('pi_1_fiber', 0, 100),\n",
        "           LpVariable('pi_1_proteins', 0, 100),\n",
        "           LpVariable('pi_1_salt', 0, 100),\n",
        "           ])\n",
        "pi.append([\n",
        "           LpVariable('pi_2_energy', 0, 100),\n",
        "           LpVariable('pi_2_saturated_fat', 0, 100),\n",
        "           LpVariable('pi_2_sugars', 0, 100),\n",
        "           LpVariable('pi_2_fiber', 0, 100),\n",
        "           LpVariable('pi_2_proteins', 0, 100),\n",
        "           LpVariable('pi_2_salt', 0, 100),\n",
        "           ])\n",
        "pi.append([\n",
        "           LpVariable('pi_3_energy', 0, 100),\n",
        "           LpVariable('pi_3_saturated_fat', 0, 100),\n",
        "           LpVariable('pi_3_sugars', 0, 100),\n",
        "           LpVariable('pi_3_fiber', 0, 100),\n",
        "           LpVariable('pi_3_proteins', 0, 100),\n",
        "           LpVariable('pi_3_salt', 0, 100),\n",
        "           ])\n",
        "pi.append([\n",
        "           LpVariable('pi_4_energy', 0, 100),\n",
        "           LpVariable('pi_4_saturated_fat', 0, 100),\n",
        "           LpVariable('pi_4_sugars', 0, 100),\n",
        "           LpVariable('pi_4_fiber', 0, 100),\n",
        "           LpVariable('pi_4_proteins', 0, 100),\n",
        "           LpVariable('pi_4_salt', 0, 100),\n",
        "           ])\n",
        "pi.append([\n",
        "           LpVariable('pi_5_energy', 0, 100),\n",
        "           LpVariable('pi_5_saturated_fat', 0, 100),\n",
        "           LpVariable('pi_5_sugars', 0, 100),\n",
        "           LpVariable('pi_5_fiber', 0, 100),\n",
        "           LpVariable('pi_5_proteins', 0, 100),\n",
        "           LpVariable('pi_5_salt', 0, 100),\n",
        "           ])\n",
        "pi.append([\n",
        "           LpVariable('pi_6_energy', 0, 100),\n",
        "           LpVariable('pi_6_saturated_fat', 0, 100),\n",
        "           LpVariable('pi_6_sugars', 0, 100),\n",
        "           LpVariable('pi_6_fiber', 0, 100),\n",
        "           LpVariable('pi_6_proteins', 0, 100),\n",
        "           LpVariable('pi_6_salt', 0, 100),\n",
        "           ])"
      ],
      "execution_count": 0,
      "outputs": []
    },
    {
      "cell_type": "code",
      "metadata": {
        "id": "RlKSkDwgd_fd",
        "colab_type": "code",
        "colab": {}
      },
      "source": [
        "# Error to minimize\n",
        "eps = []\n",
        "eps.append([\n",
        "           LpVariable('eps_1_energy', 0, 100),\n",
        "           LpVariable('eps_1_saturated_fat', 0, 100),\n",
        "           LpVariable('eps_1_sugars', 0, 100),\n",
        "           LpVariable('eps_1_fiber', 0, 100),\n",
        "           LpVariable('eps_1_proteins', 0, 100),\n",
        "           LpVariable('eps_1_salt', 0, 100),\n",
        "           ])\n",
        "eps.append([\n",
        "           LpVariable('eps_2_energy', 0, 100),\n",
        "           LpVariable('eps_2_saturated_fat', 0, 100),\n",
        "           LpVariable('eps_2_sugars', 0, 100),\n",
        "           LpVariable('eps_2_fiber', 0, 100),\n",
        "           LpVariable('eps_2_proteins', 0, 100),\n",
        "           LpVariable('eps_2_salt', 0, 100),\n",
        "           ])\n",
        "eps.append([\n",
        "           LpVariable('eps_3_energy', 0, 100),\n",
        "           LpVariable('eps_3_saturated_fat', 0, 100),\n",
        "           LpVariable('eps_3_sugars', 0, 100),\n",
        "           LpVariable('eps_3_fiber', 0, 100),\n",
        "           LpVariable('eps_3_proteins', 0, 100),\n",
        "           LpVariable('eps_3_salt', 0, 100),\n",
        "           ])\n",
        "eps.append([\n",
        "           LpVariable('eps_4_energy', 0, 100),\n",
        "           LpVariable('eps_4_saturated_fat', 0, 100),\n",
        "           LpVariable('eps_4_sugars', 0, 100),\n",
        "           LpVariable('eps_4_fiber', 0, 100),\n",
        "           LpVariable('eps_4_proteins', 0, 100),\n",
        "           LpVariable('eps_4_salt', 0, 100),\n",
        "           ])\n",
        "eps.append([\n",
        "           LpVariable('eps_5_energy', 0, 100),\n",
        "           LpVariable('eps_5_saturated_fat', 0, 100),\n",
        "           LpVariable('eps_5_sugars', 0, 100),\n",
        "           LpVariable('eps_5_fiber', 0, 100),\n",
        "           LpVariable('eps_5_proteins', 0, 100),\n",
        "           LpVariable('eps_5_salt', 0, 100),\n",
        "           ])\n",
        "eps.append([\n",
        "           LpVariable('eps_6_energy', 0, 100),\n",
        "           LpVariable('eps_6_saturated_fat', 0, 100),\n",
        "           LpVariable('eps_6_sugars', 0, 100),\n",
        "           LpVariable('eps_6_fiber', 0, 100),\n",
        "           LpVariable('eps_6_proteins', 0, 100),\n",
        "           LpVariable('eps_6_salt', 0, 100),\n",
        "           ])"
      ],
      "execution_count": 0,
      "outputs": []
    },
    {
      "cell_type": "code",
      "metadata": {
        "id": "CfGpshBKepsw",
        "colab_type": "code",
        "colab": {}
      },
      "source": [
        "prob += (lpSum([e for e in eps[0]]) + \n",
        "         lpSum([e for e in eps[1]]) + \n",
        "         lpSum([e for e in eps[2]]) +\n",
        "         lpSum([e for e in eps[3]]) +\n",
        "         lpSum([e for e in eps[4]]) +\n",
        "         lpSum([e for e in eps[5]])), \"Minimize the error in the thresholds\""
      ],
      "execution_count": 0,
      "outputs": []
    },
    {
      "cell_type": "code",
      "metadata": {
        "id": "4lyRGyecg0Ql",
        "colab_type": "code",
        "colab": {}
      },
      "source": [
        "for index, food in df.iterrows():\n",
        "  score = food['nutriscore']\n",
        "  pi_lower = score-1\n",
        "  pi_upper = score\n",
        "  prob += (food['energy'] <= pi[pi_lower][0] + eps[pi_lower][0])\n",
        "  prob += (food['energy'] >= pi[pi_upper][0] - eps[pi_upper][0])\n",
        "  prob += (food['saturated_fat'] <= pi[pi_lower][1] + eps[pi_lower][1])\n",
        "  prob += (food['saturated_fat'] >= pi[pi_upper][1] - eps[pi_upper][1])\n",
        "  prob += (food['sugars'] <= pi[pi_lower][2] + eps[pi_lower][2])\n",
        "  prob += (food['sugars'] >= pi[pi_upper][2] - eps[pi_upper][2])\n",
        "  prob += (food['fiber'] >= pi[pi_lower][3] - eps[pi_lower][3])\n",
        "  prob += (food['fiber'] <= pi[pi_upper][3] + eps[pi_upper][3])\n",
        "  prob += (food['proteins'] >= pi[pi_lower][4] - eps[pi_lower][4])\n",
        "  prob += (food['proteins'] <= pi[pi_upper][4] + eps[pi_upper][4])\n",
        "  prob += (food['salt'] <= pi[pi_lower][5] + eps[pi_lower][5])\n",
        "  prob += (food['salt'] >= pi[pi_upper][5] - eps[pi_upper][5])"
      ],
      "execution_count": 0,
      "outputs": []
    },
    {
      "cell_type": "code",
      "metadata": {
        "id": "6aZ9yiM8inL1",
        "colab_type": "code",
        "colab": {}
      },
      "source": [
        "prob += (pi[0][0] == 100)\n",
        "prob += (pi[0][1] == 100)\n",
        "prob += (pi[0][2] == 100)\n",
        "prob += (pi[0][3] == 0)\n",
        "prob += (pi[0][4] == 0)\n",
        "prob += (pi[0][5] == 100)\n",
        "\n",
        "prob += (pi[5][0] == 0)\n",
        "prob += (pi[5][1] == 0)\n",
        "prob += (pi[5][2] == 0)\n",
        "prob += (pi[5][3] == 100)\n",
        "prob += (pi[5][4] == 100)\n",
        "prob += (pi[5][5] == 0)"
      ],
      "execution_count": 0,
      "outputs": []
    },
    {
      "cell_type": "code",
      "metadata": {
        "id": "XDJURtN5jblE",
        "colab_type": "code",
        "colab": {}
      },
      "source": [
        "prob += (pi[0][0] >= pi[1][0]+1)\n",
        "prob += (pi[1][0] >= pi[2][0]+1)\n",
        "prob += (pi[2][0] >= pi[3][0]+1)\n",
        "prob += (pi[3][0] >= pi[4][0]+1)\n",
        "prob += (pi[4][0] >= pi[5][0]+1)\n",
        "\n",
        "prob += (pi[0][1] >= pi[1][1]+1)\n",
        "prob += (pi[1][1] >= pi[2][1]+1)\n",
        "prob += (pi[2][1] >= pi[3][1]+1)\n",
        "prob += (pi[3][1] >= pi[4][1]+1)\n",
        "prob += (pi[4][1] >= pi[5][1]+1)\n",
        "\n",
        "prob += (pi[0][2] >= pi[1][2]+1)\n",
        "prob += (pi[1][2] >= pi[2][2]+1)\n",
        "prob += (pi[2][2] >= pi[3][2]+1)\n",
        "prob += (pi[3][2] >= pi[4][2]+1)\n",
        "prob += (pi[4][2] >= pi[5][2]+1)\n",
        "\n",
        "prob += (pi[0][3] <= pi[1][3]-1)\n",
        "prob += (pi[1][3] <= pi[2][3]-1)\n",
        "prob += (pi[2][3] <= pi[3][3]-1)\n",
        "prob += (pi[3][3] <= pi[4][3]-1)\n",
        "prob += (pi[4][3] <= pi[5][3]-1)\n",
        "\n",
        "prob += (pi[0][4] <= pi[1][4]-1)\n",
        "prob += (pi[1][4] <= pi[2][4]-1)\n",
        "prob += (pi[2][4] <= pi[3][4]-1)\n",
        "prob += (pi[3][4] <= pi[4][4]-1)\n",
        "prob += (pi[4][4] <= pi[5][4]-1)\n",
        "\n",
        "prob += (pi[0][5] >= pi[1][5]+1)\n",
        "prob += (pi[1][5] >= pi[2][5]+1)\n",
        "prob += (pi[2][5] >= pi[3][5]+1)\n",
        "prob += (pi[3][5] >= pi[4][5]+1)\n",
        "prob += (pi[4][5] >= pi[5][5]+1)"
      ],
      "execution_count": 0,
      "outputs": []
    },
    {
      "cell_type": "code",
      "metadata": {
        "id": "2_yeoT6OigEq",
        "colab_type": "code",
        "outputId": "843d2f70-50ec-4d04-b873-fa0b43cbaa2a",
        "colab": {
          "base_uri": "https://localhost:8080/",
          "height": 35
        }
      },
      "source": [
        "prob.solve()\n",
        "print(\"Status:\", LpStatus[prob.status])"
      ],
      "execution_count": 29,
      "outputs": [
        {
          "output_type": "stream",
          "text": [
            "Status: Optimal\n"
          ],
          "name": "stdout"
        }
      ]
    },
    {
      "cell_type": "code",
      "metadata": {
        "id": "wj3fe14Kl-uK",
        "colab_type": "code",
        "outputId": "1037e545-0875-4e4d-f34f-2c4e57760a31",
        "colab": {
          "base_uri": "https://localhost:8080/",
          "height": 1000
        }
      },
      "source": [
        "# Each of the variables is printed with it's resolved optimum value\n",
        "for v in prob.variables():\n",
        "    print(v.name, \"=\", v.varValue)"
      ],
      "execution_count": 30,
      "outputs": [
        {
          "output_type": "stream",
          "text": [
            "eps_1_energy = 0.0\n",
            "eps_1_fiber = 0.0\n",
            "eps_1_proteins = 0.0\n",
            "eps_1_salt = 0.0\n",
            "eps_1_saturated_fat = 0.0\n",
            "eps_1_sugars = 0.0\n",
            "eps_2_energy = 23.841545\n",
            "eps_2_fiber = 11.0\n",
            "eps_2_proteins = 20.8\n",
            "eps_2_salt = 4.0\n",
            "eps_2_saturated_fat = 21.0\n",
            "eps_2_sugars = 50.0\n",
            "eps_3_energy = 23.062583\n",
            "eps_3_fiber = 28.5\n",
            "eps_3_proteins = 27.5\n",
            "eps_3_salt = 16.52\n",
            "eps_3_saturated_fat = 40.0\n",
            "eps_3_sugars = 35.5\n",
            "eps_4_energy = 19.440746\n",
            "eps_4_fiber = 13.5\n",
            "eps_4_proteins = 14.5\n",
            "eps_4_salt = 2.0\n",
            "eps_4_saturated_fat = 4.45\n",
            "eps_4_sugars = 33.5\n",
            "eps_5_energy = 17.143808\n",
            "eps_5_fiber = 14.5\n",
            "eps_5_proteins = 15.5\n",
            "eps_5_salt = 4.2\n",
            "eps_5_saturated_fat = 3.1\n",
            "eps_5_sugars = 18.5\n",
            "eps_6_energy = 0.0\n",
            "eps_6_fiber = 0.0\n",
            "eps_6_proteins = 0.0\n",
            "eps_6_salt = 0.0\n",
            "eps_6_saturated_fat = 0.0\n",
            "eps_6_sugars = 0.0\n",
            "pi_1_energy = 100.0\n",
            "pi_1_fiber = 0.0\n",
            "pi_1_proteins = 0.0\n",
            "pi_1_salt = 100.0\n",
            "pi_1_saturated_fat = 100.0\n",
            "pi_1_sugars = 100.0\n",
            "pi_2_energy = 25.399467\n",
            "pi_2_fiber = 11.0\n",
            "pi_2_proteins = 12.5\n",
            "pi_2_salt = 4.0\n",
            "pi_2_saturated_fat = 21.0\n",
            "pi_2_sugars = 50.0\n",
            "pi_3_energy = 23.062583\n",
            "pi_3_fiber = 12.5\n",
            "pi_3_proteins = 13.5\n",
            "pi_3_salt = 3.0\n",
            "pi_3_saturated_fat = 20.0\n",
            "pi_3_sugars = 35.5\n",
            "pi_4_energy = 19.440746\n",
            "pi_4_fiber = 13.5\n",
            "pi_4_proteins = 14.5\n",
            "pi_4_salt = 2.0\n",
            "pi_4_saturated_fat = 4.45\n",
            "pi_4_sugars = 33.5\n",
            "pi_5_energy = 17.143808\n",
            "pi_5_fiber = 14.5\n",
            "pi_5_proteins = 15.5\n",
            "pi_5_salt = 1.0\n",
            "pi_5_saturated_fat = 3.1\n",
            "pi_5_sugars = 18.5\n",
            "pi_6_energy = 0.0\n",
            "pi_6_fiber = 100.0\n",
            "pi_6_proteins = 100.0\n",
            "pi_6_salt = 0.0\n",
            "pi_6_saturated_fat = 0.0\n",
            "pi_6_sugars = 0.0\n"
          ],
          "name": "stdout"
        }
      ]
    },
    {
      "cell_type": "code",
      "metadata": {
        "id": "HbuDxYKt2qDH",
        "colab_type": "code",
        "colab": {}
      },
      "source": [
        "pi_lp = pi\n",
        "pi = [[var.value() for var in p] for p in pi_lp]"
      ],
      "execution_count": 0,
      "outputs": []
    },
    {
      "cell_type": "code",
      "metadata": {
        "id": "3ggshEXU3bVS",
        "colab_type": "code",
        "colab": {}
      },
      "source": [
        "pi = np.array(pi)"
      ],
      "execution_count": 0,
      "outputs": []
    },
    {
      "cell_type": "code",
      "metadata": {
        "id": "Lju1KxSZ3kDr",
        "colab_type": "code",
        "colab": {}
      },
      "source": [
        "# rescaling the energy\n",
        "pi[:,0] = pi[:,0]/100 * (max_energy-min_energy)"
      ],
      "execution_count": 0,
      "outputs": []
    },
    {
      "cell_type": "code",
      "metadata": {
        "id": "Vu88ZGrO3_u5",
        "colab_type": "code",
        "outputId": "715dd5a1-eaa7-431f-998a-1a83b74ff441",
        "colab": {
          "base_uri": "https://localhost:8080/",
          "height": 235
        }
      },
      "source": [
        "pi"
      ],
      "execution_count": 34,
      "outputs": [
        {
          "output_type": "execute_result",
          "data": {
            "text/plain": [
              "array([[7.51000000e+03, 1.00000000e+02, 1.00000000e+02, 0.00000000e+00,\n",
              "        0.00000000e+00, 1.00000000e+02],\n",
              "       [1.90749997e+03, 2.10000000e+01, 5.00000000e+01, 1.10000000e+01,\n",
              "        1.25000000e+01, 4.00000000e+00],\n",
              "       [1.73199998e+03, 2.00000000e+01, 3.55000000e+01, 1.25000000e+01,\n",
              "        1.35000000e+01, 3.00000000e+00],\n",
              "       [1.46000002e+03, 4.45000000e+00, 3.35000000e+01, 1.35000000e+01,\n",
              "        1.45000000e+01, 2.00000000e+00],\n",
              "       [1.28749998e+03, 3.10000000e+00, 1.85000000e+01, 1.45000000e+01,\n",
              "        1.55000000e+01, 1.00000000e+00],\n",
              "       [0.00000000e+00, 0.00000000e+00, 0.00000000e+00, 1.00000000e+02,\n",
              "        1.00000000e+02, 0.00000000e+00]])"
            ]
          },
          "metadata": {
            "tags": []
          },
          "execution_count": 34
        }
      ]
    },
    {
      "cell_type": "markdown",
      "metadata": {
        "id": "VnkhHxvn6IoT",
        "colab_type": "text"
      },
      "source": [
        "# Testing"
      ]
    },
    {
      "cell_type": "code",
      "metadata": {
        "id": "lDzs95R2Qxi_",
        "colab_type": "code",
        "colab": {
          "base_uri": "https://localhost:8080/",
          "height": 126
        },
        "outputId": "a4582e20-8ab0-4dc4-b0bf-5df4ec4b58d3"
      },
      "source": [
        "test_df['energy'] = test_df['energy']/100 * (max_energy-min_energy)"
      ],
      "execution_count": 35,
      "outputs": [
        {
          "output_type": "stream",
          "text": [
            "/usr/local/lib/python3.6/dist-packages/ipykernel_launcher.py:1: SettingWithCopyWarning: \n",
            "A value is trying to be set on a copy of a slice from a DataFrame.\n",
            "Try using .loc[row_indexer,col_indexer] = value instead\n",
            "\n",
            "See the caveats in the documentation: http://pandas.pydata.org/pandas-docs/stable/user_guide/indexing.html#returning-a-view-versus-a-copy\n",
            "  \"\"\"Entry point for launching an IPython kernel.\n"
          ],
          "name": "stderr"
        }
      ]
    },
    {
      "cell_type": "code",
      "metadata": {
        "id": "YK7jsjrK68tt",
        "colab_type": "code",
        "colab": {}
      },
      "source": [
        "# Method could be 'optimistic' or 'pessimistic'\n",
        "def predict(food, pi, method='optimistic'):\n",
        "  w = 1\n",
        "  \n",
        "  if method == 'optimistic': \n",
        "    starting_index = -(len(pi)-1)\n",
        "    ending_index = 0\n",
        "  else:\n",
        "    starting_index = 0\n",
        "    ending_index = len(pi)-1\n",
        "  \n",
        "  max_score = 0\n",
        "  max_index = starting_index\n",
        "  \n",
        "  i = starting_index\n",
        "  while (i < ending_index):\n",
        "    index = -i if method == 'optimistic' else i\n",
        "    adj_index = index-1 if method == 'optimistic' else index+1\n",
        "\n",
        "    score = 0\n",
        "    if (method=='optimistic' and food['energy'] <= pi[adj_index][0] and food['energy'] >= pi[index][0]) or \\\n",
        "        (method!='optimistic' and food['energy'] >= pi[adj_index][0] and food['energy'] <= pi[index][0]):\n",
        "        score += w\n",
        "    if (method=='optimistic' and food['saturated_fat'] <= pi[adj_index][1] and food['saturated_fat'] >= pi[index][1]) or \\\n",
        "        (method!='optimistic' and food['saturated_fat'] >= pi[adj_index][1] and food['saturated_fat'] <= pi[index][1]):\n",
        "        score += w\n",
        "    if (method=='optimistic' and food['sugars'] <= pi[adj_index][2] and food['sugars'] >= pi[index][2]) or \\\n",
        "        (method!='optimistic' and food['sugars'] >= pi[adj_index][2] and food['sugars'] <= pi[index][2]):\n",
        "        score += w\n",
        "    if (method=='optimistic' and food['fiber'] >= pi[adj_index][3] and food['fiber'] <= pi[index][3]) or \\\n",
        "        (method!='optimistic' and food['fiber'] <= pi[adj_index][3] and food['fiber'] >= pi[index][3]):\n",
        "        score += w\n",
        "    if (method=='optimistic' and food['proteins'] >= pi[adj_index][4] and food['proteins'] <= pi[index][4]) or \\\n",
        "        (method!='optimistic' and food['proteins'] <= pi[adj_index][4] and food['proteins'] >= pi[index][4]):\n",
        "        score += w\n",
        "    if (method=='optimistic' and food['salt'] <= pi[adj_index][5] and food['salt'] >= pi[index][5]) or \\\n",
        "        (method!='optimistic' and food['salt'] >= pi[adj_index][5] and food['salt'] <= pi[index][5]):\n",
        "        score += w\n",
        "      \n",
        "    if score > max_score:\n",
        "      max_score = score\n",
        "      max_index = index\n",
        "    i += 1\n",
        "  \n",
        "  return max_index if method =='optimistic' else max_index+1\n",
        "  "
      ],
      "execution_count": 0,
      "outputs": []
    },
    {
      "cell_type": "code",
      "metadata": {
        "id": "n4mhFzHa6Sd1",
        "colab_type": "code",
        "colab": {}
      },
      "source": [
        "y_pred = []\n",
        "\n",
        "for index, food in test_df.iterrows():\n",
        "  pred = predict(food, pi, 'pessimistic')\n",
        "  y_pred.append(pred)"
      ],
      "execution_count": 0,
      "outputs": []
    },
    {
      "cell_type": "code",
      "metadata": {
        "id": "1769RZMdEjiR",
        "colab_type": "code",
        "outputId": "600d808d-c85c-43f1-d8d6-49d5d528375f",
        "colab": {
          "base_uri": "https://localhost:8080/",
          "height": 35
        }
      },
      "source": [
        "(test_df['nutriscore'] == y_pred).mean()"
      ],
      "execution_count": 38,
      "outputs": [
        {
          "output_type": "execute_result",
          "data": {
            "text/plain": [
              "0.36295369211514394"
            ]
          },
          "metadata": {
            "tags": []
          },
          "execution_count": 38
        }
      ]
    },
    {
      "cell_type": "code",
      "metadata": {
        "id": "jDRZfnhgD32f",
        "colab_type": "code",
        "outputId": "0232a290-f546-4333-d996-3f869b4db414",
        "colab": {
          "base_uri": "https://localhost:8080/",
          "height": 1000
        }
      },
      "source": [
        "plt.rcParams[\"figure.figsize\"] = [12,9]\n",
        "\n",
        "cm = confusion_matrix(list(test_df['nutriscore']), y_pred, labels=[1,2,3,4,5])\n",
        "\n",
        "labels = ['A','B','C','D','E']\n",
        "\n",
        "fig = plt.figure()\n",
        "ax = fig.add_subplot(111)\n",
        "cax = ax.matshow(cm)\n",
        "plt.title('Confusion matrix, without normalization')\n",
        "fig.colorbar(cax)\n",
        "ax.set_xticklabels([''] + labels)\n",
        "ax.set_yticklabels([''] + labels)\n",
        "plt.xlabel('Predicted label')\n",
        "plt.ylabel('True label')\n",
        "plt.savefig('confusion_matrix_mrsort_pessimistic.jpg')\n",
        "\n",
        "cm_norm = cm.astype('float') / cm.sum(axis=1)[:, np.newaxis]\n",
        "\n",
        "fig = plt.figure()\n",
        "ax = fig.add_subplot(111)\n",
        "cax = ax.matshow(cm_norm)\n",
        "plt.title('Normalized confusion matrix')\n",
        "fig.colorbar(cax)\n",
        "ax.set_xticklabels([''] + labels)\n",
        "ax.set_yticklabels([''] + labels)\n",
        "plt.xlabel('Predicted label')\n",
        "plt.ylabel('True label')\n",
        "plt.savefig('confusion_matrix_norm_mrsort_pessimistic.jpg')"
      ],
      "execution_count": 39,
      "outputs": [
        {
          "output_type": "display_data",
          "data": {
            "image/png": "[encoded data removed]",
            "text/plain": [
              "<Figure size 864x648 with 2 Axes>"
            ]
          },
          "metadata": {
            "tags": []
          }
        },
        {
          "output_type": "display_data",
          "data": {
            "image/png": "[encoded data removed]",
            "text/plain": [
              "<Figure size 864x648 with 2 Axes>"
            ]
          },
          "metadata": {
            "tags": []
          }
        }
      ]
    },
    {
      "cell_type": "code",
      "metadata": {
        "id": "oAHA9OHFEv7l",
        "colab_type": "code",
        "colab": {}
      },
      "source": [
        "y_pred = []\n",
        "\n",
        "for index, food in test_df.iterrows():\n",
        "  pred = predict(food, pi)\n",
        "  y_pred.append(pred)"
      ],
      "execution_count": 0,
      "outputs": []
    },
    {
      "cell_type": "code",
      "metadata": {
        "id": "l-B9oq2fE0-H",
        "colab_type": "code",
        "outputId": "73e9f692-3815-411a-e466-4aa9b987d0f4",
        "colab": {
          "base_uri": "https://localhost:8080/",
          "height": 35
        }
      },
      "source": [
        "(test_df['nutriscore'] == y_pred).mean()"
      ],
      "execution_count": 41,
      "outputs": [
        {
          "output_type": "execute_result",
          "data": {
            "text/plain": [
              "0.344180225281602"
            ]
          },
          "metadata": {
            "tags": []
          },
          "execution_count": 41
        }
      ]
    },
    {
      "cell_type": "code",
      "metadata": {
        "id": "9-gDSfc_IhGe",
        "colab_type": "code",
        "outputId": "dae00608-bdf9-49e6-8695-262cee0533a2",
        "colab": {
          "base_uri": "https://localhost:8080/",
          "height": 1000
        }
      },
      "source": [
        "plt.rcParams[\"figure.figsize\"] = [12,9]\n",
        "\n",
        "cm = confusion_matrix(list(test_df['nutriscore']), y_pred, labels=[1,2,3,4,5])\n",
        "\n",
        "labels = ['A','B','C','D','E']\n",
        "\n",
        "fig = plt.figure()\n",
        "ax = fig.add_subplot(111)\n",
        "cax = ax.matshow(cm)\n",
        "plt.title('Confusion matrix, without normalization')\n",
        "fig.colorbar(cax)\n",
        "ax.set_xticklabels([''] + labels)\n",
        "ax.set_yticklabels([''] + labels)\n",
        "plt.xlabel('Predicted label')\n",
        "plt.ylabel('True label')\n",
        "plt.savefig('confusion_matrix_mrsort_optimistic.jpg')\n",
        "\n",
        "cm_norm = cm.astype('float') / cm.sum(axis=1)[:, np.newaxis]\n",
        "\n",
        "fig = plt.figure()\n",
        "ax = fig.add_subplot(111)\n",
        "cax = ax.matshow(cm_norm)\n",
        "plt.title('Normalized confusion matrix')\n",
        "fig.colorbar(cax)\n",
        "ax.set_xticklabels([''] + labels)\n",
        "ax.set_yticklabels([''] + labels)\n",
        "plt.xlabel('Predicted label')\n",
        "plt.ylabel('True label')\n",
        "plt.savefig('confusion_matrix_norm_mrsort_optimistic.jpg')"
      ],
      "execution_count": 42,
      "outputs": [
        {
          "output_type": "display_data",
          "data": {
            "image/png": "[encoded data removed]",
            "text/plain": [
              "<Figure size 864x648 with 2 Axes>"
            ]
          },
          "metadata": {
            "tags": []
          }
        },
        {
          "output_type": "display_data",
          "data": {
            "image/png": "[encoded data removed]",
            "text/plain": [
              "<Figure size 864x648 with 2 Axes>"
            ]
          },
          "metadata": {
            "tags": []
          }
        }
      ]
    },
    {
      "cell_type": "markdown",
      "metadata": {
        "id": "xD_Pmk43FaTx",
        "colab_type": "text"
      },
      "source": [
        "# Set the thesholds of the model manually"
      ]
    },
    {
      "cell_type": "code",
      "metadata": {
        "id": "a8WXfnaFFpxx",
        "colab_type": "code",
        "colab": {}
      },
      "source": [
        "pi_2 = np.array([\n",
        "                 [7510, 100, 100, 0, 0, 100],\n",
        "                 [2009.9287999838757, 13.665507455827129, 33.394564151406406, 41, 20, 2],\n",
        "                 [1663.6701553788262, 7.0429976703970345, 22.053303416636737, 27, 40, 1.2891238778338736],\n",
        "                 [1446, 2.491991002779214, 13.354606049373178, 22, 60, 0.546764428138622],\n",
        "                 [1205.146460873095, 1.1531811366411016, 8.106302920220942, 80, 80, 0.3882400255443486],\n",
        "                 [0, 0, 0, 100, 100, 0]\n",
        "])\n",
        "\n",
        "# pi_2 = np.array([\n",
        "#                  [7510, 100, 100, 0, 0, 100],\n",
        "#                  [3698, 42, 100, 41, 41, 8],\n",
        "#                  [3464, 60, 71, 27.0, 29, 19.52],\n",
        "#                  [2920, 8.9, 67, 12.8, 27, 2.64],\n",
        "#                  [2575, 6.2, 37, 47.8, 32, 5.2],\n",
        "#                  [0, 0, 0, 100, 100, 0]\n",
        "# ])"
      ],
      "execution_count": 0,
      "outputs": []
    },
    {
      "cell_type": "code",
      "metadata": {
        "id": "r8op2iLfF-y9",
        "colab_type": "code",
        "colab": {}
      },
      "source": [
        "y_pred = []\n",
        "\n",
        "for index, food in test_df.iterrows():\n",
        "  pred = predict(food, pi_2, 'pessimistic')\n",
        "  y_pred.append(pred)"
      ],
      "execution_count": 0,
      "outputs": []
    },
    {
      "cell_type": "code",
      "metadata": {
        "colab_type": "code",
        "id": "4GwCYf-LHdC3",
        "outputId": "e5dc5c01-531e-4b8f-86bd-33eaf60e0b47",
        "colab": {
          "base_uri": "https://localhost:8080/",
          "height": 35
        }
      },
      "source": [
        "(test_df['nutriscore'] == y_pred).mean()"
      ],
      "execution_count": 45,
      "outputs": [
        {
          "output_type": "execute_result",
          "data": {
            "text/plain": [
              "0.36295369211514394"
            ]
          },
          "metadata": {
            "tags": []
          },
          "execution_count": 45
        }
      ]
    },
    {
      "cell_type": "code",
      "metadata": {
        "colab_type": "code",
        "outputId": "d81535a2-626c-4f40-c19d-6f3845a6dbe1",
        "id": "CBNOF4ueHdC0",
        "colab": {
          "base_uri": "https://localhost:8080/",
          "height": 1000
        }
      },
      "source": [
        "plt.rcParams[\"figure.figsize\"] = [12,9]\n",
        "\n",
        "cm = confusion_matrix(list(test_df['nutriscore']), y_pred, labels=[1,2,3,4,5])\n",
        "\n",
        "labels = ['A','B','C','D','E']\n",
        "\n",
        "fig = plt.figure()\n",
        "ax = fig.add_subplot(111)\n",
        "cax = ax.matshow(cm)\n",
        "plt.title('Confusion matrix, without normalization')\n",
        "fig.colorbar(cax)\n",
        "ax.set_xticklabels([''] + labels)\n",
        "ax.set_yticklabels([''] + labels)\n",
        "plt.xlabel('Predicted label')\n",
        "plt.ylabel('True label')\n",
        "plt.savefig('confusion_matrix_mrsort_pessimistic_manual.jpg')\n",
        "\n",
        "cm_norm = cm.astype('float') / cm.sum(axis=1)[:, np.newaxis]\n",
        "\n",
        "fig = plt.figure()\n",
        "ax = fig.add_subplot(111)\n",
        "cax = ax.matshow(cm_norm)\n",
        "plt.title('Normalized confusion matrix')\n",
        "fig.colorbar(cax)\n",
        "ax.set_xticklabels([''] + labels)\n",
        "ax.set_yticklabels([''] + labels)\n",
        "plt.xlabel('Predicted label')\n",
        "plt.ylabel('True label')\n",
        "plt.savefig('confusion_matrix_norm_mrsort_pessimistic_manual.jpg')"
      ],
      "execution_count": 46,
      "outputs": [
        {
          "output_type": "display_data",
          "data": {
            "image/png": "[encoded data removed]",
            "text/plain": [
              "<Figure size 864x648 with 2 Axes>"
            ]
          },
          "metadata": {
            "tags": []
          }
        },
        {
          "output_type": "display_data",
          "data": {
            "image/png": "[encoded data removed]",
            "text/plain": [
              "<Figure size 864x648 with 2 Axes>"
            ]
          },
          "metadata": {
            "tags": []
          }
        }
      ]
    },
    {
      "cell_type": "code",
      "metadata": {
        "colab_type": "code",
        "id": "pO8dnDwlJG5N",
        "colab": {}
      },
      "source": [
        "y_pred = []\n",
        "\n",
        "for index, food in test_df.iterrows():\n",
        "  pred = predict(food, pi_2)\n",
        "  y_pred.append(pred)"
      ],
      "execution_count": 0,
      "outputs": []
    },
    {
      "cell_type": "code",
      "metadata": {
        "colab_type": "code",
        "outputId": "8c970567-7199-401b-eb8a-9559978ebf0d",
        "id": "6Jw4DFcFJG5z",
        "colab": {
          "base_uri": "https://localhost:8080/",
          "height": 35
        }
      },
      "source": [
        "(test_df['nutriscore'] == y_pred).mean()"
      ],
      "execution_count": 48,
      "outputs": [
        {
          "output_type": "execute_result",
          "data": {
            "text/plain": [
              "0.3954943679599499"
            ]
          },
          "metadata": {
            "tags": []
          },
          "execution_count": 48
        }
      ]
    },
    {
      "cell_type": "code",
      "metadata": {
        "colab_type": "code",
        "outputId": "dce8ed44-d0c3-4d24-ae3f-943f3acef9c8",
        "id": "9MwQneHpJG6D",
        "colab": {
          "base_uri": "https://localhost:8080/",
          "height": 1000
        }
      },
      "source": [
        "plt.rcParams[\"figure.figsize\"] = [12,9]\n",
        "\n",
        "cm = confusion_matrix(list(test_df['nutriscore']), y_pred, labels=[1,2,3,4,5])\n",
        "\n",
        "labels = ['A','B','C','D','E']\n",
        "\n",
        "fig = plt.figure()\n",
        "ax = fig.add_subplot(111)\n",
        "cax = ax.matshow(cm)\n",
        "plt.title('Confusion matrix, without normalization')\n",
        "fig.colorbar(cax)\n",
        "ax.set_xticklabels([''] + labels)\n",
        "ax.set_yticklabels([''] + labels)\n",
        "plt.xlabel('Predicted label')\n",
        "plt.ylabel('True label')\n",
        "plt.savefig('confusion_matrix_mrsort_optimistic_manual.jpg')\n",
        "\n",
        "cm_norm = cm.astype('float') / cm.sum(axis=1)[:, np.newaxis]\n",
        "\n",
        "fig = plt.figure()\n",
        "ax = fig.add_subplot(111)\n",
        "cax = ax.matshow(cm_norm)\n",
        "plt.title('Normalized confusion matrix')\n",
        "fig.colorbar(cax)\n",
        "ax.set_xticklabels([''] + labels)\n",
        "ax.set_yticklabels([''] + labels)\n",
        "plt.xlabel('Predicted label')\n",
        "plt.ylabel('True label')\n",
        "plt.savefig('confusion_matrix_norm_mrsort_optimistic_manual.jpg')"
      ],
      "execution_count": 49,
      "outputs": [
        {
          "output_type": "display_data",
          "data": {
            "image/png": "[encoded data removed]",
            "text/plain": [
              "<Figure size 864x648 with 2 Axes>"
            ]
          },
          "metadata": {
            "tags": []
          }
        },
        {
          "output_type": "display_data",
          "data": {
            "image/png": "[encoded data removed]",
            "text/plain": [
              "<Figure size 864x648 with 2 Axes>"
            ]
          },
          "metadata": {
            "tags": []
          }
        }
      ]
    }
  ]
}