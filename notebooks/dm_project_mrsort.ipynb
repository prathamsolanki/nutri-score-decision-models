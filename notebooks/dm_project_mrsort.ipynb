{
  "nbformat": 4,
  "nbformat_minor": 0,
  "metadata": {
    "colab": {
      "name": "dm_project_mrsort.ipynb",
      "provenance": [],
      "collapsed_sections": []
    },
    "kernelspec": {
      "name": "python3",
      "display_name": "Python 3"
    }
  },
  "cells": [
    {
      "cell_type": "code",
      "metadata": {
        "id": "p1HCEtOyXZtD",
        "colab_type": "code",
        "outputId": "42f2a3ff-e9d7-4a61-eef5-e0d3ead4bf50",
        "colab": {
          "base_uri": "https://localhost:8080/",
          "height": 126
        }
      },
      "source": [
        "!pip install pulp\n",
        "from pulp import *\n",
        "import pandas as pd\n",
        "import sys\n",
        "import matplotlib.pyplot as plt\n",
        "import numpy as np\n",
        "from sklearn.model_selection import train_test_split\n",
        "from sklearn.metrics import confusion_matrix"
      ],
      "execution_count": 1,
      "outputs": [
        {
          "output_type": "stream",
          "text": [
            "Collecting pulp\n",
            "\u001b[?25l  Downloading https://files.pythonhosted.org/packages/fb/34/ff5915ff6bae91cfb7c4cc22c3c369a6aea0b2127045dd5f308a91c260ac/PuLP-2.0-py3-none-any.whl (39.2MB)\n",
            "\u001b[K     |████████████████████████████████| 39.2MB 104kB/s \n",
            "\u001b[?25hRequirement already satisfied: pyparsing>=2.0.1 in /usr/local/lib/python3.6/dist-packages (from pulp) (2.4.6)\n",
            "Installing collected packages: pulp\n",
            "Successfully installed pulp-2.0\n"
          ],
          "name": "stdout"
        }
      ]
    },
    {
      "cell_type": "code",
      "metadata": {
        "id": "8gOG5FGwXZtM",
        "colab_type": "code",
        "colab": {}
      },
      "source": [
        "#!{sys.executable} -m pip install xlrd"
      ],
      "execution_count": 0,
      "outputs": []
    },
    {
      "cell_type": "markdown",
      "metadata": {
        "id": "APb3RUyeXZtR",
        "colab_type": "text"
      },
      "source": [
        "# Importing the dataset"
      ]
    },
    {
      "cell_type": "code",
      "metadata": {
        "id": "f5bsWUahXZtT",
        "colab_type": "code",
        "outputId": "93298ea5-664d-418c-fba4-16ed8c3ba5d5",
        "colab": {
          "base_uri": "https://localhost:8080/",
          "height": 108
        }
      },
      "source": [
        "df = pd.read_excel(\"openfoodfacts_simplified_database.xlsx\")\n",
        "df = df[~df['nutrition_grade_fr'].isna()]\n",
        "df['nutrition_grade_fr'].describe()"
      ],
      "execution_count": 3,
      "outputs": [
        {
          "output_type": "execute_result",
          "data": {
            "text/plain": [
              "count     5925\n",
              "unique       5\n",
              "top          d\n",
              "freq      1599\n",
              "Name: nutrition_grade_fr, dtype: object"
            ]
          },
          "metadata": {
            "tags": []
          },
          "execution_count": 3
        }
      ]
    },
    {
      "cell_type": "code",
      "metadata": {
        "id": "jm0mPNuoz4kx",
        "colab_type": "code",
        "colab": {}
      },
      "source": [
        "# df['pnns_groups_1'].unique()"
      ],
      "execution_count": 0,
      "outputs": []
    },
    {
      "cell_type": "code",
      "metadata": {
        "id": "QmTXRiZV0cbu",
        "colab_type": "code",
        "colab": {}
      },
      "source": [
        "# df = df[df['pnns_groups_1'] == 'Milk and dairy products']\n",
        "# df = df[df['pnns_groups_2'] == 'Cheese']\n",
        "# df['pnns_groups_2'].unique()"
      ],
      "execution_count": 0,
      "outputs": []
    },
    {
      "cell_type": "code",
      "metadata": {
        "id": "H-xUA-96XZte",
        "colab_type": "code",
        "outputId": "d64f8269-cd01-47cc-e0c0-c5ccb3575665",
        "colab": {
          "base_uri": "https://localhost:8080/",
          "height": 206
        }
      },
      "source": [
        "cols = ['energy_100g', 'saturated-fat_100g', 'sugars_100g', 'fiber_100g', 'proteins_100g', 'sodium_100g', 'nutrition_grade_fr']\n",
        "df = df[cols]\n",
        "df.columns = ['energy', 'saturated_fat', 'sugars', 'fiber', 'proteins', 'salt', 'nutriscore']\n",
        "df.head()"
      ],
      "execution_count": 6,
      "outputs": [
        {
          "output_type": "execute_result",
          "data": {
            "text/html": [
              "<div>\n",
              "<style scoped>\n",
              "    .dataframe tbody tr th:only-of-type {\n",
              "        vertical-align: middle;\n",
              "    }\n",
              "\n",
              "    .dataframe tbody tr th {\n",
              "        vertical-align: top;\n",
              "    }\n",
              "\n",
              "    .dataframe thead th {\n",
              "        text-align: right;\n",
              "    }\n",
              "</style>\n",
              "<table border=\"1\" class=\"dataframe\">\n",
              "  <thead>\n",
              "    <tr style=\"text-align: right;\">\n",
              "      <th></th>\n",
              "      <th>energy</th>\n",
              "      <th>saturated_fat</th>\n",
              "      <th>sugars</th>\n",
              "      <th>fiber</th>\n",
              "      <th>proteins</th>\n",
              "      <th>salt</th>\n",
              "      <th>nutriscore</th>\n",
              "    </tr>\n",
              "  </thead>\n",
              "  <tbody>\n",
              "    <tr>\n",
              "      <th>0</th>\n",
              "      <td>590.0</td>\n",
              "      <td>0.5</td>\n",
              "      <td>5.5</td>\n",
              "      <td>1.8</td>\n",
              "      <td>6.2</td>\n",
              "      <td>0.236</td>\n",
              "      <td>b</td>\n",
              "    </tr>\n",
              "    <tr>\n",
              "      <th>3</th>\n",
              "      <td>1477.0</td>\n",
              "      <td>1.5</td>\n",
              "      <td>10.0</td>\n",
              "      <td>9.9</td>\n",
              "      <td>5.4</td>\n",
              "      <td>2.200</td>\n",
              "      <td>b</td>\n",
              "    </tr>\n",
              "    <tr>\n",
              "      <th>4</th>\n",
              "      <td>176.0</td>\n",
              "      <td>0.0</td>\n",
              "      <td>9.7</td>\n",
              "      <td>0.0</td>\n",
              "      <td>0.5</td>\n",
              "      <td>0.000</td>\n",
              "      <td>c</td>\n",
              "    </tr>\n",
              "    <tr>\n",
              "      <th>8</th>\n",
              "      <td>1022.0</td>\n",
              "      <td>1.9</td>\n",
              "      <td>0.5</td>\n",
              "      <td>1.4</td>\n",
              "      <td>12.0</td>\n",
              "      <td>0.332</td>\n",
              "      <td>b</td>\n",
              "    </tr>\n",
              "    <tr>\n",
              "      <th>9</th>\n",
              "      <td>196.0</td>\n",
              "      <td>0.0</td>\n",
              "      <td>11.0</td>\n",
              "      <td>0.5</td>\n",
              "      <td>0.7</td>\n",
              "      <td>0.040</td>\n",
              "      <td>c</td>\n",
              "    </tr>\n",
              "  </tbody>\n",
              "</table>\n",
              "</div>"
            ],
            "text/plain": [
              "   energy  saturated_fat  sugars  fiber  proteins   salt nutriscore\n",
              "0   590.0            0.5     5.5    1.8       6.2  0.236          b\n",
              "3  1477.0            1.5    10.0    9.9       5.4  2.200          b\n",
              "4   176.0            0.0     9.7    0.0       0.5  0.000          c\n",
              "8  1022.0            1.9     0.5    1.4      12.0  0.332          b\n",
              "9   196.0            0.0    11.0    0.5       0.7  0.040          c"
            ]
          },
          "metadata": {
            "tags": []
          },
          "execution_count": 6
        }
      ]
    },
    {
      "cell_type": "code",
      "metadata": {
        "id": "uP_lRee0XZtg",
        "colab_type": "code",
        "colab": {}
      },
      "source": [
        "df = df[~df['energy'].isna()]\n",
        "df = df[~df['saturated_fat'].isna()]\n",
        "df = df[~df['sugars'].isna()]\n",
        "df = df[~df['fiber'].isna()]\n",
        "df = df[~df['proteins'].isna()]\n",
        "df = df[~df['salt'].isna()]"
      ],
      "execution_count": 0,
      "outputs": []
    },
    {
      "cell_type": "code",
      "metadata": {
        "id": "X8Bf4GIm1Xsh",
        "colab_type": "code",
        "colab": {}
      },
      "source": [
        "max_energy = df['energy'].max()\n",
        "min_energy = df['energy'].min()\n",
        "\n",
        "max_saturated_fat = df['saturated_fat'].max()\n",
        "min_saturated_fat = df['saturated_fat'].min()\n",
        "\n",
        "max_sugars = df['sugars'].max()\n",
        "min_sugars = df['sugars'].min()\n",
        "\n",
        "max_fiber = df['fiber'].max()\n",
        "min_fiber = df['fiber'].min()\n",
        "\n",
        "max_proteins = df['proteins'].max()\n",
        "min_proteins = df['proteins'].min()\n",
        "\n",
        "max_salt = df['salt'].max()\n",
        "min_salt = df['salt'].min()"
      ],
      "execution_count": 0,
      "outputs": []
    },
    {
      "cell_type": "code",
      "metadata": {
        "id": "hz8mFPtxYc_o",
        "colab_type": "code",
        "outputId": "601ed63d-1e4c-4b90-f065-7a296bf1020a",
        "colab": {
          "base_uri": "https://localhost:8080/",
          "height": 283
        }
      },
      "source": [
        "df['nutriscore'].hist()"
      ],
      "execution_count": 9,
      "outputs": [
        {
          "output_type": "execute_result",
          "data": {
            "text/plain": [
              "<matplotlib.axes._subplots.AxesSubplot at 0x7fb7ad0ab1d0>"
            ]
          },
          "metadata": {
            "tags": []
          },
          "execution_count": 9
        },
        {
          "output_type": "display_data",
          "data": {
            "image/png": "[encoded data removed]",
            "text/plain": [
              "<Figure size 432x288 with 1 Axes>"
            ]
          },
          "metadata": {
            "tags": []
          }
        }
      ]
    },
    {
      "cell_type": "code",
      "metadata": {
        "id": "Ie9r1maW4vLm",
        "colab_type": "code",
        "colab": {}
      },
      "source": [
        "df['nutriscore'] = np.where(df['nutriscore']=='a', 5, df['nutriscore'])\n",
        "df['nutriscore'] = np.where(df['nutriscore']=='b', 4, df['nutriscore'])\n",
        "df['nutriscore'] = np.where(df['nutriscore']=='c', 3, df['nutriscore'])\n",
        "df['nutriscore'] = np.where(df['nutriscore']=='d', 2, df['nutriscore'])\n",
        "df['nutriscore'] = np.where(df['nutriscore']=='e', 1, df['nutriscore'])"
      ],
      "execution_count": 0,
      "outputs": []
    },
    {
      "cell_type": "code",
      "metadata": {
        "id": "c8vJZ6IufpQJ",
        "colab_type": "code",
        "outputId": "4da36155-4084-42e7-baaa-07883362e5c0",
        "colab": {
          "base_uri": "https://localhost:8080/",
          "height": 108
        }
      },
      "source": [
        "print(df[df['nutriscore'] == 1]['energy'].max(), df[df['nutriscore'] == 1]['energy'].min(), df[df['nutriscore'] == 1]['energy'].mean(), df[df['nutriscore'] == 1]['energy'].std())\n",
        "print(df[df['nutriscore'] == 2]['energy'].max(), df[df['nutriscore'] == 2]['energy'].min(), df[df['nutriscore'] == 2]['energy'].mean(), df[df['nutriscore'] == 2]['energy'].std())\n",
        "print(df[df['nutriscore'] == 3]['energy'].max(), df[df['nutriscore'] == 3]['energy'].min(), df[df['nutriscore'] == 3]['energy'].mean(), df[df['nutriscore'] == 3]['energy'].std())\n",
        "print(df[df['nutriscore'] == 4]['energy'].max(), df[df['nutriscore'] == 4]['energy'].min(), df[df['nutriscore'] == 4]['energy'].mean(), df[df['nutriscore'] == 4]['energy'].std())\n",
        "print(df[df['nutriscore'] == 5]['energy'].max(), df[df['nutriscore'] == 5]['energy'].min(), df[df['nutriscore'] == 5]['energy'].mean(), df[df['nutriscore'] == 5]['energy'].std())"
      ],
      "execution_count": 11,
      "outputs": [
        {
          "output_type": "stream",
          "text": [
            "7510.0 117.0 1918.4272445820434 682.5797509477326\n",
            "3698.0 0.0 1414.8306451612902 595.0981548225855\n",
            "3464.0 0.0 984.2051282051282 679.4650271736979\n",
            "2920.0 0.0 678.0013333333333 514.6467395302051\n",
            "2575.0 0.0 643.7117270788913 561.4347337942038\n"
          ],
          "name": "stdout"
        }
      ]
    },
    {
      "cell_type": "code",
      "metadata": {
        "id": "0JbAMgMOgtK3",
        "colab_type": "code",
        "outputId": "7398396f-1653-4a05-9ad9-1beaa9672c75",
        "colab": {
          "base_uri": "https://localhost:8080/",
          "height": 108
        }
      },
      "source": [
        "print(df[df['nutriscore'] == 1]['saturated_fat'].max(), df[df['nutriscore'] == 1]['saturated_fat'].min(), df[df['nutriscore'] == 1]['saturated_fat'].mean(), df[df['nutriscore'] == 1]['saturated_fat'].std())\n",
        "print(df[df['nutriscore'] == 2]['saturated_fat'].max(), df[df['nutriscore'] == 2]['saturated_fat'].min(), df[df['nutriscore'] == 2]['saturated_fat'].mean(), df[df['nutriscore'] == 2]['saturated_fat'].std())\n",
        "print(df[df['nutriscore'] == 3]['saturated_fat'].max(), df[df['nutriscore'] == 3]['saturated_fat'].min(), df[df['nutriscore'] == 3]['saturated_fat'].mean(), df[df['nutriscore'] == 3]['saturated_fat'].std())\n",
        "print(df[df['nutriscore'] == 4]['saturated_fat'].max(), df[df['nutriscore'] == 4]['saturated_fat'].min(), df[df['nutriscore'] == 4]['saturated_fat'].mean(), df[df['nutriscore'] == 4]['saturated_fat'].std())\n",
        "print(df[df['nutriscore'] == 5]['saturated_fat'].max(), df[df['nutriscore'] == 5]['saturated_fat'].min(), df[df['nutriscore'] == 5]['saturated_fat'].mean(), df[df['nutriscore'] == 5]['saturated_fat'].std())"
      ],
      "execution_count": 12,
      "outputs": [
        {
          "output_type": "stream",
          "text": [
            "100.0 0.0 15.454705882352949 11.523354465190025\n",
            "42.0 0.0 7.210897177419362 6.454610278407766\n",
            "60.0 0.0 2.8419413919413934 4.201056278455641\n",
            "8.9 0.0 1.2675683333333334 1.2244226694458804\n",
            "6.2 0.0 0.4827775053304908 0.6704036313106108\n"
          ],
          "name": "stdout"
        }
      ]
    },
    {
      "cell_type": "code",
      "metadata": {
        "id": "MWJZk92qgVwD",
        "colab_type": "code",
        "outputId": "02c244f9-3b2d-49b5-ab6d-5f417bbc9abc",
        "colab": {
          "base_uri": "https://localhost:8080/",
          "height": 108
        }
      },
      "source": [
        "print(df[df['nutriscore'] == 1]['sugars'].max(), df[df['nutriscore'] == 1]['sugars'].min(), df[df['nutriscore'] == 1]['sugars'].mean(), df[df['nutriscore'] == 1]['sugars'].std())\n",
        "print(df[df['nutriscore'] == 2]['sugars'].max(), df[df['nutriscore'] == 2]['sugars'].min(), df[df['nutriscore'] == 2]['sugars'].mean(), df[df['nutriscore'] == 2]['sugars'].std())\n",
        "print(df[df['nutriscore'] == 3]['sugars'].max(), df[df['nutriscore'] == 3]['sugars'].min(), df[df['nutriscore'] == 3]['sugars'].mean(), df[df['nutriscore'] == 3]['sugars'].std())\n",
        "print(df[df['nutriscore'] == 4]['sugars'].max(), df[df['nutriscore'] == 4]['sugars'].min(), df[df['nutriscore'] == 4]['sugars'].mean(), df[df['nutriscore'] == 4]['sugars'].std())\n",
        "print(df[df['nutriscore'] == 5]['sugars'].max(), df[df['nutriscore'] == 5]['sugars'].min(), df[df['nutriscore'] == 5]['sugars'].mean(), df[df['nutriscore'] == 5]['sugars'].std())"
      ],
      "execution_count": 13,
      "outputs": [
        {
          "output_type": "stream",
          "text": [
            "84.0 0.0 28.28348297213622 19.799645939333487\n",
            "100.0 0.0 15.136774294354842 18.257789857051566\n",
            "71.0 0.0 9.192344322344333 12.860959094292403\n",
            "67.0 0.0 5.066904999999999 8.28770104937318\n",
            "37.0 0.0 3.6324946727078844 4.473808247513058\n"
          ],
          "name": "stdout"
        }
      ]
    },
    {
      "cell_type": "code",
      "metadata": {
        "id": "Mx7YchmigtbM",
        "colab_type": "code",
        "outputId": "f3664f00-1a5c-4bac-ea04-30686160218f",
        "colab": {
          "base_uri": "https://localhost:8080/",
          "height": 108
        }
      },
      "source": [
        "print(df[df['nutriscore'] == 1]['fiber'].max(), df[df['nutriscore'] == 1]['fiber'].min(), df[df['nutriscore'] == 1]['fiber'].mean(), df[df['nutriscore'] == 1]['fiber'].std(), df[df['nutriscore'] == 1]['fiber'].mean() + df[df['nutriscore'] == 1]['fiber'].std())\n",
        "print(df[df['nutriscore'] == 2]['fiber'].max(), df[df['nutriscore'] == 2]['fiber'].min(), df[df['nutriscore'] == 2]['fiber'].mean(), df[df['nutriscore'] == 2]['fiber'].std(), df[df['nutriscore'] == 2]['fiber'].mean() + df[df['nutriscore'] == 2]['fiber'].std())\n",
        "print(df[df['nutriscore'] == 3]['fiber'].max(), df[df['nutriscore'] == 3]['fiber'].min(), df[df['nutriscore'] == 3]['fiber'].mean(), df[df['nutriscore'] == 3]['fiber'].std(), df[df['nutriscore'] == 3]['fiber'].mean() + df[df['nutriscore'] == 3]['fiber'].std())\n",
        "print(df[df['nutriscore'] == 4]['fiber'].max(), df[df['nutriscore'] == 4]['fiber'].min(), df[df['nutriscore'] == 4]['fiber'].mean(), df[df['nutriscore'] == 4]['fiber'].std(), df[df['nutriscore'] == 4]['fiber'].mean() + df[df['nutriscore'] == 4]['fiber'].std())\n",
        "print(df[df['nutriscore'] == 5]['fiber'].max(), df[df['nutriscore'] == 5]['fiber'].min(), df[df['nutriscore'] == 5]['fiber'].mean(), df[df['nutriscore'] == 5]['fiber'].std(), df[df['nutriscore'] == 5]['fiber'].mean() + df[df['nutriscore'] == 5]['fiber'].std())"
      ],
      "execution_count": 14,
      "outputs": [
        {
          "output_type": "stream",
          "text": [
            "23.0 0.0 2.2782352941176467 2.3985778694288107 4.676813163546457\n",
            "41.0 0.0 2.2508972782258043 3.0011460393133604 5.252043317539165\n",
            "27.0 0.0 2.4200708180708164 2.8043261462146223 5.224396964285439\n",
            "12.8 0.0 2.123516666666667 2.2188552598496574 4.342371926516325\n",
            "47.8 0.0 3.7477484008528803 4.160338401162896 7.908086802015776\n"
          ],
          "name": "stdout"
        }
      ]
    },
    {
      "cell_type": "code",
      "metadata": {
        "id": "sZNKf05xgtqS",
        "colab_type": "code",
        "outputId": "a70739d9-ab8e-475c-8d1b-2cd2d5fdc817",
        "colab": {
          "base_uri": "https://localhost:8080/",
          "height": 108
        }
      },
      "source": [
        "print(df[df['nutriscore'] == 1]['proteins'].max(), df[df['nutriscore'] == 1]['proteins'].min(), df[df['nutriscore'] == 1]['proteins'].mean(), df[df['nutriscore'] == 1]['proteins'].std(), df[df['nutriscore'] == 1]['proteins'].mean() + df[df['nutriscore'] == 1]['proteins'].std())\n",
        "print(df[df['nutriscore'] == 2]['proteins'].max(), df[df['nutriscore'] == 2]['proteins'].min(), df[df['nutriscore'] == 2]['proteins'].mean(), df[df['nutriscore'] == 2]['proteins'].std(), df[df['nutriscore'] == 2]['proteins'].mean() + df[df['nutriscore'] == 2]['proteins'].std())\n",
        "print(df[df['nutriscore'] == 3]['proteins'].max(), df[df['nutriscore'] == 3]['proteins'].min(), df[df['nutriscore'] == 3]['proteins'].mean(), df[df['nutriscore'] == 3]['proteins'].std(), df[df['nutriscore'] == 3]['proteins'].mean() + df[df['nutriscore'] == 3]['proteins'].std())\n",
        "print(df[df['nutriscore'] == 4]['proteins'].max(), df[df['nutriscore'] == 4]['proteins'].min(), df[df['nutriscore'] == 4]['proteins'].mean(), df[df['nutriscore'] == 4]['proteins'].std(), df[df['nutriscore'] == 4]['proteins'].mean() + df[df['nutriscore'] == 4]['proteins'].std())\n",
        "print(df[df['nutriscore'] == 5]['proteins'].max(), df[df['nutriscore'] == 5]['proteins'].min(), df[df['nutriscore'] == 5]['proteins'].mean(), df[df['nutriscore'] == 5]['proteins'].std(), df[df['nutriscore'] == 5]['proteins'].mean() + df[df['nutriscore'] == 5]['proteins'].std())"
      ],
      "execution_count": 15,
      "outputs": [
        {
          "output_type": "stream",
          "text": [
            "33.3 0.0 7.446687306501548 6.315374977154655 13.762062283656203\n",
            "41.0 0.0 10.000453629032265 8.349511444879901 18.349965073912166\n",
            "29.0 0.0 7.215140415140413 6.57354063669378 13.788681051834192\n",
            "27.0 0.0 6.515533333333333 5.512884472539595 12.028417805872927\n",
            "32.0 0.0 6.353315565031989 5.851187182951755 12.204502747983744\n"
          ],
          "name": "stdout"
        }
      ]
    },
    {
      "cell_type": "code",
      "metadata": {
        "id": "CK0_sRmrgt3t",
        "colab_type": "code",
        "outputId": "7ca6a99a-a4ee-4000-a533-63ab4c70968f",
        "colab": {
          "base_uri": "https://localhost:8080/",
          "height": 108
        }
      },
      "source": [
        "print(df[df['nutriscore'] == 1]['salt'].max(), df[df['nutriscore'] == 1]['salt'].min(), df[df['nutriscore'] == 1]['salt'].mean(), df[df['nutriscore'] == 1]['salt'].std())\n",
        "print(df[df['nutriscore'] == 2]['salt'].max(), df[df['nutriscore'] == 2]['salt'].min(), df[df['nutriscore'] == 2]['salt'].mean(), df[df['nutriscore'] == 2]['salt'].std())\n",
        "print(df[df['nutriscore'] == 3]['salt'].max(), df[df['nutriscore'] == 3]['salt'].min(), df[df['nutriscore'] == 3]['salt'].mean(), df[df['nutriscore'] == 3]['salt'].std())\n",
        "print(df[df['nutriscore'] == 4]['salt'].max(), df[df['nutriscore'] == 4]['salt'].min(), df[df['nutriscore'] == 4]['salt'].mean(), df[df['nutriscore'] == 4]['salt'].std())\n",
        "print(df[df['nutriscore'] == 5]['salt'].max(), df[df['nutriscore'] == 5]['salt'].min(), df[df['nutriscore'] == 5]['salt'].mean(), df[df['nutriscore'] == 5]['salt'].std())"
      ],
      "execution_count": 16,
      "outputs": [
        {
          "output_type": "stream",
          "text": [
            "8.0 0.0 0.3898036928792569 0.6396938718702941\n",
            "8.0 0.0 0.49610492491028246 0.5871957450532012\n",
            "19.52 0.0 0.4413781167277166 0.8477457611061571\n",
            "2.64 0.0 0.29509828533333354 0.2516661428052885\n",
            "5.2 0.0 0.15859644190831593 0.22964358363603268\n"
          ],
          "name": "stdout"
        }
      ]
    },
    {
      "cell_type": "code",
      "metadata": {
        "id": "JWW5jAot0EYS",
        "colab_type": "code",
        "colab": {}
      },
      "source": [
        "# Normalize the energy column\n",
        "df['energy'] = (df['energy']-min_energy) / (max_energy-min_energy)*100"
      ],
      "execution_count": 0,
      "outputs": []
    },
    {
      "cell_type": "markdown",
      "metadata": {
        "id": "qhTK6I5r4v5c",
        "colab_type": "text"
      },
      "source": [
        "# Split the dataset"
      ]
    },
    {
      "cell_type": "code",
      "metadata": {
        "id": "dMzo7akl40el",
        "colab_type": "code",
        "colab": {}
      },
      "source": [
        "features = ['energy', 'proteins', 'salt', 'fiber', 'saturated_fat', 'sugars']\n",
        "X = df[features]\n",
        "y = df[['nutriscore']]"
      ],
      "execution_count": 0,
      "outputs": []
    },
    {
      "cell_type": "code",
      "metadata": {
        "id": "cU6kl_Yl5FNi",
        "colab_type": "code",
        "colab": {}
      },
      "source": [
        "X_train, X_test, y_train, y_test = train_test_split(X, y, test_size=0.2, random_state=1)"
      ],
      "execution_count": 0,
      "outputs": []
    },
    {
      "cell_type": "code",
      "metadata": {
        "id": "tQMv6wWd5eK1",
        "colab_type": "code",
        "outputId": "8aeb1994-eae0-4ccd-9009-0f4a486085fd",
        "colab": {
          "base_uri": "https://localhost:8080/",
          "height": 126
        }
      },
      "source": [
        "df = X_train\n",
        "df['nutriscore'] = y_train['nutriscore']"
      ],
      "execution_count": 20,
      "outputs": [
        {
          "output_type": "stream",
          "text": [
            "/usr/local/lib/python3.6/dist-packages/ipykernel_launcher.py:2: SettingWithCopyWarning: \n",
            "A value is trying to be set on a copy of a slice from a DataFrame.\n",
            "Try using .loc[row_indexer,col_indexer] = value instead\n",
            "\n",
            "See the caveats in the documentation: http://pandas.pydata.org/pandas-docs/stable/user_guide/indexing.html#returning-a-view-versus-a-copy\n",
            "  \n"
          ],
          "name": "stderr"
        }
      ]
    },
    {
      "cell_type": "code",
      "metadata": {
        "id": "7qD7a4JXRYw3",
        "colab_type": "code",
        "outputId": "1e282333-2e93-40e4-d065-2bf653ffbaff",
        "colab": {
          "base_uri": "https://localhost:8080/",
          "height": 35
        }
      },
      "source": [
        "df.count()[0]"
      ],
      "execution_count": 21,
      "outputs": [
        {
          "output_type": "execute_result",
          "data": {
            "text/plain": [
              "3196"
            ]
          },
          "metadata": {
            "tags": []
          },
          "execution_count": 21
        }
      ]
    },
    {
      "cell_type": "code",
      "metadata": {
        "id": "WO7TNPPfRXrG",
        "colab_type": "code",
        "outputId": "bd045381-1892-4834-e074-ec7c04d8bd94",
        "colab": {
          "base_uri": "https://localhost:8080/",
          "height": 126
        }
      },
      "source": [
        "test_df = X_test\n",
        "test_df['nutriscore'] = y_test['nutriscore']"
      ],
      "execution_count": 22,
      "outputs": [
        {
          "output_type": "stream",
          "text": [
            "/usr/local/lib/python3.6/dist-packages/ipykernel_launcher.py:2: SettingWithCopyWarning: \n",
            "A value is trying to be set on a copy of a slice from a DataFrame.\n",
            "Try using .loc[row_indexer,col_indexer] = value instead\n",
            "\n",
            "See the caveats in the documentation: http://pandas.pydata.org/pandas-docs/stable/user_guide/indexing.html#returning-a-view-versus-a-copy\n",
            "  \n"
          ],
          "name": "stderr"
        }
      ]
    },
    {
      "cell_type": "code",
      "metadata": {
        "id": "i3FWxHUDRYMv",
        "colab_type": "code",
        "outputId": "2ffe7f30-78cf-479d-b11e-04b9961fd3a2",
        "colab": {
          "base_uri": "https://localhost:8080/",
          "height": 35
        }
      },
      "source": [
        "test_df.count()[0]"
      ],
      "execution_count": 23,
      "outputs": [
        {
          "output_type": "execute_result",
          "data": {
            "text/plain": [
              "799"
            ]
          },
          "metadata": {
            "tags": []
          },
          "execution_count": 23
        }
      ]
    },
    {
      "cell_type": "markdown",
      "metadata": {
        "id": "cif5nJPSY2K3",
        "colab_type": "text"
      },
      "source": [
        "# Formalize the problem"
      ]
    },
    {
      "cell_type": "code",
      "metadata": {
        "id": "fE0nSJUgY4Et",
        "colab_type": "code",
        "outputId": "a597e0d5-f07b-4dfb-c5c0-af568c88a35a",
        "colab": {
          "base_uri": "https://localhost:8080/",
          "height": 53
        }
      },
      "source": [
        "prob = LpProblem(\"The Nutriscore\", LpMinimize)"
      ],
      "execution_count": 24,
      "outputs": [
        {
          "output_type": "stream",
          "text": [
            "/usr/local/lib/python3.6/dist-packages/pulp/pulp.py:1137: UserWarning: Spaces are not permitted in the name. Converted to '_'\n",
            "  warnings.warn(\"Spaces are not permitted in the name. Converted to '_'\")\n"
          ],
          "name": "stderr"
        }
      ]
    },
    {
      "cell_type": "code",
      "metadata": {
        "id": "Sm7QBb3qarJg",
        "colab_type": "code",
        "colab": {}
      },
      "source": [
        "pi = []\n",
        "pi.append([\n",
        "           LpVariable('pi_1_energy', 0, 100),\n",
        "           LpVariable('pi_1_saturated_fat', 0, 100),\n",
        "           LpVariable('pi_1_sugars', 0, 100),\n",
        "           LpVariable('pi_1_fiber', 0, 100),\n",
        "           LpVariable('pi_1_proteins', 0, 100),\n",
        "           LpVariable('pi_1_salt', 0, 100),\n",
        "           ])\n",
        "pi.append([\n",
        "           LpVariable('pi_2_energy', 0, 100),\n",
        "           LpVariable('pi_2_saturated_fat', 0, 100),\n",
        "           LpVariable('pi_2_sugars', 0, 100),\n",
        "           LpVariable('pi_2_fiber', 0, 100),\n",
        "           LpVariable('pi_2_proteins', 0, 100),\n",
        "           LpVariable('pi_2_salt', 0, 100),\n",
        "           ])\n",
        "pi.append([\n",
        "           LpVariable('pi_3_energy', 0, 100),\n",
        "           LpVariable('pi_3_saturated_fat', 0, 100),\n",
        "           LpVariable('pi_3_sugars', 0, 100),\n",
        "           LpVariable('pi_3_fiber', 0, 100),\n",
        "           LpVariable('pi_3_proteins', 0, 100),\n",
        "           LpVariable('pi_3_salt', 0, 100),\n",
        "           ])\n",
        "pi.append([\n",
        "           LpVariable('pi_4_energy', 0, 100),\n",
        "           LpVariable('pi_4_saturated_fat', 0, 100),\n",
        "           LpVariable('pi_4_sugars', 0, 100),\n",
        "           LpVariable('pi_4_fiber', 0, 100),\n",
        "           LpVariable('pi_4_proteins', 0, 100),\n",
        "           LpVariable('pi_4_salt', 0, 100),\n",
        "           ])\n",
        "pi.append([\n",
        "           LpVariable('pi_5_energy', 0, 100),\n",
        "           LpVariable('pi_5_saturated_fat', 0, 100),\n",
        "           LpVariable('pi_5_sugars', 0, 100),\n",
        "           LpVariable('pi_5_fiber', 0, 100),\n",
        "           LpVariable('pi_5_proteins', 0, 100),\n",
        "           LpVariable('pi_5_salt', 0, 100),\n",
        "           ])\n",
        "pi.append([\n",
        "           LpVariable('pi_6_energy', 0, 100),\n",
        "           LpVariable('pi_6_saturated_fat', 0, 100),\n",
        "           LpVariable('pi_6_sugars', 0, 100),\n",
        "           LpVariable('pi_6_fiber', 0, 100),\n",
        "           LpVariable('pi_6_proteins', 0, 100),\n",
        "           LpVariable('pi_6_salt', 0, 100),\n",
        "           ])"
      ],
      "execution_count": 0,
      "outputs": []
    },
    {
      "cell_type": "code",
      "metadata": {
        "id": "RlKSkDwgd_fd",
        "colab_type": "code",
        "colab": {}
      },
      "source": [
        "# Error to minimize\n",
        "eps = {}\n",
        "\n",
        "for index, food in df.iterrows():\n",
        "  eps[index] = []\n",
        "\n",
        "  eps[index].append([\n",
        "            LpVariable('eps_' + str(index) + '_1_energy', 0, 100),\n",
        "            LpVariable('eps_' + str(index) + '_1_saturated_fat', 0, 100),\n",
        "            LpVariable('eps_' + str(index) + '_1_sugars', 0, 100),\n",
        "            LpVariable('eps_' + str(index) + '_1_fiber', 0, 100),\n",
        "            LpVariable('eps_' + str(index) + '_1_proteins', 0, 100),\n",
        "            LpVariable('eps_' + str(index) + '_1_salt', 0, 100),\n",
        "            ])\n",
        "  eps[index].append([\n",
        "            LpVariable('eps_' + str(index) + '_2_energy', 0, 100),\n",
        "            LpVariable('eps_' + str(index) + '_2_saturated_fat', 0, 100),\n",
        "            LpVariable('eps_' + str(index) + '_2_sugars', 0, 100),\n",
        "            LpVariable('eps_' + str(index) + '_2_fiber', 0, 100),\n",
        "            LpVariable('eps_' + str(index) + '_2_proteins', 0, 100),\n",
        "            LpVariable('eps_' + str(index) + '_2_salt', 0, 100),\n",
        "            ])\n",
        "  eps[index].append([\n",
        "            LpVariable('eps_' + str(index) + '_3_energy', 0, 100),\n",
        "            LpVariable('eps_' + str(index) + '_3_saturated_fat', 0, 100),\n",
        "            LpVariable('eps_' + str(index) + '_3_sugars', 0, 100),\n",
        "            LpVariable('eps_' + str(index) + '_3_fiber', 0, 100),\n",
        "            LpVariable('eps_' + str(index) + '_3_proteins', 0, 100),\n",
        "            LpVariable('eps_' + str(index) + '_3_salt', 0, 100),\n",
        "            ])\n",
        "  eps[index].append([\n",
        "            LpVariable('eps_' + str(index) + '_4_energy', 0, 100),\n",
        "            LpVariable('eps_' + str(index) + '_4_saturated_fat', 0, 100),\n",
        "            LpVariable('eps_' + str(index) + '_4_sugars', 0, 100),\n",
        "            LpVariable('eps_' + str(index) + '_4_fiber', 0, 100),\n",
        "            LpVariable('eps_' + str(index) + '_4_proteins', 0, 100),\n",
        "            LpVariable('eps_' + str(index) + '_4_salt', 0, 100),\n",
        "            ])\n",
        "  eps[index].append([\n",
        "            LpVariable('eps_' + str(index) + '_5_energy', 0, 100),\n",
        "            LpVariable('eps_' + str(index) + '_5_saturated_fat', 0, 100),\n",
        "            LpVariable('eps_' + str(index) + '_5_sugars', 0, 100),\n",
        "            LpVariable('eps_' + str(index) + '_5_fiber', 0, 100),\n",
        "            LpVariable('eps_' + str(index) + '_5_proteins', 0, 100),\n",
        "            LpVariable('eps_' + str(index) + '_5_salt', 0, 100),\n",
        "            ])\n",
        "  eps[index].append([\n",
        "            LpVariable('eps_' + str(index) + '_6_energy', 0, 100),\n",
        "            LpVariable('eps_' + str(index) + '_6_saturated_fat', 0, 100),\n",
        "            LpVariable('eps_' + str(index) + '_6_sugars', 0, 100),\n",
        "            LpVariable('eps_' + str(index) + '_6_fiber', 0, 100),\n",
        "            LpVariable('eps_' + str(index) + '_6_proteins', 0, 100),\n",
        "            LpVariable('eps_' + str(index) + '_6_salt', 0, 100),\n",
        "            ])"
      ],
      "execution_count": 0,
      "outputs": []
    },
    {
      "cell_type": "code",
      "metadata": {
        "id": "CfGpshBKepsw",
        "colab_type": "code",
        "colab": {}
      },
      "source": [
        "eps_flattened = list(itertools.chain.from_iterable(list(itertools.chain.from_iterable(eps.values()))))\n",
        "\n",
        "prob += lpSum(eps_flattened), \"Minimize the error in the thresholds\""
      ],
      "execution_count": 0,
      "outputs": []
    },
    {
      "cell_type": "code",
      "metadata": {
        "id": "4lyRGyecg0Ql",
        "colab_type": "code",
        "colab": {}
      },
      "source": [
        "for index, food in df.iterrows():\n",
        "  score = food['nutriscore']\n",
        "  pi_lower = score-1\n",
        "  pi_upper = score\n",
        "  prob += (food['energy'] <= pi[pi_lower][0] + eps[index][pi_lower][0])\n",
        "  prob += (food['energy'] >= pi[pi_upper][0] - eps[index][pi_upper][0])\n",
        "  prob += (food['saturated_fat'] <= pi[pi_lower][1] + eps[index][pi_lower][1])\n",
        "  prob += (food['saturated_fat'] >= pi[pi_upper][1] - eps[index][pi_upper][1])\n",
        "  prob += (food['sugars'] <= pi[pi_lower][2] + eps[index][pi_lower][2])\n",
        "  prob += (food['sugars'] >= pi[pi_upper][2] - eps[index][pi_upper][2])\n",
        "  prob += (food['fiber'] >= pi[pi_lower][3] - eps[index][pi_lower][3])\n",
        "  prob += (food['fiber'] <= pi[pi_upper][3] + eps[index][pi_upper][3])\n",
        "  prob += (food['proteins'] >= pi[pi_lower][4] - eps[index][pi_lower][4])\n",
        "  prob += (food['proteins'] <= pi[pi_upper][4] + eps[index][pi_upper][4])\n",
        "  prob += (food['salt'] <= pi[pi_lower][5] + eps[index][pi_lower][5])\n",
        "  prob += (food['salt'] >= pi[pi_upper][5] - eps[index][pi_upper][5])"
      ],
      "execution_count": 0,
      "outputs": []
    },
    {
      "cell_type": "code",
      "metadata": {
        "id": "6aZ9yiM8inL1",
        "colab_type": "code",
        "colab": {}
      },
      "source": [
        "prob += (pi[0][0] == 100)\n",
        "prob += (pi[0][1] == 100)\n",
        "prob += (pi[0][2] == 100)\n",
        "prob += (pi[0][3] == 0)\n",
        "prob += (pi[0][4] == 0)\n",
        "prob += (pi[0][5] == 100)\n",
        "\n",
        "prob += (pi[5][0] == 0)\n",
        "prob += (pi[5][1] == 0)\n",
        "prob += (pi[5][2] == 0)\n",
        "prob += (pi[5][3] == 100)\n",
        "prob += (pi[5][4] == 100)\n",
        "prob += (pi[5][5] == 0)"
      ],
      "execution_count": 0,
      "outputs": []
    },
    {
      "cell_type": "code",
      "metadata": {
        "id": "XDJURtN5jblE",
        "colab_type": "code",
        "colab": {}
      },
      "source": [
        "prob += (pi[0][0] >= pi[1][0]+1)\n",
        "prob += (pi[1][0] >= pi[2][0]+1)\n",
        "prob += (pi[2][0] >= pi[3][0]+1)\n",
        "prob += (pi[3][0] >= pi[4][0]+1)\n",
        "prob += (pi[4][0] >= pi[5][0]+1)\n",
        "\n",
        "prob += (pi[0][1] >= pi[1][1]+1)\n",
        "prob += (pi[1][1] >= pi[2][1]+1)\n",
        "prob += (pi[2][1] >= pi[3][1]+1)\n",
        "prob += (pi[3][1] >= pi[4][1]+1)\n",
        "prob += (pi[4][1] >= pi[5][1]+1)\n",
        "\n",
        "prob += (pi[0][2] >= pi[1][2]+1)\n",
        "prob += (pi[1][2] >= pi[2][2]+1)\n",
        "prob += (pi[2][2] >= pi[3][2]+1)\n",
        "prob += (pi[3][2] >= pi[4][2]+1)\n",
        "prob += (pi[4][2] >= pi[5][2]+1)\n",
        "\n",
        "prob += (pi[0][3] <= pi[1][3]-1)\n",
        "prob += (pi[1][3] <= pi[2][3]-1)\n",
        "prob += (pi[2][3] <= pi[3][3]-1)\n",
        "prob += (pi[3][3] <= pi[4][3]-1)\n",
        "prob += (pi[4][3] <= pi[5][3]-1)\n",
        "\n",
        "prob += (pi[0][4] <= pi[1][4]-1)\n",
        "prob += (pi[1][4] <= pi[2][4]-1)\n",
        "prob += (pi[2][4] <= pi[3][4]-1)\n",
        "prob += (pi[3][4] <= pi[4][4]-1)\n",
        "prob += (pi[4][4] <= pi[5][4]-1)\n",
        "\n",
        "prob += (pi[0][5] >= pi[1][5]+1)\n",
        "prob += (pi[1][5] >= pi[2][5]+1)\n",
        "prob += (pi[2][5] >= pi[3][5]+1)\n",
        "prob += (pi[3][5] >= pi[4][5]+1)\n",
        "prob += (pi[4][5] >= pi[5][5]+1)"
      ],
      "execution_count": 0,
      "outputs": []
    },
    {
      "cell_type": "code",
      "metadata": {
        "id": "2_yeoT6OigEq",
        "colab_type": "code",
        "outputId": "43f8df43-2db8-45f8-ad5e-f307e6599f2b",
        "colab": {
          "base_uri": "https://localhost:8080/",
          "height": 35
        }
      },
      "source": [
        "prob.solve()\n",
        "print(\"Status:\", LpStatus[prob.status])"
      ],
      "execution_count": 31,
      "outputs": [
        {
          "output_type": "stream",
          "text": [
            "Status: Optimal\n"
          ],
          "name": "stdout"
        }
      ]
    },
    {
      "cell_type": "code",
      "metadata": {
        "id": "wj3fe14Kl-uK",
        "colab_type": "code",
        "colab": {}
      },
      "source": [
        "# # Each of the variables is printed with it's resolved optimum value\n",
        "# for v in prob.variables():\n",
        "#     print(v.name, \"=\", v.varValue)a"
      ],
      "execution_count": 0,
      "outputs": []
    },
    {
      "cell_type": "code",
      "metadata": {
        "id": "HbuDxYKt2qDH",
        "colab_type": "code",
        "colab": {}
      },
      "source": [
        "pi_lp = pi\n",
        "pi = [[var.value() for var in p] for p in pi_lp]"
      ],
      "execution_count": 0,
      "outputs": []
    },
    {
      "cell_type": "code",
      "metadata": {
        "id": "3ggshEXU3bVS",
        "colab_type": "code",
        "colab": {}
      },
      "source": [
        "pi = np.array(pi)"
      ],
      "execution_count": 0,
      "outputs": []
    },
    {
      "cell_type": "code",
      "metadata": {
        "id": "Lju1KxSZ3kDr",
        "colab_type": "code",
        "colab": {}
      },
      "source": [
        "# rescaling the energy\n",
        "pi[:,0] = pi[:,0]/100 * (max_energy-min_energy)"
      ],
      "execution_count": 0,
      "outputs": []
    },
    {
      "cell_type": "code",
      "metadata": {
        "id": "Vu88ZGrO3_u5",
        "colab_type": "code",
        "outputId": "6d6d2c09-b375-4b58-b708-8a27245b41e9",
        "colab": {
          "base_uri": "https://localhost:8080/",
          "height": 235
        }
      },
      "source": [
        "pi"
      ],
      "execution_count": 36,
      "outputs": [
        {
          "output_type": "execute_result",
          "data": {
            "text/plain": [
              "array([[7.51000000e+03, 1.00000000e+02, 1.00000000e+02, 0.00000000e+00,\n",
              "        0.00000000e+00, 1.00000000e+02],\n",
              "       [1.87399996e+03, 1.11000000e+01, 2.40000000e+01, 1.00000000e+00,\n",
              "        5.00000000e+00, 4.00000000e+00],\n",
              "       [1.04999999e+03, 3.10000000e+00, 4.10000000e+00, 2.00000000e+00,\n",
              "        6.00000000e+00, 3.00000000e+00],\n",
              "       [6.69100003e+02, 2.00000000e+00, 3.10000000e+00, 3.00000000e+00,\n",
              "        7.00000000e+00, 2.00000000e+00],\n",
              "       [5.94000003e+02, 1.00000000e+00, 2.10000000e+00, 4.00000000e+00,\n",
              "        8.00000000e+00, 1.00000000e+00],\n",
              "       [0.00000000e+00, 0.00000000e+00, 0.00000000e+00, 1.00000000e+02,\n",
              "        1.00000000e+02, 0.00000000e+00]])"
            ]
          },
          "metadata": {
            "tags": []
          },
          "execution_count": 36
        }
      ]
    },
    {
      "cell_type": "markdown",
      "metadata": {
        "id": "VnkhHxvn6IoT",
        "colab_type": "text"
      },
      "source": [
        "# Testing"
      ]
    },
    {
      "cell_type": "code",
      "metadata": {
        "id": "lDzs95R2Qxi_",
        "colab_type": "code",
        "outputId": "38d8588d-2cc5-4b12-c1d0-3ccb0bdcf2f7",
        "colab": {
          "base_uri": "https://localhost:8080/",
          "height": 126
        }
      },
      "source": [
        "test_df['energy'] = test_df['energy']/100 * (max_energy-min_energy)"
      ],
      "execution_count": 37,
      "outputs": [
        {
          "output_type": "stream",
          "text": [
            "/usr/local/lib/python3.6/dist-packages/ipykernel_launcher.py:1: SettingWithCopyWarning: \n",
            "A value is trying to be set on a copy of a slice from a DataFrame.\n",
            "Try using .loc[row_indexer,col_indexer] = value instead\n",
            "\n",
            "See the caveats in the documentation: http://pandas.pydata.org/pandas-docs/stable/user_guide/indexing.html#returning-a-view-versus-a-copy\n",
            "  \"\"\"Entry point for launching an IPython kernel.\n"
          ],
          "name": "stderr"
        }
      ]
    },
    {
      "cell_type": "code",
      "metadata": {
        "id": "YK7jsjrK68tt",
        "colab_type": "code",
        "colab": {}
      },
      "source": [
        "def predict(food, pi):\n",
        "  w = 1/6\n",
        "  thresh = 0.5\n",
        "  starting_index = 0\n",
        "  ending_index = len(pi)-1\n",
        "  \n",
        "  max_score = 0\n",
        "  max_index = starting_index\n",
        "  \n",
        "  i = starting_index\n",
        "  while (i < ending_index):\n",
        "    index = i\n",
        "    adj_index = index+1\n",
        "\n",
        "    score = 0\n",
        "    if (food['energy'] >= pi[adj_index][0] and food['energy'] <= pi[index][0]):\n",
        "        score += w\n",
        "    if (food['saturated_fat'] >= pi[adj_index][1] and food['saturated_fat'] <= pi[index][1]):\n",
        "        score += w\n",
        "    if (food['sugars'] >= pi[adj_index][2] and food['sugars'] <= pi[index][2]):\n",
        "        score += w\n",
        "    if (food['fiber'] <= pi[adj_index][3] and food['fiber'] >= pi[index][3]):\n",
        "        score += w\n",
        "    if (food['proteins'] <= pi[adj_index][4] and food['proteins'] >= pi[index][4]):\n",
        "        score += w\n",
        "    if (food['salt'] >= pi[adj_index][5] and food['salt'] <= pi[index][5]):\n",
        "        score += w\n",
        "      \n",
        "    if score > max_score:\n",
        "      max_score = score\n",
        "      max_index = index\n",
        "    i += 1\n",
        "  \n",
        "  return max_index+1"
      ],
      "execution_count": 0,
      "outputs": []
    },
    {
      "cell_type": "code",
      "metadata": {
        "id": "n4mhFzHa6Sd1",
        "colab_type": "code",
        "colab": {}
      },
      "source": [
        "y_pred = []\n",
        "\n",
        "for index, food in test_df.iterrows():\n",
        "  pred = predict(food, pi)\n",
        "  y_pred.append(pred)"
      ],
      "execution_count": 0,
      "outputs": []
    },
    {
      "cell_type": "code",
      "metadata": {
        "id": "1769RZMdEjiR",
        "colab_type": "code",
        "outputId": "80314ed6-3985-4727-d732-516a29894929",
        "colab": {
          "base_uri": "https://localhost:8080/",
          "height": 35
        }
      },
      "source": [
        "(test_df['nutriscore'] == y_pred).mean()"
      ],
      "execution_count": 40,
      "outputs": [
        {
          "output_type": "execute_result",
          "data": {
            "text/plain": [
              "0.4355444305381727"
            ]
          },
          "metadata": {
            "tags": []
          },
          "execution_count": 40
        }
      ]
    },
    {
      "cell_type": "code",
      "metadata": {
        "id": "jDRZfnhgD32f",
        "colab_type": "code",
        "outputId": "3611c82f-012f-4dcc-ca57-5c82dcf1229c",
        "colab": {
          "base_uri": "https://localhost:8080/",
          "height": 1000
        }
      },
      "source": [
        "plt.rcParams[\"figure.figsize\"] = [12,9]\n",
        "\n",
        "cm = confusion_matrix(list(test_df['nutriscore']), y_pred, labels=[1,2,3,4,5])\n",
        "\n",
        "labels = ['A','B','C','D','E']\n",
        "\n",
        "fig = plt.figure()\n",
        "ax = fig.add_subplot(111)\n",
        "cax = ax.matshow(cm)\n",
        "plt.title('Confusion matrix, without normalization')\n",
        "fig.colorbar(cax)\n",
        "ax.set_xticklabels([''] + labels)\n",
        "ax.set_yticklabels([''] + labels)\n",
        "plt.xlabel('Predicted label')\n",
        "plt.ylabel('True label')\n",
        "plt.savefig('confusion_matrix_mrsort_auto.jpg')\n",
        "\n",
        "cm_norm = cm.astype('float') / cm.sum(axis=1)[:, np.newaxis]\n",
        "\n",
        "fig = plt.figure()\n",
        "ax = fig.add_subplot(111)\n",
        "cax = ax.matshow(cm_norm)\n",
        "plt.title('Normalized confusion matrix')\n",
        "fig.colorbar(cax)\n",
        "ax.set_xticklabels([''] + labels)\n",
        "ax.set_yticklabels([''] + labels)\n",
        "plt.xlabel('Predicted label')\n",
        "plt.ylabel('True label')\n",
        "plt.savefig('confusion_matrix_norm_mrsort_auto.jpg')"
      ],
      "execution_count": 41,
      "outputs": [
        {
          "output_type": "display_data",
          "data": {
            "image/png": "[encoded data removed]",
            "text/plain": [
              "<Figure size 864x648 with 2 Axes>"
            ]
          },
          "metadata": {
            "tags": []
          }
        },
        {
          "output_type": "display_data",
          "data": {
            "image/png": "[encoded data removed]",
            "text/plain": [
              "<Figure size 864x648 with 2 Axes>"
            ]
          },
          "metadata": {
            "tags": []
          }
        }
      ]
    },
    {
      "cell_type": "markdown",
      "metadata": {
        "id": "xD_Pmk43FaTx",
        "colab_type": "text"
      },
      "source": [
        "# Set the thesholds of the model manually"
      ]
    },
    {
      "cell_type": "code",
      "metadata": {
        "id": "a8WXfnaFFpxx",
        "colab_type": "code",
        "colab": {}
      },
      "source": [
        "pi_2 = np.array([\n",
        "                 [7510, 100, 100, 0, 0, 100],\n",
        "                 [2009.9287999838757, 13.665507455827129, 33.394564151406406, 4.6768, 13.762, 2],\n",
        "                 [1663.6701553788262, 7.0429976703970345, 22.053303416636737, 5.252, 18.3499, 1.2891238778338736],\n",
        "                 [1446, 2.491991002779214, 13.354606049373178, 5.3, 19, 0.546764428138622],\n",
        "                 [1205.146460873095, 1.1531811366411016, 8.106302920220942, 5.4, 20, 0.3882400255443486],\n",
        "                 [0, 0, 0, 100, 100, 0]\n",
        "])\n",
        "\n",
        "# pi_2 = np.array([\n",
        "#                  [7510, 100, 100, 0, 0, 100],\n",
        "#                  [3698, 42, 100, 41, 41, 8],\n",
        "#                  [3464, 60, 71, 27.0, 29, 19.52],\n",
        "#                  [2920, 8.9, 67, 12.8, 27, 2.64],\n",
        "#                  [2575, 6.2, 37, 47.8, 32, 5.2],\n",
        "#                  [0, 0, 0, 100, 100, 0]\n",
        "# ])"
      ],
      "execution_count": 0,
      "outputs": []
    },
    {
      "cell_type": "code",
      "metadata": {
        "id": "3v_x780UWBff",
        "colab_type": "code",
        "colab": {}
      },
      "source": [
        "# pi_3 = np.array([\n",
        "#                  [7510, 100, 100, 0, 0, 100],\n",
        "#                  [2009.9287999838757, 13.665507455827129, 33.394564151406406, 11, 12.5, 4],\n",
        "#                  [1663.6701553788262, 7.0429976703970345, 22.053303416636737, 12.5, 13.5, 3],\n",
        "#                  [1446, 2.491991002779214, 13.354606049373178, 13.5, 14.5, 2],\n",
        "#                  [1205.146460873095, 1.1531811366411016, 8.106302920220942, 14.5, 15.5, 1],\n",
        "#                  [0, 0, 0, 100, 100, 0]\n",
        "# ])\n",
        "\n",
        "# pi_3 = np.array([\n",
        "#                  [7510, 100, 100, 0, 0, 100],\n",
        "#                  [1907, 21, 50, 4.6768, 13.762, 2],\n",
        "#                  [1732, 20, 35.5, 5.252, 18.3499, 1.2891238778338736],\n",
        "#                  [1460, 4.45, 33.5, 5.3, 19, 0.546764428138622],\n",
        "#                  [1287, 3.1, 18.5, 5.4, 20, 0.3882400255443486],\n",
        "#                  [0, 0, 0, 100, 100, 0]\n",
        "# ])"
      ],
      "execution_count": 0,
      "outputs": []
    },
    {
      "cell_type": "code",
      "metadata": {
        "id": "r8op2iLfF-y9",
        "colab_type": "code",
        "colab": {}
      },
      "source": [
        "y_pred = []\n",
        "\n",
        "for index, food in test_df.iterrows():\n",
        "  pred = predict(food, pi_2)\n",
        "  y_pred.append(pred)"
      ],
      "execution_count": 0,
      "outputs": []
    },
    {
      "cell_type": "code",
      "metadata": {
        "colab_type": "code",
        "id": "4GwCYf-LHdC3",
        "outputId": "6380444f-ed61-4bf1-9656-8aa5196cb8b4",
        "colab": {
          "base_uri": "https://localhost:8080/",
          "height": 35
        }
      },
      "source": [
        "(test_df['nutriscore'] == y_pred).mean()"
      ],
      "execution_count": 45,
      "outputs": [
        {
          "output_type": "execute_result",
          "data": {
            "text/plain": [
              "0.3854818523153942"
            ]
          },
          "metadata": {
            "tags": []
          },
          "execution_count": 45
        }
      ]
    },
    {
      "cell_type": "code",
      "metadata": {
        "colab_type": "code",
        "outputId": "71fb985c-7b02-4088-9d68-5eb1ac6c2df3",
        "id": "CBNOF4ueHdC0",
        "colab": {
          "base_uri": "https://localhost:8080/",
          "height": 1000
        }
      },
      "source": [
        "plt.rcParams[\"figure.figsize\"] = [12,9]\n",
        "\n",
        "cm = confusion_matrix(list(test_df['nutriscore']), y_pred, labels=[1,2,3,4,5])\n",
        "\n",
        "labels = ['A','B','C','D','E']\n",
        "\n",
        "fig = plt.figure()\n",
        "ax = fig.add_subplot(111)\n",
        "cax = ax.matshow(cm)\n",
        "plt.title('Confusion matrix, without normalization')\n",
        "fig.colorbar(cax)\n",
        "ax.set_xticklabels([''] + labels)\n",
        "ax.set_yticklabels([''] + labels)\n",
        "plt.xlabel('Predicted label')\n",
        "plt.ylabel('True label')\n",
        "plt.savefig('confusion_matrix_mrsort_manual.jpg')\n",
        "\n",
        "cm_norm = cm.astype('float') / cm.sum(axis=1)[:, np.newaxis]\n",
        "\n",
        "fig = plt.figure()\n",
        "ax = fig.add_subplot(111)\n",
        "cax = ax.matshow(cm_norm)\n",
        "plt.title('Normalized confusion matrix')\n",
        "fig.colorbar(cax)\n",
        "ax.set_xticklabels([''] + labels)\n",
        "ax.set_yticklabels([''] + labels)\n",
        "plt.xlabel('Predicted label')\n",
        "plt.ylabel('True label')\n",
        "plt.savefig('confusion_matrix_norm_mrsort_manual.jpg')"
      ],
      "execution_count": 46,
      "outputs": [
        {
          "output_type": "display_data",
          "data": {
            "image/png": "[encoded data removed]",
            "text/plain": [
              "<Figure size 864x648 with 2 Axes>"
            ]
          },
          "metadata": {
            "tags": []
          }
        },
        {
          "output_type": "display_data",
          "data": {
            "image/png": "[encoded data removed]",
            "text/plain": [
              "<Figure size 864x648 with 2 Axes>"
            ]
          },
          "metadata": {
            "tags": []
          }
        }
      ]
    }
  ]
}